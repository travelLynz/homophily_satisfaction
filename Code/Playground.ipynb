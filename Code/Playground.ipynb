{
 "cells": [
  {
   "cell_type": "code",
   "execution_count": 1,
   "metadata": {},
   "outputs": [],
   "source": [
    "%load_ext autoreload\n",
    "%autoreload 2\n",
    "import os\n",
    "import glob\n",
    "import pandas as pd\n",
    "import numpy as np\n",
    "import time\n",
    "pd.options.display.max_columns = 999\n",
    "#pd.options.display.max_rows = 100\n",
    "import settings as s\n",
    "import images as im"
   ]
  },
  {
   "cell_type": "markdown",
   "metadata": {},
   "source": [
    "# Updates Guest ID list - where stopped"
   ]
  },
  {
   "cell_type": "code",
   "execution_count": 71,
   "metadata": {},
   "outputs": [
    {
     "name": "stdout",
     "output_type": "stream",
     "text": [
      "Saving Files\n",
      "Done\n"
     ]
    }
   ],
   "source": [
    "im.update_list(239, os.path.join('/Users/lynraybarends/eclipse-workspace/airbnb-info-host', 'guestID.csv'))"
   ]
  },
  {
   "cell_type": "code",
   "execution_count": 72,
   "metadata": {},
   "outputs": [
    {
     "name": "stdout",
     "output_type": "stream",
     "text": [
      "Saving Files\n",
      "Done\n"
     ]
    }
   ],
   "source": [
    "im.update_list(132000, 'LiciaGIoGuestPics.csv')"
   ]
  },
  {
   "cell_type": "markdown",
   "metadata": {},
   "source": [
    "# Get HostIDs relevant to guests"
   ]
  },
  {
   "cell_type": "markdown",
   "metadata": {},
   "source": [
    "### Get Reviews"
   ]
  },
  {
   "cell_type": "code",
   "execution_count": 67,
   "metadata": {},
   "outputs": [],
   "source": [
    "reviews = pd.read_csv(os.path.join(s.DATA_DIR, 'filtered/reviews.csv'), index_col=0)"
   ]
  },
  {
   "cell_type": "markdown",
   "metadata": {},
   "source": [
    "### Get Guests"
   ]
  },
  {
   "cell_type": "code",
   "execution_count": 4,
   "metadata": {},
   "outputs": [],
   "source": [
    "guests = pd.read_csv(os.path.join(s.DATA_DIR, 'filtered/guests.csv'), index_col=0)"
   ]
  },
  {
   "cell_type": "code",
   "execution_count": 5,
   "metadata": {},
   "outputs": [
    {
     "data": {
      "text/html": [
       "<div>\n",
       "<style>\n",
       "    .dataframe thead tr:only-child th {\n",
       "        text-align: right;\n",
       "    }\n",
       "\n",
       "    .dataframe thead th {\n",
       "        text-align: left;\n",
       "    }\n",
       "\n",
       "    .dataframe tbody tr th {\n",
       "        vertical-align: top;\n",
       "    }\n",
       "</style>\n",
       "<table border=\"1\" class=\"dataframe\">\n",
       "  <thead>\n",
       "    <tr style=\"text-align: right;\">\n",
       "      <th></th>\n",
       "      <th>idGuest</th>\n",
       "      <th>id</th>\n",
       "      <th>name</th>\n",
       "      <th>city</th>\n",
       "      <th>membershipDate</th>\n",
       "      <th>superhost</th>\n",
       "      <th>verified</th>\n",
       "      <th>description</th>\n",
       "      <th>linkedAccountVerified</th>\n",
       "      <th>schoolInfo</th>\n",
       "      <th>jobInfo</th>\n",
       "      <th>languages</th>\n",
       "      <th>reviewNumber</th>\n",
       "      <th>guideNumber</th>\n",
       "      <th>whishListNumber</th>\n",
       "    </tr>\n",
       "  </thead>\n",
       "  <tbody>\n",
       "    <tr>\n",
       "      <th>0</th>\n",
       "      <td>1</td>\n",
       "      <td>66056138</td>\n",
       "      <td>Blake</td>\n",
       "      <td>Lake Forest, Illinois, Stati Uniti</td>\n",
       "      <td>aprile 2016</td>\n",
       "      <td>false</td>\n",
       "      <td>true</td>\n",
       "      <td>Hi! I’m Blake. I’m a really easy going guy who...</td>\n",
       "      <td>[Documento d'Identità Ufficiale ,  Selfie ,  I...</td>\n",
       "      <td>null</td>\n",
       "      <td>null</td>\n",
       "      <td>null</td>\n",
       "      <td>20.0</td>\n",
       "      <td>0.0</td>\n",
       "      <td>0.0</td>\n",
       "    </tr>\n",
       "    <tr>\n",
       "      <th>26</th>\n",
       "      <td>27</td>\n",
       "      <td>110890166</td>\n",
       "      <td>Caitlin</td>\n",
       "      <td>Thornbury, Australia</td>\n",
       "      <td>gennaio 2017</td>\n",
       "      <td>false</td>\n",
       "      <td>true</td>\n",
       "      <td>NaN</td>\n",
       "      <td>[Documento d'Identità Ufficiale ,  Indirizzo e...</td>\n",
       "      <td>Australian</td>\n",
       "      <td>null</td>\n",
       "      <td>null</td>\n",
       "      <td>11.0</td>\n",
       "      <td>0.0</td>\n",
       "      <td>3.0</td>\n",
       "    </tr>\n",
       "  </tbody>\n",
       "</table>\n",
       "</div>"
      ],
      "text/plain": [
       "    idGuest         id     name                                 city  \\\n",
       "0         1   66056138    Blake  Lake Forest, Illinois, Stati Uniti    \n",
       "26       27  110890166  Caitlin                Thornbury, Australia    \n",
       "\n",
       "   membershipDate superhost verified  \\\n",
       "0     aprile 2016     false     true   \n",
       "26   gennaio 2017     false     true   \n",
       "\n",
       "                                          description  \\\n",
       "0   Hi! I’m Blake. I’m a really easy going guy who...   \n",
       "26                                                NaN   \n",
       "\n",
       "                                linkedAccountVerified  schoolInfo jobInfo  \\\n",
       "0   [Documento d'Identità Ufficiale ,  Selfie ,  I...        null    null   \n",
       "26  [Documento d'Identità Ufficiale ,  Indirizzo e...  Australian    null   \n",
       "\n",
       "   languages  reviewNumber  guideNumber  whishListNumber  \n",
       "0       null          20.0          0.0              0.0  \n",
       "26      null          11.0          0.0              3.0  "
      ]
     },
     "execution_count": 5,
     "metadata": {},
     "output_type": "execute_result"
    }
   ],
   "source": [
    "guests.head(2)"
   ]
  },
  {
   "cell_type": "code",
   "execution_count": 6,
   "metadata": {},
   "outputs": [],
   "source": [
    "guest_ids = set(guests['id'])"
   ]
  },
  {
   "cell_type": "markdown",
   "metadata": {},
   "source": [
    "### Get and Save HostIDs"
   ]
  },
  {
   "cell_type": "code",
   "execution_count": 8,
   "metadata": {},
   "outputs": [],
   "source": [
    "rel_reviews = reviews[reviews['reviewer_id'].isin(guest_ids)]"
   ]
  },
  {
   "cell_type": "code",
   "execution_count": 9,
   "metadata": {},
   "outputs": [
    {
     "data": {
      "text/html": [
       "<div>\n",
       "<style>\n",
       "    .dataframe thead tr:only-child th {\n",
       "        text-align: right;\n",
       "    }\n",
       "\n",
       "    .dataframe thead th {\n",
       "        text-align: left;\n",
       "    }\n",
       "\n",
       "    .dataframe tbody tr th {\n",
       "        vertical-align: top;\n",
       "    }\n",
       "</style>\n",
       "<table border=\"1\" class=\"dataframe\">\n",
       "  <thead>\n",
       "    <tr style=\"text-align: right;\">\n",
       "      <th></th>\n",
       "      <th>idReview</th>\n",
       "      <th>id</th>\n",
       "      <th>date</th>\n",
       "      <th>reviewer_id</th>\n",
       "      <th>listing_id</th>\n",
       "      <th>recipient_id</th>\n",
       "      <th>comments</th>\n",
       "    </tr>\n",
       "  </thead>\n",
       "  <tbody>\n",
       "    <tr>\n",
       "      <th>4</th>\n",
       "      <td>5</td>\n",
       "      <td>2175</td>\n",
       "      <td>2009-05-09</td>\n",
       "      <td>7048</td>\n",
       "      <td>2515</td>\n",
       "      <td>2758</td>\n",
       "      <td>Stephanie was really nice, ftiendly and helpfu...</td>\n",
       "    </tr>\n",
       "    <tr>\n",
       "      <th>52</th>\n",
       "      <td>53</td>\n",
       "      <td>519749</td>\n",
       "      <td>2011-09-11</td>\n",
       "      <td>379695</td>\n",
       "      <td>2515</td>\n",
       "      <td>2758</td>\n",
       "      <td>The room was nice and clean and conformed exac...</td>\n",
       "    </tr>\n",
       "    <tr>\n",
       "      <th>187</th>\n",
       "      <td>195</td>\n",
       "      <td>69547296</td>\n",
       "      <td>2016-04-11</td>\n",
       "      <td>16512817</td>\n",
       "      <td>2595</td>\n",
       "      <td>2845</td>\n",
       "      <td>Jennifer was an unbelievable host! Great commu...</td>\n",
       "    </tr>\n",
       "    <tr>\n",
       "      <th>196</th>\n",
       "      <td>204</td>\n",
       "      <td>223658531</td>\n",
       "      <td>2018-01-01</td>\n",
       "      <td>66056138</td>\n",
       "      <td>2595</td>\n",
       "      <td>2845</td>\n",
       "      <td>Great place. Would definitely recommend! Jenni...</td>\n",
       "    </tr>\n",
       "    <tr>\n",
       "      <th>203</th>\n",
       "      <td>441</td>\n",
       "      <td>22938</td>\n",
       "      <td>2010-01-03</td>\n",
       "      <td>61471</td>\n",
       "      <td>4989</td>\n",
       "      <td>7118</td>\n",
       "      <td>Good location - easy access to Times Square an...</td>\n",
       "    </tr>\n",
       "  </tbody>\n",
       "</table>\n",
       "</div>"
      ],
      "text/plain": [
       "     idReview         id        date  reviewer_id  listing_id  recipient_id  \\\n",
       "4           5       2175  2009-05-09         7048        2515          2758   \n",
       "52         53     519749  2011-09-11       379695        2515          2758   \n",
       "187       195   69547296  2016-04-11     16512817        2595          2845   \n",
       "196       204  223658531  2018-01-01     66056138        2595          2845   \n",
       "203       441      22938  2010-01-03        61471        4989          7118   \n",
       "\n",
       "                                              comments  \n",
       "4    Stephanie was really nice, ftiendly and helpfu...  \n",
       "52   The room was nice and clean and conformed exac...  \n",
       "187  Jennifer was an unbelievable host! Great commu...  \n",
       "196  Great place. Would definitely recommend! Jenni...  \n",
       "203  Good location - easy access to Times Square an...  "
      ]
     },
     "execution_count": 9,
     "metadata": {},
     "output_type": "execute_result"
    }
   ],
   "source": [
    "rel_reviews.head()"
   ]
  },
  {
   "cell_type": "code",
   "execution_count": 12,
   "metadata": {},
   "outputs": [],
   "source": [
    "host_ids = set(rel_reviews['recipient_id'])"
   ]
  },
  {
   "cell_type": "code",
   "execution_count": 13,
   "metadata": {},
   "outputs": [
    {
     "data": {
      "text/plain": [
       "2334"
      ]
     },
     "execution_count": 13,
     "metadata": {},
     "output_type": "execute_result"
    }
   ],
   "source": [
    "len(host_ids)"
   ]
  },
  {
   "cell_type": "code",
   "execution_count": 15,
   "metadata": {},
   "outputs": [],
   "source": [
    "hosts = pd.DataFrame({'id':list(host_ids)})"
   ]
  },
  {
   "cell_type": "code",
   "execution_count": 16,
   "metadata": {},
   "outputs": [],
   "source": [
    "hosts.to_csv(os.path.join(s.SCRAPER_DIR, 'img/hostIDs.csv'), index=False)"
   ]
  },
  {
   "cell_type": "markdown",
   "metadata": {},
   "source": [
    "# Cut List"
   ]
  },
  {
   "cell_type": "code",
   "execution_count": 74,
   "metadata": {},
   "outputs": [
    {
     "name": "stdout",
     "output_type": "stream",
     "text": [
      "Saving Files\n",
      "Done\n"
     ]
    }
   ],
   "source": [
    "import utils\n",
    "utils.cut_list(9668,'../../scraper/reviews.csv')"
   ]
  },
  {
   "cell_type": "code",
   "execution_count": 75,
   "metadata": {},
   "outputs": [
    {
     "name": "stdout",
     "output_type": "stream",
     "text": [
      "Saving Files\n",
      "Done\n"
     ]
    }
   ],
   "source": [
    "import utils\n",
    "utils.cut_list(40000,'rest.csv')"
   ]
  },
  {
   "cell_type": "markdown",
   "metadata": {},
   "source": [
    "# Text Cat "
   ]
  },
  {
   "cell_type": "code",
   "execution_count": 2,
   "metadata": {},
   "outputs": [],
   "source": [
    "import nltk\n",
    "import nltk.classify.textcat as tc\n",
    "#nltk.download()"
   ]
  },
  {
   "cell_type": "code",
   "execution_count": null,
   "metadata": {},
   "outputs": [],
   "source": [
    "t = tc.TextCat()"
   ]
  },
  {
   "cell_type": "code",
   "execution_count": 9,
   "metadata": {},
   "outputs": [
    {
     "name": "stdout",
     "output_type": "stream",
     "text": [
      "1.67 s ± 37.3 ms per loop (mean ± std. dev. of 7 runs, 1 loop each)\n"
     ]
    }
   ],
   "source": [
    "%timeit t.guess_language(\"Ann was the most wonderful host I had ever have on airbnb. Cheerful, smiling all the time, trying to help whenever she could, showing us the best spots and giving us tips. The flat is warm and cosy. Very big space for Manhattan. I strongly recommand this flat. Je recommande vivement ce logement , Ann est merveilleuse et l appartement parfait\")"
   ]
  },
  {
   "cell_type": "code",
   "execution_count": 6,
   "metadata": {},
   "outputs": [],
   "source": [
    "reviews = pd.read_csv(os.path.join(s.DATA_DIR, 'finalised/reviews.csv'), index_col=0)"
   ]
  },
  {
   "cell_type": "code",
   "execution_count": 7,
   "metadata": {},
   "outputs": [
    {
     "data": {
      "text/plain": [
       "357225"
      ]
     },
     "execution_count": 7,
     "metadata": {},
     "output_type": "execute_result"
    }
   ],
   "source": [
    "len(reviews)"
   ]
  },
  {
   "cell_type": "code",
   "execution_count": null,
   "metadata": {},
   "outputs": [],
   "source": [
    "def get_textcat_languages(tbl, col):\n",
    "    t = tc.TextCat()\n",
    "    tbl.is_copy = False\n",
    "    langs = []\n",
    "    for s in tbl[col]: \n",
    "        try:\n",
    "            l = t.guess_language(s)\n",
    "            langs.append(l)\n",
    "        except :\n",
    "            langs.append('unk')\n",
    "    tbl['textcat_langs'] = langs\n",
    "    return tbl"
   ]
  },
  {
   "cell_type": "code",
   "execution_count": null,
   "metadata": {},
   "outputs": [],
   "source": [
    "reviews = get_textcat_languages(reviews, 'comments')"
   ]
  },
  {
   "cell_type": "code",
   "execution_count": null,
   "metadata": {},
   "outputs": [],
   "source": [
    "reviews.head()"
   ]
  },
  {
   "cell_type": "code",
   "execution_count": 15,
   "metadata": {},
   "outputs": [],
   "source": [
    "from googletrans import Translator\n",
    "translator = Translator()"
   ]
  },
  {
   "cell_type": "code",
   "execution_count": 21,
   "metadata": {},
   "outputs": [
    {
     "data": {
      "text/plain": [
       "'en'"
      ]
     },
     "execution_count": 21,
     "metadata": {},
     "output_type": "execute_result"
    }
   ],
   "source": [
    "translator.detect('Ann was the most wonderful host I had ever have on airbnb. Cheerful, smiling all the time, trying to help whenever she could, showing us the best spots and giving us tips. The flat is warm and cosy. Very big space for Manhattan. I strongly recommand this flat. Je recommande vivement ce logement , Ann est merveilleuse et l appartement parfait').lang"
   ]
  },
  {
   "cell_type": "code",
   "execution_count": null,
   "metadata": {},
   "outputs": [],
   "source": [
    "translator."
   ]
  },
  {
   "cell_type": "markdown",
   "metadata": {},
   "source": [
    "# Demographic Extraction "
   ]
  },
  {
   "cell_type": "code",
   "execution_count": 39,
   "metadata": {},
   "outputs": [
    {
     "ename": "ModuleNotFoundError",
     "evalue": "No module named 'get_image_info'",
     "output_type": "error",
     "traceback": [
      "\u001b[0;31m---------------------------------------------------------------------------\u001b[0m",
      "\u001b[0;31mModuleNotFoundError\u001b[0m                       Traceback (most recent call last)",
      "\u001b[0;32m<ipython-input-39-c64d955194b5>\u001b[0m in \u001b[0;36m<module>\u001b[0;34m()\u001b[0m\n\u001b[1;32m      4\u001b[0m \u001b[0;32mimport\u001b[0m \u001b[0mtime\u001b[0m\u001b[0;34m\u001b[0m\u001b[0m\n\u001b[1;32m      5\u001b[0m \u001b[0;32mimport\u001b[0m \u001b[0mswagger_client\u001b[0m\u001b[0;34m\u001b[0m\u001b[0m\n\u001b[0;32m----> 6\u001b[0;31m \u001b[0;32mimport\u001b[0m \u001b[0mget_image_info\u001b[0m\u001b[0;34m\u001b[0m\u001b[0m\n\u001b[0m",
      "\u001b[0;31mModuleNotFoundError\u001b[0m: No module named 'get_image_info'"
     ]
    }
   ],
   "source": [
    "from __future__ import absolute_import\n",
    "\n",
    "import unittest\n",
    "import time\n",
    "import swagger_client\n"
   ]
  },
  {
   "cell_type": "code",
   "execution_count": 38,
   "metadata": {},
   "outputs": [],
   "source": [
    "from swagger_client.rest import ApiException\n",
    "from pprint import pprint\n",
    "# create an instance of the API class\n",
    "api_instance = swagger_client.FaceApi()\n",
    "api_key = 'd45fd466-51e2-4701-8da8-04351c872236'\n",
    "api_secret = '171e8465-f548-401d-b63b-caf0dc28df5f' # str | your API secret. It is not recommended to expose your application secret at client side."
   ]
  },
  {
   "cell_type": "code",
   "execution_count": 34,
   "metadata": {},
   "outputs": [
    {
     "ename": "SyntaxError",
     "evalue": "invalid syntax (<ipython-input-34-a58cfe422c8d>, line 9)",
     "output_type": "error",
     "traceback": [
      "\u001b[0;36m  File \u001b[0;32m\"<ipython-input-34-a58cfe422c8d>\"\u001b[0;36m, line \u001b[0;32m9\u001b[0m\n\u001b[0;31m    api_instance.(api_key=api_key, face_uuid= open(os.path.join(s.DATA_DIR, 'img/24139.jpg'), 'rb' ))\u001b[0m\n\u001b[0m                 ^\u001b[0m\n\u001b[0;31mSyntaxError\u001b[0m\u001b[0;31m:\u001b[0m invalid syntax\n"
     ]
    }
   ],
   "source": [
    "try:\n",
    "    api_instance.(api_key=api_key, face_uuid= open(os.path.join(s.DATA_DIR, 'img/24139.jpg'), 'rb' ))\n",
    "    # get API usage information. (Administrative endpoint - API secret required)\n",
    "    api_response = api_instance.v2_admin_usage_get(api_key, api_secret)\n",
    "    pprint(api_response)\n",
    "except ApiException as e:\n",
    "    print(\"Exception when calling AdminApi->v2_admin_usage_get: %s\\n\" % e)"
   ]
  },
  {
   "cell_type": "markdown",
   "metadata": {},
   "source": [
    "# SenticNet"
   ]
  },
  {
   "cell_type": "code",
   "execution_count": 1,
   "metadata": {},
   "outputs": [],
   "source": [
    "from senticnet.senticnet import SenticNet"
   ]
  },
  {
   "cell_type": "code",
   "execution_count": 13,
   "metadata": {},
   "outputs": [],
   "source": [
    "sn = SenticNet()"
   ]
  },
  {
   "cell_type": "code",
   "execution_count": 16,
   "metadata": {},
   "outputs": [
    {
     "ename": "KeyError",
     "evalue": "'des'",
     "output_type": "error",
     "traceback": [
      "\u001b[0;31m---------------------------------------------------------------------------\u001b[0m",
      "\u001b[0;31mKeyError\u001b[0m                                  Traceback (most recent call last)",
      "\u001b[0;32m<ipython-input-16-bf689796621b>\u001b[0m in \u001b[0;36m<module>\u001b[0;34m()\u001b[0m\n\u001b[0;32m----> 1\u001b[0;31m \u001b[0mpolarity_value\u001b[0m \u001b[0;34m=\u001b[0m \u001b[0msn\u001b[0m\u001b[0;34m.\u001b[0m\u001b[0mpolarity_value\u001b[0m\u001b[0;34m(\u001b[0m\u001b[0;34m'des'\u001b[0m\u001b[0;34m)\u001b[0m\u001b[0;34m\u001b[0m\u001b[0m\n\u001b[0m",
      "\u001b[0;32m~/anaconda3/lib/python3.6/site-packages/senticnet/senticnet.py\u001b[0m in \u001b[0;36mpolarity_value\u001b[0;34m(self, concept)\u001b[0m\n\u001b[1;32m     55\u001b[0m         \"\"\"\n\u001b[1;32m     56\u001b[0m         \u001b[0mconcept\u001b[0m \u001b[0;34m=\u001b[0m \u001b[0mconcept\u001b[0m\u001b[0;34m.\u001b[0m\u001b[0mreplace\u001b[0m\u001b[0;34m(\u001b[0m\u001b[0;34m\" \"\u001b[0m\u001b[0;34m,\u001b[0m \u001b[0;34m\"_\"\u001b[0m\u001b[0;34m)\u001b[0m\u001b[0;34m\u001b[0m\u001b[0m\n\u001b[0;32m---> 57\u001b[0;31m         \u001b[0mconcept_info\u001b[0m \u001b[0;34m=\u001b[0m \u001b[0mself\u001b[0m\u001b[0;34m.\u001b[0m\u001b[0mdata\u001b[0m\u001b[0;34m[\u001b[0m\u001b[0mconcept\u001b[0m\u001b[0;34m]\u001b[0m\u001b[0;34m\u001b[0m\u001b[0m\n\u001b[0m\u001b[1;32m     58\u001b[0m \u001b[0;34m\u001b[0m\u001b[0m\n\u001b[1;32m     59\u001b[0m         \u001b[0;32mreturn\u001b[0m \u001b[0mconcept_info\u001b[0m\u001b[0;34m[\u001b[0m\u001b[0;36m6\u001b[0m\u001b[0;34m]\u001b[0m\u001b[0;34m\u001b[0m\u001b[0m\n",
      "\u001b[0;31mKeyError\u001b[0m: 'des'"
     ]
    }
   ],
   "source": [
    "polarity_value = sn.polarity_value('des')"
   ]
  },
  {
   "cell_type": "code",
   "execution_count": 57,
   "metadata": {},
   "outputs": [],
   "source": [
    "polarity_intense = sn.polarity_intense('a_lot_of_people')"
   ]
  },
  {
   "cell_type": "code",
   "execution_count": 58,
   "metadata": {},
   "outputs": [
    {
     "data": {
      "text/plain": [
       "'0.054'"
      ]
     },
     "execution_count": 58,
     "metadata": {},
     "output_type": "execute_result"
    }
   ],
   "source": [
    "polarity_intense"
   ]
  },
  {
   "cell_type": "code",
   "execution_count": 10,
   "metadata": {},
   "outputs": [
    {
     "data": {
      "text/plain": [
       "'negative'"
      ]
     },
     "execution_count": 10,
     "metadata": {},
     "output_type": "execute_result"
    }
   ],
   "source": [
    "polarity_value"
   ]
  },
  {
   "cell_type": "code",
   "execution_count": 55,
   "metadata": {},
   "outputs": [],
   "source": [
    "from sentic import SenticPhrase\n",
    "sp = SenticPhrase(\"a lot of people\")"
   ]
  },
  {
   "cell_type": "code",
   "execution_count": 56,
   "metadata": {},
   "outputs": [
    {
     "data": {
      "text/plain": [
       "0.105"
      ]
     },
     "execution_count": 56,
     "metadata": {},
     "output_type": "execute_result"
    }
   ],
   "source": [
    "sp.get_polarity()"
   ]
  },
  {
   "cell_type": "code",
   "execution_count": null,
   "metadata": {},
   "outputs": [],
   "source": []
  }
 ],
 "metadata": {
  "kernelspec": {
   "display_name": "Python 3",
   "language": "python",
   "name": "python3"
  },
  "language_info": {
   "codemirror_mode": {
    "name": "ipython",
    "version": 3
   },
   "file_extension": ".py",
   "mimetype": "text/x-python",
   "name": "python",
   "nbconvert_exporter": "python",
   "pygments_lexer": "ipython3",
   "version": "3.6.2"
  }
 },
 "nbformat": 4,
 "nbformat_minor": 2
}
