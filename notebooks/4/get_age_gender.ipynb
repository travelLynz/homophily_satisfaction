{
 "cells": [
  {
   "cell_type": "code",
   "execution_count": 4,
   "metadata": {},
   "outputs": [],
   "source": [
    "%load_ext autoreload\n",
    "%autoreload 2\n",
    "import os\n",
    "import glob\n",
    "import pandas as pd\n",
    "import numpy as np\n",
    "import time\n",
    "import matplotlib.pyplot as plt\n",
    "pd.options.display.max_columns = 999\n",
    "#pd.options.display.max_rows = 100\n",
    "\n",
    "import seaborn as sns \n",
    "import indicoio\n",
    "import sys\n",
    "sys.path.append(\"../../Code\")\n",
    "import utils\n",
    "sys.path.append(\"../../Tools/python-client\")\n",
    "from __future__ import print_function\n",
    "import time\n",
    "from pprint import pprint\n",
    "import settings as s\n",
    "import images as im\n",
    "import cognitive as cog\n",
    "import files as f"
   ]
  },
  {
   "cell_type": "code",
   "execution_count": 19,
   "metadata": {},
   "outputs": [],
   "source": [
    "for t, data in zip(range(50),np.array_split(hosts['id'].unique(), 50)):\n",
    "    pd.DataFrame({'id':data}).to_csv('hosts/host_imgs_' + str(t) +'.csv')"
   ]
  },
  {
   "cell_type": "code",
   "execution_count": 29,
   "metadata": {},
   "outputs": [],
   "source": [
    "for i in range(10, 50):\n",
    "    hosts_df = pd.read_csv('hosts/host_imgs_' + str(i) +'.csv', index_col=0)\n",
    "    cognitive_results = cog.create_cognitive_table(img_path, hosts_df['id'].unique())\n",
    "    cognitive_results.to_csv('hosts_done_' + str(i) +'.csv')"
   ]
  },
  {
   "cell_type": "code",
   "execution_count": 43,
   "metadata": {},
   "outputs": [],
   "source": [
    "for t, data in zip(range(50),np.array_split(left_ids, 50)):\n",
    "    pd.DataFrame({'id':data}).to_csv('guest_imgs_' + str(t) +'.csv')"
   ]
  },
  {
   "cell_type": "code",
   "execution_count": 3,
   "metadata": {},
   "outputs": [],
   "source": [
    "for i in range(50):\n",
    "    guests_left_df = pd.read_csv('final_guests_cog/g_in_' + str(i) +'.csv', index_col=0)\n",
    "    guests_new = pd.DataFrame()\n",
    "    guests_new['id'], guests_new['bounding_box'] = im.get_image_coordinates(os.path.join(\"..\",s.DATA_DIR, 'guest_imgs') , os.path.join(\"..\",s.DATA_DIR, 'guest_imgs', 'nopics'), guests_left_df['id'])\n",
    "    guests_new.to_csv('final_guests_cog/guests_done_' + str(i) +'.csv')"
   ]
  },
  {
   "cell_type": "code",
   "execution_count": 25,
   "metadata": {},
   "outputs": [],
   "source": [
    "guests_cog = pd.read_csv('final_cog_guests.csv', index_col=0).drop_duplicates()"
   ]
  },
  {
   "cell_type": "code",
   "execution_count": 26,
   "metadata": {},
   "outputs": [
    {
     "data": {
      "text/plain": [
       "50177"
      ]
     },
     "execution_count": 26,
     "metadata": {},
     "output_type": "execute_result"
    }
   ],
   "source": [
    "len(guests_cog)"
   ]
  },
  {
   "cell_type": "code",
   "execution_count": 169,
   "metadata": {},
   "outputs": [],
   "source": [
    "fwrite = open('out47.csv','a')"
   ]
  },
  {
   "cell_type": "code",
   "execution_count": 104,
   "metadata": {},
   "outputs": [],
   "source": [
    "count = 0"
   ]
  },
  {
   "cell_type": "code",
   "execution_count": 170,
   "metadata": {},
   "outputs": [],
   "source": [
    "with open('out8.csv') as fr:\n",
    "    lines = []\n",
    "    for line in fr:\n",
    "        tline = line.strip()\n",
    "        if count <= 5:\n",
    "            print (line)\n",
    "            print(line.split(\" \"))\n",
    "        if (len(tline.split(\" \")) > 2) and ('/span' not in str(tline)):\n",
    "            if tline.endswith(\"\\n\"):\n",
    "                lines.append(tline)\n",
    "            else:\n",
    "                lines.append(tline + \"\\n\")\n",
    "        count += 1"
   ]
  },
  {
   "cell_type": "code",
   "execution_count": 171,
   "metadata": {},
   "outputs": [],
   "source": [
    "fwrite.write(\"\".join(lines))\n",
    "fwrite.close()"
   ]
  },
  {
   "cell_type": "code",
   "execution_count": 24,
   "metadata": {},
   "outputs": [],
   "source": [
    "pd.concat([guests_cog, g_done]).reset_index(drop=True).to_csv('final_cog_guests.csv')"
   ]
  },
  {
   "cell_type": "code",
   "execution_count": 10,
   "metadata": {},
   "outputs": [],
   "source": [
    "g_done = g_done.drop(None, axis = 1)"
   ]
  },
  {
   "cell_type": "code",
   "execution_count": 11,
   "metadata": {},
   "outputs": [],
   "source": [
    "im.crop_images(img_path, 'guests-cropped/', g_done)"
   ]
  },
  {
   "cell_type": "code",
   "execution_count": 15,
   "metadata": {},
   "outputs": [],
   "source": [
    "g_ids = g_done[g_done['num_of_people'] == '1.0']['id']"
   ]
  },
  {
   "cell_type": "code",
   "execution_count": 61,
   "metadata": {},
   "outputs": [],
   "source": [
    "img_path = os.path.join(\"..\", s.DATA_DIR, 'host_imgs/')"
   ]
  },
  {
   "cell_type": "code",
   "execution_count": 19,
   "metadata": {},
   "outputs": [],
   "source": [
    "for t, data in zip(range(50),np.array_split(g_ids, 50)):\n",
    "    pd.DataFrame({'id':data}).to_csv('guests/g_in_' + str(t) +'.csv')"
   ]
  },
  {
   "cell_type": "code",
   "execution_count": 13,
   "metadata": {},
   "outputs": [],
   "source": [
    "for i in range(0, 50):\n",
    "    guests_df = pd.read_csv('final_guests_cog/guests_done_' + str(i) +'.csv', index_col=0)\n",
    "    cognitive_results = cog.create_cognitive_table(img_path, guests_df['id'].unique())\n",
    "    cognitive_results.to_csv('final_guests_cog/g_out_' + str(i) +'.csv')"
   ]
  }
 ],
 "metadata": {
  "kernelspec": {
   "display_name": "Python 3",
   "language": "python",
   "name": "python3"
  },
  "language_info": {
   "codemirror_mode": {
    "name": "ipython",
    "version": 3
   },
   "file_extension": ".py",
   "mimetype": "text/x-python",
   "name": "python",
   "nbconvert_exporter": "python",
   "pygments_lexer": "ipython3",
   "version": "3.6.2"
  }
 },
 "nbformat": 4,
 "nbformat_minor": 2
}
