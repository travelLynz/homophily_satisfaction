{
 "cells": [
  {
   "cell_type": "code",
   "execution_count": 2,
   "metadata": {},
   "outputs": [
    {
     "name": "stderr",
     "output_type": "stream",
     "text": [
      "/Users/lynraybarends/anaconda3/lib/python3.6/site-packages/statsmodels/compat/pandas.py:56: FutureWarning: The pandas.core.datetools module is deprecated and will be removed in a future version. Please use the pandas.tseries module instead.\n",
      "  from pandas.core import datetools\n"
     ]
    }
   ],
   "source": [
    "%load_ext autoreload\n",
    "%autoreload 2\n",
    "from nltk.corpus import stopwords\n",
    "from nltk.tokenize import sent_tokenize\n",
    "import pandas as pd\n",
    "import os\n",
    "import sys\n",
    "import numpy as np\n",
    "sys.path.append(\"../../Code\")\n",
    "import utils\n",
    "import files as f\n",
    "import seaborn as sns\n",
    "import matplotlib.pyplot as plt\n",
    "import preprocessing as pre\n",
    "import languages as lang\n",
    "stopWords = set(stopwords.words('english'))\n",
    "import profiles\n",
    "import afinns as af"
   ]
  },
  {
   "cell_type": "markdown",
   "metadata": {},
   "source": [
    "# Load Guests, Hosts, Reviews , and reverse reviews "
   ]
  },
  {
   "cell_type": "code",
   "execution_count": 125,
   "metadata": {},
   "outputs": [],
   "source": [
    "guests = pd.read_csv(os.path.join('..','2','nr_restrict_guests.csv'), low_memory=False, index_col=0).drop_duplicates(subset=\"id\", keep=\"last\")\n",
    "hosts = pd.read_csv(os.path.join('..','2','nr_restrict_hosts.csv'), index_col=0)\n",
    "hosts = hosts[~hosts.index.isnull()]\n",
    "reviews = pd.read_csv(os.path.join('..','2','nr_restrict_reviews.csv'), index_col=0)"
   ]
  },
  {
   "cell_type": "code",
   "execution_count": 129,
   "metadata": {},
   "outputs": [
    {
     "data": {
      "text/plain": [
       "96255"
      ]
     },
     "execution_count": 129,
     "metadata": {},
     "output_type": "execute_result"
    }
   ],
   "source": [
    "len(guests)"
   ]
  },
  {
   "cell_type": "code",
   "execution_count": 130,
   "metadata": {},
   "outputs": [
    {
     "data": {
      "text/plain": [
       "6924"
      ]
     },
     "execution_count": 130,
     "metadata": {},
     "output_type": "execute_result"
    }
   ],
   "source": [
    "len(hosts)"
   ]
  },
  {
   "cell_type": "markdown",
   "metadata": {},
   "source": [
    "## Get combined Reviews"
   ]
  },
  {
   "cell_type": "markdown",
   "metadata": {},
   "source": [
    "### Guests"
   ]
  },
  {
   "cell_type": "code",
   "execution_count": 132,
   "metadata": {},
   "outputs": [],
   "source": [
    "guests_full = pd.read_csv('../5/guests_outward_review_full.csv', index_col=0)"
   ]
  },
  {
   "cell_type": "markdown",
   "metadata": {},
   "source": [
    "### Hosts"
   ]
  },
  {
   "cell_type": "code",
   "execution_count": 134,
   "metadata": {},
   "outputs": [],
   "source": [
    "hosts_full = pd.read_csv('../5/hosts_outward_review_full.csv', index_col=0)"
   ]
  },
  {
   "cell_type": "markdown",
   "metadata": {},
   "source": [
    "## Get Airbnb Dictionary"
   ]
  },
  {
   "cell_type": "code",
   "execution_count": 3,
   "metadata": {},
   "outputs": [],
   "source": [
    "abnbvocab =  pd.read_csv(os.path.join('..','..', 'Tools','mydict.tsv'), delimiter=\"\\t\", index_col=0)"
   ]
  },
  {
   "cell_type": "code",
   "execution_count": 5,
   "metadata": {},
   "outputs": [
    {
     "data": {
      "text/plain": [
       "['information',\n",
       " 'recommendations',\n",
       " 'tips',\n",
       " 'advice',\n",
       " 'suggestions',\n",
       " 'directions',\n",
       " 'instructions',\n",
       " 'useful',\n",
       " 'details',\n",
       " 'info',\n",
       " 'explained',\n",
       " 'communication',\n",
       " 'questions',\n",
       " 'quick',\n",
       " 'quickly',\n",
       " 'communicative',\n",
       " 'communicate',\n",
       " 'respond',\n",
       " 'responded',\n",
       " 'answer',\n",
       " 'answered',\n",
       " 'prompt',\n",
       " 'communicated',\n",
       " 'text',\n",
       " 'request',\n",
       " 'question',\n",
       " 'promptly',\n",
       " 'communicating',\n",
       " 'requests',\n",
       " 'communications',\n",
       " 'answering',\n",
       " 'emails',\n",
       " 'response',\n",
       " 'responding',\n",
       " 'communicator',\n",
       " 'responses',\n",
       " 'concerns',\n",
       " 'responds',\n",
       " 'replied',\n",
       " 'reply',\n",
       " 'queries',\n",
       " 'texts',\n",
       " 'inquiries',\n",
       " 'answers',\n",
       " 'check',\n",
       " 'provided',\n",
       " 'arrival',\n",
       " 'arrived',\n",
       " 'late',\n",
       " 'offered',\n",
       " 'keys',\n",
       " 'hours',\n",
       " 'key',\n",
       " 'flight',\n",
       " 'prepared',\n",
       " 'reception',\n",
       " 'checking',\n",
       " 'checked',\n",
       " 'departure',\n",
       " 'waiting',\n",
       " 'arriving',\n",
       " 'timely',\n",
       " 'punctual',\n",
       " 'checkout',\n",
       " 'checkin',\n",
       " 'punctuality',\n",
       " 'place',\n",
       " 'apartment',\n",
       " 'clean',\n",
       " 'house',\n",
       " 'room',\n",
       " 'space',\n",
       " 'flat',\n",
       " 'property',\n",
       " 'care',\n",
       " 'tidy',\n",
       " 'neat',\n",
       " 'spotless',\n",
       " 'immaculate',\n",
       " 'condition',\n",
       " 'respect',\n",
       " 'shape',\n",
       " 'rules',\n",
       " 'respected',\n",
       " 'helpful',\n",
       " 'welcoming',\n",
       " 'available',\n",
       " 'accommodating',\n",
       " 'welcome',\n",
       " 'responsive',\n",
       " 'help',\n",
       " 'welcomed',\n",
       " 'needs',\n",
       " 'helped',\n",
       " 'flexible',\n",
       " 'hospitality',\n",
       " 'attentive',\n",
       " 'incredibly',\n",
       " 'greeted',\n",
       " 'ready',\n",
       " 'hospitable',\n",
       " 'organized',\n",
       " 'generous',\n",
       " 'availability',\n",
       " 'warmly',\n",
       " 'considerate',\n",
       " 'caring',\n",
       " 'precise',\n",
       " 'helping',\n",
       " 'uncomplicated',\n",
       " 'reliable',\n",
       " 'impeccable',\n",
       " 'respectful',\n",
       " 'accomodating',\n",
       " 'arrangements',\n",
       " 'organised',\n",
       " 'generosity',\n",
       " 'responsible',\n",
       " 'discrete',\n",
       " 'location',\n",
       " 'from',\n",
       " 'close',\n",
       " 'quiet',\n",
       " 'area',\n",
       " 'walk',\n",
       " 'located',\n",
       " 'restaurants',\n",
       " 'city',\n",
       " 'neighborhood',\n",
       " 'get',\n",
       " 'away',\n",
       " 'walking',\n",
       " 'around',\n",
       " 'minutes',\n",
       " 'beach',\n",
       " 'few',\n",
       " 'convenient',\n",
       " 'distance',\n",
       " 'street',\n",
       " 'town',\n",
       " 'many',\n",
       " 'shops',\n",
       " 'central',\n",
       " 'station',\n",
       " 'metro',\n",
       " 'downtown',\n",
       " 'places',\n",
       " 'lots',\n",
       " 'centre',\n",
       " 'within',\n",
       " 'parking',\n",
       " 'near',\n",
       " 'access',\n",
       " 'bus',\n",
       " 'minute',\n",
       " 'bars',\n",
       " 'nearby',\n",
       " 'park',\n",
       " 'safe',\n",
       " 'local',\n",
       " 'center',\n",
       " 'amenities',\n",
       " 'car',\n",
       " 'building',\n",
       " 'far',\n",
       " 'outside',\n",
       " 'drive',\n",
       " 'easily',\n",
       " 'train',\n",
       " 'cool',\n",
       " 'airport',\n",
       " 'stop',\n",
       " 'subway',\n",
       " 'heart',\n",
       " 'still',\n",
       " 'reach',\n",
       " 'steps',\n",
       " 'shopping',\n",
       " 'transport',\n",
       " 'attractions',\n",
       " 'restaurant',\n",
       " 'grocery',\n",
       " 'foot',\n",
       " 'neighbourhood',\n",
       " 'road',\n",
       " 'market',\n",
       " 'corner',\n",
       " 'transportation',\n",
       " 'across',\n",
       " 'centrally',\n",
       " 'situated',\n",
       " 'store',\n",
       " 'sea',\n",
       " 'cafes',\n",
       " 'conveniently',\n",
       " 'stores',\n",
       " 'district',\n",
       " 'supermarket',\n",
       " 'walkable',\n",
       " 'tram',\n",
       " 'residential',\n",
       " 'beaches',\n",
       " 'village',\n",
       " 'historic',\n",
       " 'river',\n",
       " 'taxi',\n",
       " 'stops',\n",
       " 'mins',\n",
       " 'proximity',\n",
       " 'shop',\n",
       " 'spots',\n",
       " 'sights',\n",
       " 'facilities',\n",
       " 'supermarkets',\n",
       " 'stations',\n",
       " 'transit',\n",
       " 'served',\n",
       " 'connected',\n",
       " 'nightlife',\n",
       " 'tube',\n",
       " 'cafe',\n",
       " 'typical',\n",
       " 'bakery',\n",
       " 'pubs',\n",
       " 'reachable',\n",
       " 'markets',\n",
       " 'underground',\n",
       " 'bakeries',\n",
       " 'apartment',\n",
       " 'house',\n",
       " 'home',\n",
       " 'flat',\n",
       " 'private',\n",
       " 'building',\n",
       " 'pool',\n",
       " 'property',\n",
       " 'garden',\n",
       " 'terrace',\n",
       " 'cabin',\n",
       " 'balcony',\n",
       " 'apt',\n",
       " 'appartment',\n",
       " 'backyard',\n",
       " 'roof',\n",
       " 'gardens',\n",
       " 'water',\n",
       " 'hot',\n",
       " 'wifi',\n",
       " 'towels',\n",
       " 'tv',\n",
       " 'fridge',\n",
       " 'internet',\n",
       " 'facilities',\n",
       " 'laundry',\n",
       " 'sheets',\n",
       " 'microwave',\n",
       " 'toiletries',\n",
       " 'heater',\n",
       " 'pillows',\n",
       " 'blankets',\n",
       " 'shampoo',\n",
       " 'refrigerator',\n",
       " 'clean',\n",
       " 'comfortable',\n",
       " 'room',\n",
       " 'bed',\n",
       " 'kitchen',\n",
       " 'spacious',\n",
       " 'small',\n",
       " 'cozy',\n",
       " 'bathroom',\n",
       " 'equipped',\n",
       " 'exactly',\n",
       " 'large',\n",
       " 'described',\n",
       " 'cute',\n",
       " 'shower',\n",
       " 'living',\n",
       " 'bedroom',\n",
       " 'pictures',\n",
       " 'beds',\n",
       " 'comfy',\n",
       " 'decorated',\n",
       " 'photos',\n",
       " 'modern',\n",
       " 'rooms',\n",
       " 'bright',\n",
       " 'cosy',\n",
       " 'furnished',\n",
       " 'functional',\n",
       " 'size',\n",
       " 'bedrooms',\n",
       " 'decor',\n",
       " 'tidy',\n",
       " 'bath',\n",
       " 'bathrooms',\n",
       " 'neat',\n",
       " 'furniture',\n",
       " 'pictured',\n",
       " 'toilet',\n",
       " 'sofa',\n",
       " 'spotless',\n",
       " 'picture',\n",
       " 'showers',\n",
       " 'sized',\n",
       " 'breakfast',\n",
       " 'delicious',\n",
       " 'fresh',\n",
       " 'dinner',\n",
       " 'meals',\n",
       " 'together',\n",
       " 'breakfasts',\n",
       " 'cooked',\n",
       " 'her',\n",
       " 'she',\n",
       " 'he',\n",
       " 'his',\n",
       " 'they',\n",
       " 'family',\n",
       " 'their',\n",
       " 'friends',\n",
       " 'them',\n",
       " 'husband',\n",
       " 'friend',\n",
       " 'him',\n",
       " 'wife',\n",
       " 'daughter',\n",
       " 'son',\n",
       " 'boyfriend',\n",
       " 'girlfriend',\n",
       " 'company',\n",
       " 'mother',\n",
       " 'mom',\n",
       " 'herself',\n",
       " 'himself',\n",
       " 'hers',\n",
       " 'shes',\n",
       " 'friendly',\n",
       " 'kind',\n",
       " 'warm',\n",
       " 'charming',\n",
       " 'sweet',\n",
       " 'gracious',\n",
       " 'interesting',\n",
       " 'adorable',\n",
       " 'generous',\n",
       " 'inviting',\n",
       " 'delightful',\n",
       " 'relaxed',\n",
       " 'kindness',\n",
       " 'calm',\n",
       " 'considerate',\n",
       " 'polite',\n",
       " 'courteous',\n",
       " 'respectful',\n",
       " 'warmth',\n",
       " 'funny',\n",
       " 'easygoing',\n",
       " 'sympathy',\n",
       " 'shared',\n",
       " 'share',\n",
       " 'sharing',\n",
       " 'experiences',\n",
       " 'stories',\n",
       " 'interests',\n",
       " 'chat',\n",
       " 'conversation',\n",
       " 'conversations',\n",
       " 'talking',\n",
       " 'chatting',\n",
       " 'moments',\n",
       " 'chats',\n",
       " 'talks',\n",
       " 'location',\n",
       " 'from',\n",
       " 'comfortable',\n",
       " 'there',\n",
       " 'room',\n",
       " 'beautiful',\n",
       " 'close',\n",
       " 'area',\n",
       " 'helpful',\n",
       " 'walk',\n",
       " 'located',\n",
       " 'restaurants',\n",
       " 'which',\n",
       " 'city',\n",
       " 'by',\n",
       " 'made',\n",
       " 'neighborhood',\n",
       " 'need',\n",
       " 'bed',\n",
       " 'kitchen',\n",
       " 'away',\n",
       " 'spacious',\n",
       " 'walking',\n",
       " 'small',\n",
       " 'cozy',\n",
       " 'minutes',\n",
       " 'welcoming',\n",
       " 'right',\n",
       " 'beach',\n",
       " 'best',\n",
       " 'view',\n",
       " 'feel',\n",
       " 'bathroom',\n",
       " 'few',\n",
       " 'available',\n",
       " 'street',\n",
       " 'short',\n",
       " 'many',\n",
       " 'breakfast',\n",
       " 'make',\n",
       " 'equipped',\n",
       " 'station',\n",
       " 'first',\n",
       " 'metro',\n",
       " 'gave',\n",
       " 'warm',\n",
       " 'exactly',\n",
       " 'sure',\n",
       " 'centre',\n",
       " 'near',\n",
       " 'days',\n",
       " 'large',\n",
       " 'bus',\n",
       " 'they',\n",
       " 'welcome',\n",
       " 'hope',\n",
       " 'guests',\n",
       " 'left',\n",
       " 'them',\n",
       " 'pleasure',\n",
       " 'guest',\n",
       " 'him',\n",
       " 'future',\n",
       " 'communicate',\n",
       " 'tidy',\n",
       " 'spotless',\n",
       " 'anytime',\n",
       " 'polite',\n",
       " 'hosting',\n",
       " 'order',\n",
       " 'condition',\n",
       " 'respectful',\n",
       " 'rules']"
      ]
     },
     "execution_count": 5,
     "metadata": {},
     "output_type": "execute_result"
    }
   ],
   "source": [
    "list(abnbvocab.index)"
   ]
  },
  {
   "cell_type": "code",
   "execution_count": 136,
   "metadata": {},
   "outputs": [],
   "source": [
    "words = {}\n",
    "for k in abnbvocab.category.unique():\n",
    "    words[k] = set(abnbvocab[abnbvocab.category == k].index)"
   ]
  },
  {
   "cell_type": "code",
   "execution_count": 137,
   "metadata": {},
   "outputs": [
    {
     "data": {
      "text/plain": [
       "305"
      ]
     },
     "execution_count": 137,
     "metadata": {},
     "output_type": "execute_result"
    }
   ],
   "source": [
    "len(words['propEst']) + len(words['propFac']) + len(words['propInt']) + len(words['loct']) + len(words['condAct']) + len(words['condCom']) + len(words['condLog']) + len(words['condPrp']) + len(words['condPrs'])"
   ]
  },
  {
   "cell_type": "code",
   "execution_count": 138,
   "metadata": {},
   "outputs": [
    {
     "data": {
      "text/plain": [
       "68"
      ]
     },
     "execution_count": 138,
     "metadata": {},
     "output_type": "execute_result"
    }
   ],
   "source": [
    "len(words['sociMea']) + len(words['sociPpl']) + len(words['sociPrs']) + len(words['sociShr']) + len(words['sociTlk'])"
   ]
  },
  {
   "cell_type": "code",
   "execution_count": 139,
   "metadata": {},
   "outputs": [],
   "source": [
    "def get_airbnb_counts(text, words):\n",
    "    t = \" \".join(eval(text)).lower()\n",
    "    token_t = utils.tokenize(t)\n",
    "    fin_t = \" \" + \" \".join(token_t) + \" \"\n",
    "    counts = {}\n",
    "    result = {}\n",
    "    for k in words.keys():\n",
    "        count = 0\n",
    "        for w in k:\n",
    "            count += fin_t.count(\" \" + w + \" \")\n",
    "        counts[k] = count #/len(token_t) if len(token_t) != 0 else 0\n",
    "    business_count = (counts['propEst'] + counts['propFac'] + counts['propInt'] + counts['loct'] + counts['condAct'] + counts['condCom'] + counts['condLog'] + counts['condPrp'] + counts['condPrs'])\n",
    "    social_count = (counts['sociMea'] + counts['sociPpl'] + counts['sociPrs'] + counts['sociShr'] + counts['sociTlk'])\n",
    "    combined_counts = business_count + social_count\n",
    "    result['social_motivation'] = social_count/combined_counts if combined_counts != 0 else 0\n",
    "    return result"
   ]
  },
  {
   "cell_type": "code",
   "execution_count": 140,
   "metadata": {},
   "outputs": [],
   "source": [
    "airbnb_dict_h = [get_airbnb_counts(c, words) if len(c) > 0 else {k:np.nan for k in words.keys()} for c in hosts_full['review_text']]"
   ]
  },
  {
   "cell_type": "code",
   "execution_count": 141,
   "metadata": {},
   "outputs": [],
   "source": [
    "airbnb_dict_g = [get_airbnb_counts(c, words) if len(c) > 0 else {k:np.nan for k in words.keys()} for c in guests_full['review_text']]"
   ]
  },
  {
   "cell_type": "code",
   "execution_count": 143,
   "metadata": {},
   "outputs": [],
   "source": [
    "pd.options.display.max_colwidth = 100"
   ]
  },
  {
   "cell_type": "code",
   "execution_count": 144,
   "metadata": {},
   "outputs": [],
   "source": [
    "airbnb_g = pd.DataFrame(airbnb_dict_g)"
   ]
  },
  {
   "cell_type": "code",
   "execution_count": 145,
   "metadata": {},
   "outputs": [],
   "source": [
    "airbnb_h = pd.DataFrame(airbnb_dict_h)"
   ]
  },
  {
   "cell_type": "code",
   "execution_count": 146,
   "metadata": {},
   "outputs": [
    {
     "data": {
      "text/html": [
       "<div>\n",
       "<style>\n",
       "    .dataframe thead tr:only-child th {\n",
       "        text-align: right;\n",
       "    }\n",
       "\n",
       "    .dataframe thead th {\n",
       "        text-align: left;\n",
       "    }\n",
       "\n",
       "    .dataframe tbody tr th {\n",
       "        vertical-align: top;\n",
       "    }\n",
       "</style>\n",
       "<table border=\"1\" class=\"dataframe\">\n",
       "  <thead>\n",
       "    <tr style=\"text-align: right;\">\n",
       "      <th></th>\n",
       "      <th>social_motivation</th>\n",
       "    </tr>\n",
       "  </thead>\n",
       "  <tbody>\n",
       "    <tr>\n",
       "      <th>0</th>\n",
       "      <td>1.000000</td>\n",
       "    </tr>\n",
       "    <tr>\n",
       "      <th>1</th>\n",
       "      <td>0.903226</td>\n",
       "    </tr>\n",
       "    <tr>\n",
       "      <th>2</th>\n",
       "      <td>0.500000</td>\n",
       "    </tr>\n",
       "    <tr>\n",
       "      <th>3</th>\n",
       "      <td>0.500000</td>\n",
       "    </tr>\n",
       "    <tr>\n",
       "      <th>4</th>\n",
       "      <td>0.500000</td>\n",
       "    </tr>\n",
       "  </tbody>\n",
       "</table>\n",
       "</div>"
      ],
      "text/plain": [
       "   social_motivation\n",
       "0           1.000000\n",
       "1           0.903226\n",
       "2           0.500000\n",
       "3           0.500000\n",
       "4           0.500000"
      ]
     },
     "execution_count": 146,
     "metadata": {},
     "output_type": "execute_result"
    }
   ],
   "source": [
    "airbnb_g.head()"
   ]
  },
  {
   "cell_type": "code",
   "execution_count": 147,
   "metadata": {},
   "outputs": [],
   "source": [
    "airbnb_h['id'] = hosts_full['id']\n",
    "airbnb_g['id'] = guests_full['id']"
   ]
  },
  {
   "cell_type": "code",
   "execution_count": 148,
   "metadata": {},
   "outputs": [],
   "source": [
    "reviews = reviews.join(airbnb_g.rename(columns={'social_motivation':'guest_social_motivation'}).set_index('id'), on='reviewer_id')"
   ]
  },
  {
   "cell_type": "code",
   "execution_count": 149,
   "metadata": {},
   "outputs": [],
   "source": [
    "reviews = reviews.join(airbnb_h.rename(columns={'social_motivation':'host_social_motivation'}).set_index('id'), on='recipient_id')"
   ]
  },
  {
   "cell_type": "code",
   "execution_count": 151,
   "metadata": {},
   "outputs": [
    {
     "data": {
      "text/html": [
       "<div>\n",
       "<style>\n",
       "    .dataframe thead tr:only-child th {\n",
       "        text-align: right;\n",
       "    }\n",
       "\n",
       "    .dataframe thead th {\n",
       "        text-align: left;\n",
       "    }\n",
       "\n",
       "    .dataframe tbody tr th {\n",
       "        vertical-align: top;\n",
       "    }\n",
       "</style>\n",
       "<table border=\"1\" class=\"dataframe\">\n",
       "  <thead>\n",
       "    <tr style=\"text-align: right;\">\n",
       "      <th></th>\n",
       "      <th>idGuestReview</th>\n",
       "      <th>id</th>\n",
       "      <th>date</th>\n",
       "      <th>reviewer_id</th>\n",
       "      <th>listing_id</th>\n",
       "      <th>recipient_id</th>\n",
       "      <th>comments</th>\n",
       "      <th>hostCancelled</th>\n",
       "      <th>token_len</th>\n",
       "      <th>num_of_sents</th>\n",
       "      <th>google_langs</th>\n",
       "      <th>google_langs_conf</th>\n",
       "      <th>langdetect_langs</th>\n",
       "      <th>langdetect_langs_conf</th>\n",
       "      <th>other_langs</th>\n",
       "      <th>translated</th>\n",
       "      <th>guest_social_motivation</th>\n",
       "      <th>host_social_motivation</th>\n",
       "    </tr>\n",
       "  </thead>\n",
       "  <tbody>\n",
       "  </tbody>\n",
       "</table>\n",
       "</div>"
      ],
      "text/plain": [
       "Empty DataFrame\n",
       "Columns: [idGuestReview, id, date, reviewer_id, listing_id, recipient_id, comments, hostCancelled, token_len, num_of_sents, google_langs, google_langs_conf, langdetect_langs, langdetect_langs_conf, other_langs, translated, guest_social_motivation, host_social_motivation]\n",
       "Index: []"
      ]
     },
     "execution_count": 151,
     "metadata": {},
     "output_type": "execute_result"
    }
   ],
   "source": [
    "reviews[reviews.guest_social_motivation.isnull()]"
   ]
  },
  {
   "cell_type": "code",
   "execution_count": 152,
   "metadata": {},
   "outputs": [],
   "source": [
    "reviews['social_motivation_hg_diff'] = reviews['host_social_motivation'] - reviews['guest_social_motivation']"
   ]
  },
  {
   "cell_type": "code",
   "execution_count": 153,
   "metadata": {},
   "outputs": [],
   "source": [
    "reviews['social_motivation_abs_diff'] = np.abs(reviews['social_motivation_hg_diff'])"
   ]
  },
  {
   "cell_type": "code",
   "execution_count": 154,
   "metadata": {},
   "outputs": [
    {
     "data": {
      "text/plain": [
       "215960"
      ]
     },
     "execution_count": 154,
     "metadata": {},
     "output_type": "execute_result"
    }
   ],
   "source": [
    "len(reviews)"
   ]
  },
  {
   "cell_type": "code",
   "execution_count": 158,
   "metadata": {},
   "outputs": [],
   "source": [
    "reviews[['id','date','reviewer_id','listing_id','recipient_id', 'social_motivation_hg_diff', 'social_motivation_abs_diff']].to_csv('airbnb_vocab_final.csv')"
   ]
  },
  {
   "cell_type": "code",
   "execution_count": 16,
   "metadata": {},
   "outputs": [],
   "source": [
    "pd.options.display.max_colwidth = 200"
   ]
  },
  {
   "cell_type": "code",
   "execution_count": null,
   "metadata": {},
   "outputs": [],
   "source": []
  }
 ],
 "metadata": {
  "kernelspec": {
   "display_name": "Python 3",
   "language": "python",
   "name": "python3"
  },
  "language_info": {
   "codemirror_mode": {
    "name": "ipython",
    "version": 3
   },
   "file_extension": ".py",
   "mimetype": "text/x-python",
   "name": "python",
   "nbconvert_exporter": "python",
   "pygments_lexer": "ipython3",
   "version": "3.6.2"
  }
 },
 "nbformat": 4,
 "nbformat_minor": 2
}
