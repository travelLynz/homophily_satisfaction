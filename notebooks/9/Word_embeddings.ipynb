{
 "cells": [
  {
   "cell_type": "code",
   "execution_count": 60,
   "metadata": {},
   "outputs": [],
   "source": [
    "from nltk.corpus import stopwords\n",
    "from nltk.tokenize import sent_tokenize\n",
    "import tensorflow as tf\n",
    "import pandas as pd\n",
    "import os\n",
    "import sys\n",
    "import numpy as np\n",
    "sys.path.append(\"../../Code\")\n",
    "import utils\n",
    "import files as f\n",
    "import seaborn as sns\n",
    "import matplotlib.pyplot as plt\n",
    "stopWords = set(stopwords.words('english'))"
   ]
  },
  {
   "cell_type": "code",
   "execution_count": 2,
   "metadata": {
    "scrolled": true
   },
   "outputs": [
    {
     "name": "stderr",
     "output_type": "stream",
     "text": [
      "/Users/lynraybarends/anaconda3/lib/python3.6/site-packages/IPython/core/interactiveshell.py:2698: DtypeWarning: Columns (8,9) have mixed types. Specify dtype option on import or set low_memory=False.\n",
      "  interactivity=interactivity, compiler=compiler, result=result)\n"
     ]
    }
   ],
   "source": [
    "vocab_reviews = pd.read_csv(os.path.join('..','2','len_lang_restrict_reviews.csv'), index_col=0)\n",
    "vocab_guests = pd.read_csv(os.path.join('..','2','len_lang_restrict_guests.csv'), index_col=0)\n",
    "vocab_hosts = pd.read_csv(os.path.join('..','2','len_lang_restrict_hosts.csv'), index_col=0)\n",
    "vocab_guests['id'] = vocab_guests['id'].astype(str)"
   ]
  },
  {
   "cell_type": "code",
   "execution_count": 26,
   "metadata": {},
   "outputs": [],
   "source": [
    "def pipeline(data, col, stopwords=[], vocab=None):\n",
    "    data_encoded = {}\n",
    "    vocab_counts = {}\n",
    "    vocab_doc_count = {}\n",
    "\n",
    "    is_ext_vocab = True\n",
    "    if vocab is None:\n",
    "        is_ext_vocab = False\n",
    "        vocab = {'<OOV>': 0}\n",
    "        vocab_counts['<OOV>'] = 0\n",
    "    for _,d in data.iterrows():\n",
    "        r = []\n",
    "        doc_vocab = set()\n",
    "        tokenized_r = utils.tokenize(d[col])\n",
    "        for token in tokenized_r:\n",
    "            #token = ps.stem(token)\n",
    "            if token.lower() in stopwords:\n",
    "                continue\n",
    "            if not is_ext_vocab and token not in vocab:\n",
    "                vocab[token] = len(vocab)\n",
    "                vocab_counts[token] = 1\n",
    "                doc_vocab.add(token)\n",
    "                vocab_doc_count[token] = 1\n",
    "            if token not in vocab:\n",
    "                token_id = vocab['<OOV>']\n",
    "                vocab_counts['<OOV>'] += 1\n",
    "            elif token not in doc_vocab:\n",
    "                doc_vocab.add(token)\n",
    "                vocab_doc_count[token] = 1 if token not in vocab_doc_count.keys() else vocab_doc_count[token] + 1\n",
    "                token_id = vocab[token]\n",
    "                vocab_counts[token] += 1\n",
    "            else:\n",
    "                token_id = vocab[token]\n",
    "                vocab_counts[token] += 1\n",
    "            r.append(token_id)\n",
    "        data_encoded[d['id']] = r\n",
    "    N = len(data)\n",
    "    idf_dict = []\n",
    "    for key in vocab.keys():\n",
    "        if key in vocab_doc_count.keys():\n",
    "            idf_dict.append(np.log10(N/vocab_doc_count[key]))\n",
    "        else:\n",
    "            idf_dict.append(0)\n",
    "    return (data_encoded, vocab_counts, vocab, idf_dict)"
   ]
  },
  {
   "cell_type": "code",
   "execution_count": 27,
   "metadata": {},
   "outputs": [],
   "source": [
    "data = pd.concat([vocab_guests[['id', 'description']], vocab_hosts[['id', 'about']].rename(columns={'about': 'description'})]).reset_index()"
   ]
  },
  {
   "cell_type": "code",
   "execution_count": 28,
   "metadata": {},
   "outputs": [
    {
     "data": {
      "text/plain": [
       "114019"
      ]
     },
     "execution_count": 28,
     "metadata": {},
     "output_type": "execute_result"
    }
   ],
   "source": [
    "len(data)"
   ]
  },
  {
   "cell_type": "code",
   "execution_count": 29,
   "metadata": {},
   "outputs": [],
   "source": [
    "data = data.drop_duplicates()"
   ]
  },
  {
   "cell_type": "code",
   "execution_count": 30,
   "metadata": {},
   "outputs": [],
   "source": [
    "data = data[~data.description.isnull()]"
   ]
  },
  {
   "cell_type": "markdown",
   "metadata": {},
   "source": [
    "# Create Vocabulary "
   ]
  },
  {
   "cell_type": "code",
   "execution_count": 31,
   "metadata": {},
   "outputs": [],
   "source": [
    "profiles_encoded, vocab_count, vocab, idf = pipeline(data, 'description', stopWords)"
   ]
  },
  {
   "cell_type": "code",
   "execution_count": 32,
   "metadata": {},
   "outputs": [],
   "source": [
    "def create_vocab_count_table(counts):\n",
    "    return pd.DataFrame({'counts':[counts[k] for k in counts.keys()], 'word':[k for k in counts.keys()]})"
   ]
  },
  {
   "cell_type": "code",
   "execution_count": 33,
   "metadata": {},
   "outputs": [],
   "source": [
    "vocab_table = create_vocab_count_table(vocab_count)"
   ]
  },
  {
   "cell_type": "markdown",
   "metadata": {},
   "source": [
    "# Word 2Vec"
   ]
  },
  {
   "cell_type": "code",
   "execution_count": 14,
   "metadata": {},
   "outputs": [],
   "source": [
    "from gensim.models.keyedvectors import KeyedVectors\n",
    "# should load in 2 min\n",
    "w2v = KeyedVectors.load_word2vec_format('../../Tools/word2vec/GoogleNews-vectors-negative300.bin', binary=True)"
   ]
  },
  {
   "cell_type": "code",
   "execution_count": 16,
   "metadata": {},
   "outputs": [
    {
     "data": {
      "text/plain": [
       "0.5967262848366335"
      ]
     },
     "execution_count": 16,
     "metadata": {},
     "output_type": "execute_result"
    }
   ],
   "source": [
    "w2v.similarity('Reserve', 'reserve')\n",
    "# notice how word2vec is case sensitive!!"
   ]
  },
  {
   "cell_type": "code",
   "execution_count": 21,
   "metadata": {},
   "outputs": [
    {
     "data": {
      "text/plain": [
       "4657"
      ]
     },
     "execution_count": 21,
     "metadata": {},
     "output_type": "execute_result"
    }
   ],
   "source": [
    "vocab_count[\"travelling\"]"
   ]
  },
  {
   "cell_type": "markdown",
   "metadata": {},
   "source": [
    "#### Asses which words are in the model"
   ]
  },
  {
   "cell_type": "code",
   "execution_count": 34,
   "metadata": {},
   "outputs": [],
   "source": [
    "known_words = []\n",
    "unknown_words = []\n",
    "\n",
    "for word in vocab.keys():\n",
    "    try:\n",
    "        _ = w2v[word]\n",
    "        known_words.append(word)\n",
    "    except:\n",
    "        unknown_words.append(word)"
   ]
  },
  {
   "cell_type": "code",
   "execution_count": 35,
   "metadata": {},
   "outputs": [
    {
     "name": "stdout",
     "output_type": "stream",
     "text": [
      "in:  45667 out:  16620\n"
     ]
    }
   ],
   "source": [
    "print(\"in: \", len(known_words), \"out: \", len(unknown_words))"
   ]
  },
  {
   "cell_type": "code",
   "execution_count": 36,
   "metadata": {},
   "outputs": [
    {
     "data": {
      "text/plain": [
       "['<OOV>',\n",
       " '41',\n",
       " 'soundengineer',\n",
       " 'citylife',\n",
       " 'Jarmush',\n",
       " 'Ghostdog',\n",
       " 'Cannot',\n",
       " '27',\n",
       " 'travelling',\n",
       " 'favourite',\n",
       " 'Grünerløkka',\n",
       " 'amante',\n",
       " 'viajes',\n",
       " 'Permite',\n",
       " 'realidades']"
      ]
     },
     "execution_count": 36,
     "metadata": {},
     "output_type": "execute_result"
    }
   ],
   "source": [
    "unknown_words[0:15]"
   ]
  },
  {
   "cell_type": "markdown",
   "metadata": {},
   "source": [
    "# Look at Unknown Words "
   ]
  },
  {
   "cell_type": "code",
   "execution_count": 40,
   "metadata": {},
   "outputs": [],
   "source": [
    "unknown_table = pd.DataFrame({'unknown_word': unknown_words, 'vocab_count': [vocab_count[word] for word in unknown_words]})"
   ]
  },
  {
   "cell_type": "code",
   "execution_count": 46,
   "metadata": {},
   "outputs": [],
   "source": [
    "unknown_w = unknown_table[~unknown_table['unknown_word'].str.isnumeric()].sort_values(by=\"vocab_count\", ascending=False)"
   ]
  },
  {
   "cell_type": "code",
   "execution_count": 47,
   "metadata": {},
   "outputs": [],
   "source": [
    "unknown_n = unknown_table[unknown_table['unknown_word'].str.isnumeric()].sort_values(by=\"vocab_count\", ascending=False)"
   ]
  },
  {
   "cell_type": "code",
   "execution_count": 49,
   "metadata": {},
   "outputs": [
    {
     "data": {
      "text/html": [
       "<div>\n",
       "<style>\n",
       "    .dataframe thead tr:only-child th {\n",
       "        text-align: right;\n",
       "    }\n",
       "\n",
       "    .dataframe thead th {\n",
       "        text-align: left;\n",
       "    }\n",
       "\n",
       "    .dataframe tbody tr th {\n",
       "        vertical-align: top;\n",
       "    }\n",
       "</style>\n",
       "<table border=\"1\" class=\"dataframe\">\n",
       "  <thead>\n",
       "    <tr style=\"text-align: right;\">\n",
       "      <th></th>\n",
       "      <th>unknown_word</th>\n",
       "      <th>vocab_count</th>\n",
       "    </tr>\n",
       "  </thead>\n",
       "  <tbody>\n",
       "    <tr>\n",
       "      <th>8</th>\n",
       "      <td>travelling</td>\n",
       "      <td>4657</td>\n",
       "    </tr>\n",
       "    <tr>\n",
       "      <th>51</th>\n",
       "      <td>airbnb</td>\n",
       "      <td>1515</td>\n",
       "    </tr>\n",
       "    <tr>\n",
       "      <th>201</th>\n",
       "      <td>theatre</td>\n",
       "      <td>921</td>\n",
       "    </tr>\n",
       "    <tr>\n",
       "      <th>91</th>\n",
       "      <td>travelled</td>\n",
       "      <td>792</td>\n",
       "    </tr>\n",
       "    <tr>\n",
       "      <th>9</th>\n",
       "      <td>favourite</td>\n",
       "      <td>773</td>\n",
       "    </tr>\n",
       "  </tbody>\n",
       "</table>\n",
       "</div>"
      ],
      "text/plain": [
       "    unknown_word  vocab_count\n",
       "8     travelling         4657\n",
       "51        airbnb         1515\n",
       "201      theatre          921\n",
       "91     travelled          792\n",
       "9      favourite          773"
      ]
     },
     "execution_count": 49,
     "metadata": {},
     "output_type": "execute_result"
    }
   ],
   "source": [
    "unknown_w.head()"
   ]
  },
  {
   "cell_type": "code",
   "execution_count": 50,
   "metadata": {},
   "outputs": [
    {
     "data": {
      "image/png": "[encoded data removed]",
      "text/plain": [
       "<matplotlib.figure.Figure at 0x247fadcf8>"
      ]
     },
     "metadata": {},
     "output_type": "display_data"
    }
   ],
   "source": [
    "sns.distplot(unknown_table['vocab_count'])\n",
    "plt.show()"
   ]
  },
  {
   "cell_type": "markdown",
   "metadata": {},
   "source": [
    "#### Set up embeddings "
   ]
  },
  {
   "cell_type": "code",
   "execution_count": 100,
   "metadata": {},
   "outputs": [],
   "source": [
    "sys.path.append(\"../../Tools/np-to-tf-embeddings-visualiser-master\")\n",
    "from save_embeddings import save_embeddings"
   ]
  },
  {
   "cell_type": "code",
   "execution_count": 110,
   "metadata": {},
   "outputs": [],
   "source": [
    "N = len(vocab.keys())\n",
    "L = 300\n",
    "my_embeddings = np.zeros((N, L))"
   ]
  },
  {
   "cell_type": "code",
   "execution_count": 111,
   "metadata": {},
   "outputs": [],
   "source": [
    "for word, ID in vocab.items():\n",
    "    try:\n",
    "        my_embeddings[ID] = w2v[word]\n",
    "    except:\n",
    "        # if no embedding, leave as all zeros\n",
    "        pass"
   ]
  },
  {
   "cell_type": "code",
   "execution_count": 83,
   "metadata": {},
   "outputs": [],
   "source": [
    "np.save('./airbnb', my_embeddings)"
   ]
  },
  {
   "cell_type": "code",
   "execution_count": 94,
   "metadata": {},
   "outputs": [],
   "source": [
    "my_word_embeddings = np.load('airbnb.npy')"
   ]
  },
  {
   "cell_type": "code",
   "execution_count": 119,
   "metadata": {},
   "outputs": [
    {
     "data": {
      "text/plain": [
       "'log/model.ckpt'"
      ]
     },
     "execution_count": 119,
     "metadata": {},
     "output_type": "execute_result"
    }
   ],
   "source": [
    "import os\n",
    "import tensorflow as tf\n",
    "import numpy as np\n",
    "from tensorflow.contrib.tensorboard.plugins import projector\n",
    "\n",
    "# setup a TensorFlow session\n",
    "tf.reset_default_graph()\n",
    "sess = tf.InteractiveSession()\n",
    "X = tf.Variable([0.0], name='embedding')\n",
    "place = tf.placeholder(tf.float32, shape=my_embeddings.shape)\n",
    "set_x = tf.assign(X, place, validate_shape=False)\n",
    "sess.run(tf.global_variables_initializer())\n",
    "sess.run(set_x, feed_dict={place: my_embeddings})\n",
    "\n",
    "# write labels\n",
    "with open('log/metadata.tsv', 'w') as f:\n",
    "    for word,_ in vocab.items():\n",
    "        f.write(word + '\\n')\n",
    "\n",
    "# create a TensorFlow summary writer\n",
    "summary_writer = tf.summary.FileWriter('log', sess.graph)\n",
    "config = projector.ProjectorConfig()\n",
    "embedding_conf = config.embeddings.add()\n",
    "embedding_conf.tensor_name = 'embedding:0'\n",
    "embedding_conf.metadata_path = os.path.join('log', 'metadata.tsv')\n",
    "projector.visualize_embeddings(summary_writer, config)\n",
    "\n",
    "# save the model\n",
    "saver = tf.train.Saver()\n",
    "saver.save(sess, os.path.join('log', \"model.ckpt\"))"
   ]
  },
  {
   "cell_type": "code",
   "execution_count": null,
   "metadata": {},
   "outputs": [],
   "source": []
  }
 ],
 "metadata": {
  "kernelspec": {
   "display_name": "Python 3",
   "language": "python",
   "name": "python3"
  },
  "language_info": {
   "codemirror_mode": {
    "name": "ipython",
    "version": 3
   },
   "file_extension": ".py",
   "mimetype": "text/x-python",
   "name": "python",
   "nbconvert_exporter": "python",
   "pygments_lexer": "ipython3",
   "version": "3.6.2"
  }
 },
 "nbformat": 4,
 "nbformat_minor": 2
}
