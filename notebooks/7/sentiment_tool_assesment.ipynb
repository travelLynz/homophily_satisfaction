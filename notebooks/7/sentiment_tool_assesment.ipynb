{
 "cells": [
  {
   "cell_type": "code",
   "execution_count": 77,
   "metadata": {},
   "outputs": [
    {
     "name": "stdout",
     "output_type": "stream",
     "text": [
      "The autoreload extension is already loaded. To reload it, use:\n",
      "  %reload_ext autoreload\n"
     ]
    }
   ],
   "source": [
    "%load_ext autoreload\n",
    "%autoreload 2\n",
    "import os\n",
    "import glob\n",
    "import pandas as pd\n",
    "import numpy as np\n",
    "import time\n",
    "import matplotlib.pyplot as plt\n",
    "pd.options.display.max_columns = 999\n",
    "import sys\n",
    "sys.path.append(\"../../Code\")\n",
    "import vader\n",
    "import settings as s\n",
    "import utils \n",
    "import seaborn as sns \n",
    "import afinns as af\n",
    "import s140\n",
    "import opinion_lexicon as op\n",
    "import so_cal as sc"
   ]
  },
  {
   "cell_type": "markdown",
   "metadata": {},
   "source": [
    "# Load Data"
   ]
  },
  {
   "cell_type": "code",
   "execution_count": 3,
   "metadata": {},
   "outputs": [],
   "source": [
    "reviews = pd.read_csv(os.path.join('..','2','len_lang_restrict_reviews.csv'), index_col=0)"
   ]
  },
  {
   "cell_type": "markdown",
   "metadata": {},
   "source": [
    "# Sentiment analysis tools "
   ]
  },
  {
   "cell_type": "markdown",
   "metadata": {},
   "source": [
    "# Afinn - overall"
   ]
  },
  {
   "cell_type": "code",
   "execution_count": 6,
   "metadata": {},
   "outputs": [],
   "source": [
    "reviews['afinn'] = reviews.comments.map(lambda x: af.get_score(x))"
   ]
  },
  {
   "cell_type": "code",
   "execution_count": 33,
   "metadata": {},
   "outputs": [],
   "source": [
    "reviews.to_csv('reviews_with_sent.csv')"
   ]
  },
  {
   "cell_type": "markdown",
   "metadata": {},
   "source": [
    "## Vader - Overall"
   ]
  },
  {
   "cell_type": "code",
   "execution_count": 10,
   "metadata": {},
   "outputs": [],
   "source": [
    "reviews['vader'] = reviews.comments.map(lambda x: vader.get_score(x))"
   ]
  },
  {
   "cell_type": "markdown",
   "metadata": {},
   "source": [
    "# S140"
   ]
  },
  {
   "cell_type": "code",
   "execution_count": 18,
   "metadata": {},
   "outputs": [],
   "source": [
    "s140.save_review_s140(reviews,'reviews')"
   ]
  },
  {
   "cell_type": "code",
   "execution_count": 19,
   "metadata": {},
   "outputs": [],
   "source": [
    "s140_dir = \"s140/overall/out/\""
   ]
  },
  {
   "cell_type": "code",
   "execution_count": 24,
   "metadata": {},
   "outputs": [
    {
     "name": "stdout",
     "output_type": "stream",
     "text": [
      "225484 Index(['string'], dtype='object')\n"
     ]
    }
   ],
   "source": [
    "reviews = s140.read_s140_scores(s140_dir, reviews)"
   ]
  },
  {
   "cell_type": "markdown",
   "metadata": {},
   "source": [
    "# SO-CAL"
   ]
  },
  {
   "cell_type": "code",
   "execution_count": 23,
   "metadata": {},
   "outputs": [],
   "source": [
    "sc.save_review_so_cal(reviews, 'comments')"
   ]
  },
  {
   "cell_type": "code",
   "execution_count": 43,
   "metadata": {},
   "outputs": [],
   "source": [
    "reviews = sc.get_overall_sent('so_cal/overall/out/file_sentiment.csv', reviews)"
   ]
  },
  {
   "cell_type": "markdown",
   "metadata": {},
   "source": [
    "## Add opinion Lexicon Scores"
   ]
  },
  {
   "cell_type": "code",
   "execution_count": 28,
   "metadata": {},
   "outputs": [],
   "source": [
    "reviews['opinion_bow'] = reviews.comments.map(lambda x: op.get_score(x))"
   ]
  },
  {
   "cell_type": "code",
   "execution_count": 29,
   "metadata": {},
   "outputs": [],
   "source": [
    "reviews['opinion_freq'] = reviews.comments.map(lambda x: op.get_score(x, \"freq\"))"
   ]
  },
  {
   "cell_type": "markdown",
   "metadata": {},
   "source": [
    "### AFINN-Sentence Level"
   ]
  },
  {
   "cell_type": "code",
   "execution_count": 31,
   "metadata": {},
   "outputs": [],
   "source": [
    "reviews['Affin-sentence'] = reviews.comments.map(lambda x: af.get_sentence_level_sent(x))"
   ]
  },
  {
   "cell_type": "markdown",
   "metadata": {},
   "source": [
    "### Vader sentence Level"
   ]
  },
  {
   "cell_type": "code",
   "execution_count": 34,
   "metadata": {},
   "outputs": [],
   "source": [
    "reviews['Vader-sentence'] = reviews.comments.map(lambda x: vader.get_sentence_level_sent(x))"
   ]
  },
  {
   "cell_type": "markdown",
   "metadata": {},
   "source": [
    "### Opinion Lexion BOW Sentence Level "
   ]
  },
  {
   "cell_type": "code",
   "execution_count": 36,
   "metadata": {},
   "outputs": [],
   "source": [
    "reviews['opinion_bow-sentence'] = reviews.comments.map(lambda x: op.get_sentence_level_sent(x))"
   ]
  },
  {
   "cell_type": "markdown",
   "metadata": {},
   "source": [
    "### Opinion Lexion Freq Sentence Level "
   ]
  },
  {
   "cell_type": "code",
   "execution_count": 37,
   "metadata": {},
   "outputs": [],
   "source": [
    "reviews['opinion_freq-sentence'] = reviews.comments.map(lambda x: op.get_sentence_level_sent(x, \"freq\"))"
   ]
  },
  {
   "cell_type": "markdown",
   "metadata": {},
   "source": [
    "### Sentiment-140 sentence Level"
   ]
  },
  {
   "cell_type": "code",
   "execution_count": 41,
   "metadata": {},
   "outputs": [],
   "source": [
    "s140.save_review_sentence_short(reviews)"
   ]
  },
  {
   "cell_type": "code",
   "execution_count": 46,
   "metadata": {},
   "outputs": [],
   "source": [
    "s140_dir = 's140/sent/out/'"
   ]
  },
  {
   "cell_type": "code",
   "execution_count": 79,
   "metadata": {},
   "outputs": [],
   "source": [
    "reviews['s140-sentence'] = s140.get_sentence_level_sent(s140_dir, reviews)"
   ]
  },
  {
   "cell_type": "markdown",
   "metadata": {},
   "source": [
    "### SO_CAL sentence level"
   ]
  },
  {
   "cell_type": "code",
   "execution_count": 82,
   "metadata": {},
   "outputs": [],
   "source": [
    "sc.save_review_sentence(reviews, 'comments')"
   ]
  },
  {
   "cell_type": "code",
   "execution_count": 84,
   "metadata": {},
   "outputs": [],
   "source": [
    "so_cal_dir = 'so_cal/sent/out/file_sentiment.csv'"
   ]
  },
  {
   "cell_type": "code",
   "execution_count": 129,
   "metadata": {},
   "outputs": [
    {
     "name": "stderr",
     "output_type": "stream",
     "text": [
      "/Users/lynraybarends/anaconda3/lib/python3.6/site-packages/ipykernel_launcher.py:1: SettingWithCopyWarning: \n",
      "A value is trying to be set on a copy of a slice from a DataFrame.\n",
      "Try using .loc[row_indexer,col_indexer] = value instead\n",
      "\n",
      "See the caveats in the documentation: http://pandas.pydata.org/pandas-docs/stable/indexing.html#indexing-view-versus-copy\n",
      "  \"\"\"Entry point for launching an IPython kernel.\n"
     ]
    }
   ],
   "source": [
    "reviews['so_cal-sentence'] = sc.get_sentence_level_sent(so_cal_dir, reviews)"
   ]
  },
  {
   "cell_type": "code",
   "execution_count": 130,
   "metadata": {},
   "outputs": [
    {
     "data": {
      "text/html": [
       "<div>\n",
       "<style>\n",
       "    .dataframe thead tr:only-child th {\n",
       "        text-align: right;\n",
       "    }\n",
       "\n",
       "    .dataframe thead th {\n",
       "        text-align: left;\n",
       "    }\n",
       "\n",
       "    .dataframe tbody tr th {\n",
       "        vertical-align: top;\n",
       "    }\n",
       "</style>\n",
       "<table border=\"1\" class=\"dataframe\">\n",
       "  <thead>\n",
       "    <tr style=\"text-align: right;\">\n",
       "      <th></th>\n",
       "      <th>idReview</th>\n",
       "      <th>id</th>\n",
       "      <th>date</th>\n",
       "      <th>reviewer_id</th>\n",
       "      <th>listing_id</th>\n",
       "      <th>recipient_id</th>\n",
       "      <th>comments</th>\n",
       "      <th>hostCancelled</th>\n",
       "      <th>token_len</th>\n",
       "      <th>num_of_sents</th>\n",
       "      <th>google_langs</th>\n",
       "      <th>google_langs_conf</th>\n",
       "      <th>langdetect_langs</th>\n",
       "      <th>langdetect_langs_conf</th>\n",
       "      <th>other_langs</th>\n",
       "      <th>translated</th>\n",
       "      <th>afinn</th>\n",
       "      <th>vader</th>\n",
       "      <th>s140</th>\n",
       "      <th>opinion_bow</th>\n",
       "      <th>opinion_freq</th>\n",
       "      <th>Affin-sentence</th>\n",
       "      <th>Vader-sentence</th>\n",
       "      <th>opinion_bow-sentence</th>\n",
       "      <th>opinion_freq-sentence</th>\n",
       "      <th>so_cal</th>\n",
       "      <th>s140-sentence</th>\n",
       "      <th>so_cal-sentence</th>\n",
       "      <th>sc</th>\n",
       "    </tr>\n",
       "  </thead>\n",
       "  <tbody>\n",
       "    <tr>\n",
       "      <th>23259</th>\n",
       "      <td>47901</td>\n",
       "      <td>129387822</td>\n",
       "      <td>2017-01-30</td>\n",
       "      <td>87776088</td>\n",
       "      <td>195089</td>\n",
       "      <td>948075</td>\n",
       "      <td>We stayed at Alon's for two weeks.  First of all, the communication with Alon was great, he always answered very quickly and was very accommodating for early check-in and late check-out (Thanks ag...</td>\n",
       "      <td>N</td>\n",
       "      <td>319</td>\n",
       "      <td>17</td>\n",
       "      <td>en</td>\n",
       "      <td>1.0</td>\n",
       "      <td>en</td>\n",
       "      <td>0.571427</td>\n",
       "      <td>['fr', 'fr', 'fr', 'fr', 'fr', 'fr', 'fr', 'fr']</td>\n",
       "      <td>We stayed at Alon's for two weeks.First of all, the communication with Alon was great, he always answered very quickly and was very accommodating for early check-in and late check-out (Thanks agai...</td>\n",
       "      <td>18.0</td>\n",
       "      <td>0.9816</td>\n",
       "      <td>4</td>\n",
       "      <td>0.048485</td>\n",
       "      <td>0.021944</td>\n",
       "      <td>[0.0, 5.0, 0.0, 3.0, 3.0, 1.0, 8.0, -1.0, 4.0, 0.0, -2.0, -2.0, -2.0, 1.0, 0.0, -2.0, 2.0]</td>\n",
       "      <td>[0.0, 0.6588, 0.3802, 0.4404, 0.5719, 0.3182, 0.886, -0.4854, 0.7955, 0.0, -0.128, 0.0, -0.128, 0.3182, 0.4466, -0.128, 0.4199]</td>\n",
       "      <td>[0.0, 0.08333333333333333, 0.0, 0.14285714285714285, 0.2, 0.0, 0.4, -0.14285714285714285, 0.2, 0.0, -0.125, 0.0, -0.043478260869565216, 0.04, 0.0, -0.043478260869565216, 0.05555555555555555]</td>\n",
       "      <td>[0.0, 0.03571428571428571, 0.0, 0.09090909090909091, 0.09090909090909091, 0.0, 0.18181818181818182, -0.08333333333333333, 0.09090909090909091, 0.0, -0.125, 0.0, -0.03571428571428571, 0.03448275862...</td>\n",
       "      <td>NaN</td>\n",
       "      <td>[2, 4, 2, 2, 2, 2, 2, 2, 4, 2, 2, 2, 2, 2, 2, 2, 2]</td>\n",
       "      <td>NaN</td>\n",
       "      <td>False</td>\n",
       "    </tr>\n",
       "  </tbody>\n",
       "</table>\n",
       "</div>"
      ],
      "text/plain": [
       "       idReview         id        date  reviewer_id  listing_id  recipient_id  \\\n",
       "23259     47901  129387822  2017-01-30     87776088      195089        948075   \n",
       "\n",
       "                                                                                                                                                                                                      comments  \\\n",
       "23259  We stayed at Alon's for two weeks.  First of all, the communication with Alon was great, he always answered very quickly and was very accommodating for early check-in and late check-out (Thanks ag...   \n",
       "\n",
       "      hostCancelled  token_len  num_of_sents google_langs  google_langs_conf  \\\n",
       "23259             N        319            17           en                1.0   \n",
       "\n",
       "      langdetect_langs  langdetect_langs_conf  \\\n",
       "23259               en               0.571427   \n",
       "\n",
       "                                            other_langs  \\\n",
       "23259  ['fr', 'fr', 'fr', 'fr', 'fr', 'fr', 'fr', 'fr']   \n",
       "\n",
       "                                                                                                                                                                                                    translated  \\\n",
       "23259  We stayed at Alon's for two weeks.First of all, the communication with Alon was great, he always answered very quickly and was very accommodating for early check-in and late check-out (Thanks agai...   \n",
       "\n",
       "       afinn   vader  s140  opinion_bow  opinion_freq  \\\n",
       "23259   18.0  0.9816     4     0.048485      0.021944   \n",
       "\n",
       "                                                                                   Affin-sentence  \\\n",
       "23259  [0.0, 5.0, 0.0, 3.0, 3.0, 1.0, 8.0, -1.0, 4.0, 0.0, -2.0, -2.0, -2.0, 1.0, 0.0, -2.0, 2.0]   \n",
       "\n",
       "                                                                                                                        Vader-sentence  \\\n",
       "23259  [0.0, 0.6588, 0.3802, 0.4404, 0.5719, 0.3182, 0.886, -0.4854, 0.7955, 0.0, -0.128, 0.0, -0.128, 0.3182, 0.4466, -0.128, 0.4199]   \n",
       "\n",
       "                                                                                                                                                                                 opinion_bow-sentence  \\\n",
       "23259  [0.0, 0.08333333333333333, 0.0, 0.14285714285714285, 0.2, 0.0, 0.4, -0.14285714285714285, 0.2, 0.0, -0.125, 0.0, -0.043478260869565216, 0.04, 0.0, -0.043478260869565216, 0.05555555555555555]   \n",
       "\n",
       "                                                                                                                                                                                         opinion_freq-sentence  \\\n",
       "23259  [0.0, 0.03571428571428571, 0.0, 0.09090909090909091, 0.09090909090909091, 0.0, 0.18181818181818182, -0.08333333333333333, 0.09090909090909091, 0.0, -0.125, 0.0, -0.03571428571428571, 0.03448275862...   \n",
       "\n",
       "       so_cal                                        s140-sentence  \\\n",
       "23259     NaN  [2, 4, 2, 2, 2, 2, 2, 2, 4, 2, 2, 2, 2, 2, 2, 2, 2]   \n",
       "\n",
       "      so_cal-sentence     sc  \n",
       "23259             NaN  False  "
      ]
     },
     "execution_count": 130,
     "metadata": {},
     "output_type": "execute_result"
    }
   ],
   "source": [
    "reviews[reviews['so_cal-sentence'].isnull()]"
   ]
  },
  {
   "cell_type": "code",
   "execution_count": 132,
   "metadata": {},
   "outputs": [],
   "source": [
    "reviews.to_csv('reviews_with_sent.csv')"
   ]
  },
  {
   "cell_type": "markdown",
   "metadata": {},
   "source": [
    "# Needs to be moved"
   ]
  },
  {
   "cell_type": "markdown",
   "metadata": {},
   "source": [
    "# TEST Translated Comment"
   ]
  },
  {
   "cell_type": "markdown",
   "metadata": {},
   "source": [
    "## AFINN"
   ]
  },
  {
   "cell_type": "code",
   "execution_count": 168,
   "metadata": {},
   "outputs": [],
   "source": [
    "eng_reviews['trans-afinn'] = [afinn.score(x) if x != None else x for x in eng_reviews.translated]"
   ]
  },
  {
   "cell_type": "markdown",
   "metadata": {},
   "source": [
    "## VADER"
   ]
  },
  {
   "cell_type": "code",
   "execution_count": 174,
   "metadata": {},
   "outputs": [],
   "source": [
    "eng_reviews['trans-vader'] = [analyzer.polarity_scores(x)['compound'] if x != None else x for x in eng_reviews.translated]"
   ]
  },
  {
   "cell_type": "markdown",
   "metadata": {},
   "source": [
    "### How many unique languages detected"
   ]
  },
  {
   "cell_type": "code",
   "execution_count": 30,
   "metadata": {},
   "outputs": [
    {
     "data": {
      "text/plain": [
       "44"
      ]
     },
     "execution_count": 30,
     "metadata": {},
     "output_type": "execute_result"
    }
   ],
   "source": [
    "len(reviews['langs'].unique())"
   ]
  },
  {
   "cell_type": "markdown",
   "metadata": {},
   "source": [
    "### Which Reviews have languages that are unknown?"
   ]
  },
  {
   "cell_type": "code",
   "execution_count": 31,
   "metadata": {},
   "outputs": [
    {
     "data": {
      "text/html": [
       "<div>\n",
       "<style>\n",
       "    .dataframe thead tr:only-child th {\n",
       "        text-align: right;\n",
       "    }\n",
       "\n",
       "    .dataframe thead th {\n",
       "        text-align: left;\n",
       "    }\n",
       "\n",
       "    .dataframe tbody tr th {\n",
       "        vertical-align: top;\n",
       "    }\n",
       "</style>\n",
       "<table border=\"1\" class=\"dataframe\">\n",
       "  <thead>\n",
       "    <tr style=\"text-align: right;\">\n",
       "      <th></th>\n",
       "      <th>idReview</th>\n",
       "      <th>id</th>\n",
       "      <th>date</th>\n",
       "      <th>reviewer_id</th>\n",
       "      <th>listing_id</th>\n",
       "      <th>recipient_id</th>\n",
       "      <th>comments</th>\n",
       "      <th>len</th>\n",
       "      <th>num_of_sents</th>\n",
       "      <th>langs</th>\n",
       "      <th>langs_conf</th>\n",
       "    </tr>\n",
       "  </thead>\n",
       "  <tbody>\n",
       "    <tr>\n",
       "      <th>3895</th>\n",
       "      <td>6809</td>\n",
       "      <td>217296687</td>\n",
       "      <td>2017-12-08</td>\n",
       "      <td>4894631</td>\n",
       "      <td>15711</td>\n",
       "      <td>61491</td>\n",
       "      <td>👌🏼</td>\n",
       "      <td>1</td>\n",
       "      <td>1</td>\n",
       "      <td>unk</td>\n",
       "      <td>0.0</td>\n",
       "    </tr>\n",
       "    <tr>\n",
       "      <th>6399</th>\n",
       "      <td>12279</td>\n",
       "      <td>146656895</td>\n",
       "      <td>2017-04-23</td>\n",
       "      <td>113471646</td>\n",
       "      <td>27024</td>\n",
       "      <td>3227</td>\n",
       "      <td>-</td>\n",
       "      <td>1</td>\n",
       "      <td>1</td>\n",
       "      <td>unk</td>\n",
       "      <td>0.0</td>\n",
       "    </tr>\n",
       "    <tr>\n",
       "      <th>7565</th>\n",
       "      <td>16605</td>\n",
       "      <td>7913554</td>\n",
       "      <td>2013-10-08</td>\n",
       "      <td>6588502</td>\n",
       "      <td>41959</td>\n",
       "      <td>140272</td>\n",
       "      <td>:(</td>\n",
       "      <td>1</td>\n",
       "      <td>1</td>\n",
       "      <td>unk</td>\n",
       "      <td>0.0</td>\n",
       "    </tr>\n",
       "    <tr>\n",
       "      <th>7706</th>\n",
       "      <td>16746</td>\n",
       "      <td>127177546</td>\n",
       "      <td>2017-01-16</td>\n",
       "      <td>101474773</td>\n",
       "      <td>41959</td>\n",
       "      <td>140272</td>\n",
       "      <td>:)</td>\n",
       "      <td>1</td>\n",
       "      <td>1</td>\n",
       "      <td>unk</td>\n",
       "      <td>0.0</td>\n",
       "    </tr>\n",
       "    <tr>\n",
       "      <th>8675</th>\n",
       "      <td>19047</td>\n",
       "      <td>192543354</td>\n",
       "      <td>2017-09-10</td>\n",
       "      <td>142858402</td>\n",
       "      <td>47199</td>\n",
       "      <td>212722</td>\n",
       "      <td>.</td>\n",
       "      <td>1</td>\n",
       "      <td>1</td>\n",
       "      <td>unk</td>\n",
       "      <td>0.0</td>\n",
       "    </tr>\n",
       "  </tbody>\n",
       "</table>\n",
       "</div>"
      ],
      "text/plain": [
       "     idReview         id        date reviewer_id listing_id recipient_id  \\\n",
       "3895     6809  217296687  2017-12-08     4894631      15711        61491   \n",
       "6399    12279  146656895  2017-04-23   113471646      27024         3227   \n",
       "7565    16605    7913554  2013-10-08     6588502      41959       140272   \n",
       "7706    16746  127177546  2017-01-16   101474773      41959       140272   \n",
       "8675    19047  192543354  2017-09-10   142858402      47199       212722   \n",
       "\n",
       "     comments  len  num_of_sents langs  langs_conf  \n",
       "3895       👌🏼    1             1   unk         0.0  \n",
       "6399        -    1             1   unk         0.0  \n",
       "7565       :(    1             1   unk         0.0  \n",
       "7706       :)    1             1   unk         0.0  \n",
       "8675        .    1             1   unk         0.0  "
      ]
     },
     "execution_count": 31,
     "metadata": {},
     "output_type": "execute_result"
    }
   ],
   "source": [
    "reviews[reviews['langs'] =='unk'].head()"
   ]
  },
  {
   "cell_type": "code",
   "execution_count": 32,
   "metadata": {},
   "outputs": [
    {
     "data": {
      "text/plain": [
       "384957"
      ]
     },
     "execution_count": 32,
     "metadata": {},
     "output_type": "execute_result"
    }
   ],
   "source": [
    "len(reviews[reviews['num_of_sents'] > 1])"
   ]
  },
  {
   "cell_type": "markdown",
   "metadata": {},
   "source": [
    "### Restrict greater than 5 tokens/words and greater than 1 sentence "
   ]
  },
  {
   "cell_type": "code",
   "execution_count": 178,
   "metadata": {},
   "outputs": [
    {
     "data": {
      "image/png": "[encoded data removed]",
      "text/plain": [
       "<matplotlib.figure.Figure at 0x12de23550>"
      ]
     },
     "metadata": {},
     "output_type": "display_data"
    },
    {
     "data": {
      "image/png": "[encoded data removed]",
      "text/plain": [
       "<matplotlib.figure.Figure at 0x1341d0da0>"
      ]
     },
     "metadata": {},
     "output_type": "display_data"
    },
    {
     "name": "stdout",
     "output_type": "stream",
     "text": [
      "Average: 60.172471131639725\n",
      "Min: 5\n",
      "Max: 548\n",
      "Variance: 2915.79852160788\n",
      "Std deviation: 53.99813442710665\n"
     ]
    }
   ],
   "source": [
    "print_desc_sent(eng_reviews, 'len')"
   ]
  },
  {
   "cell_type": "code",
   "execution_count": 177,
   "metadata": {},
   "outputs": [
    {
     "data": {
      "image/png": "[encoded data removed]",
      "text/plain": [
       "<matplotlib.figure.Figure at 0x1383f4550>"
      ]
     },
     "metadata": {},
     "output_type": "display_data"
    },
    {
     "data": {
      "image/png": "[encoded data removed]",
      "text/plain": [
       "<matplotlib.figure.Figure at 0x134826eb8>"
      ]
     },
     "metadata": {},
     "output_type": "display_data"
    },
    {
     "name": "stdout",
     "output_type": "stream",
     "text": [
      "Average: 4.774716215270487\n",
      "Min: 1\n",
      "Max: 58\n",
      "Variance: 10.381879310970403\n",
      "Std deviation: 3.222092380887054\n"
     ]
    }
   ],
   "source": [
    "print_desc_sent(eng_reviews, 'num_of_sents')"
   ]
  },
  {
   "cell_type": "markdown",
   "metadata": {},
   "source": [
    "### Get Secondary Languages"
   ]
  },
  {
   "cell_type": "code",
   "execution_count": 92,
   "metadata": {},
   "outputs": [],
   "source": [
    "from googletrans import Translator"
   ]
  },
  {
   "cell_type": "code",
   "execution_count": 116,
   "metadata": {},
   "outputs": [],
   "source": [
    "def detect_other_langs(com):\n",
    "    sents = sent_tokenize(com)\n",
    "    other_langs = []\n",
    "    for i,s in zip(range(len(sents)), sents):\n",
    "        try:\n",
    "            first = str(detect_langs(s)[0]).split(':')\n",
    "            if len(first)> 1 and first[0] != 'en' and float(first[1]) > 0.999:\n",
    "                print('Translating')\n",
    "                other_langs.append(first[0])\n",
    "                translator = Translator()\n",
    "                translated = translator.translate(s, dest='en')\n",
    "                sents[i] = translated.text\n",
    "        except:\n",
    "            continue;\n",
    "    return (other_langs, \"\".join(sents)) if len(other_langs) > 0 else (0, None)"
   ]
  },
  {
   "cell_type": "code",
   "execution_count": null,
   "metadata": {},
   "outputs": [],
   "source": [
    "eng_reviews = get_other_langs(eng_reviews)"
   ]
  },
  {
   "cell_type": "code",
   "execution_count": 122,
   "metadata": {},
   "outputs": [],
   "source": [
    "eng_reviews.to_csv('../Data/finalised/reviews.csv')"
   ]
  },
  {
   "cell_type": "code",
   "execution_count": 123,
   "metadata": {},
   "outputs": [
    {
     "data": {
      "text/plain": [
       "357225"
      ]
     },
     "execution_count": 123,
     "metadata": {},
     "output_type": "execute_result"
    }
   ],
   "source": [
    "len(eng_reviews)"
   ]
  },
  {
   "cell_type": "code",
   "execution_count": 132,
   "metadata": {},
   "outputs": [
    {
     "data": {
      "text/plain": [
       "\"It's very good location. The household is very considerate. The room is very comfortable with all furcilities. Make my stay enjoyable\""
      ]
     },
     "execution_count": 132,
     "metadata": {},
     "output_type": "execute_result"
    }
   ],
   "source": [
    "utils.get_comments(eng_reviews, 'id', '268306359', 'comments')"
   ]
  },
  {
   "cell_type": "code",
   "execution_count": 133,
   "metadata": {},
   "outputs": [
    {
     "data": {
      "text/plain": [
       "20027"
      ]
     },
     "execution_count": 133,
     "metadata": {},
     "output_type": "execute_result"
    }
   ],
   "source": [
    "len(eng_reviews[eng_reviews['other_langs'] != 0])"
   ]
  },
  {
   "cell_type": "markdown",
   "metadata": {},
   "source": [
    "# Spelling corrector"
   ]
  },
  {
   "cell_type": "code",
   "execution_count": 149,
   "metadata": {},
   "outputs": [],
   "source": [
    "from spellchecker import SpellChecker\n",
    "keys = utils.tokenize(utils.get_comments(reviews, 'id', 129387822, 'comments').lower())\n",
    "spell = SpellChecker()\n",
    "# find those words that may be misspelled\n",
    "misspelled = spell.unknown(keys)"
   ]
  },
  {
   "cell_type": "code",
   "execution_count": 150,
   "metadata": {},
   "outputs": [
    {
     "data": {
      "text/plain": [
       "{'15',\n",
       " '15mn',\n",
       " '2',\n",
       " '20',\n",
       " '30',\n",
       " '30mn',\n",
       " 'adresses',\n",
       " \"alon's\",\n",
       " 'arrangeant',\n",
       " 'assuré',\n",
       " 'avons',\n",
       " 'bonnes',\n",
       " 'bruyant',\n",
       " 'chauffage',\n",
       " 'collectif',\n",
       " 'conforme',\n",
       " \"d'abord\",\n",
       " \"d'alon\",\n",
       " 'donné',\n",
       " 'exactement',\n",
       " 'excellente',\n",
       " 'grâce',\n",
       " 'gênant',\n",
       " 'idéal',\n",
       " \"it's\",\n",
       " \"l'appart'\",\n",
       " \"l'appartement\",\n",
       " \"l'ensemble\",\n",
       " \"l'immeuble\",\n",
       " \"l'on\",\n",
       " 'lequel',\n",
       " 'littéralement',\n",
       " 'midtwon',\n",
       " 'métro',\n",
       " 'même',\n",
       " \"n'a\",\n",
       " 'passait',\n",
       " 'plusieurs',\n",
       " 'profiter',\n",
       " 'quand',\n",
       " 'rapidement',\n",
       " 'recherchions',\n",
       " 'restos',\n",
       " 'restés',\n",
       " 'rien',\n",
       " 'répond',\n",
       " \"s'est\",\n",
       " 'semaines',\n",
       " 'sortir',\n",
       " 'système',\n",
       " 'tard',\n",
       " \"that's\",\n",
       " 'toujours',\n",
       " 'très',\n",
       " 'tôt',\n",
       " 'vaisselle',\n",
       " 'vraiment',\n",
       " 'à',\n",
       " 'étaient',\n",
       " 'était',\n",
       " 'étions',\n",
       " 'été'}"
      ]
     },
     "execution_count": 150,
     "metadata": {},
     "output_type": "execute_result"
    }
   ],
   "source": [
    "misspelled"
   ]
  },
  {
   "cell_type": "code",
   "execution_count": 151,
   "metadata": {},
   "outputs": [],
   "source": [
    "corrections = {}\n",
    "for word in misspelled:\n",
    "    corrections[word] = spell.correction(word)\n",
    "    "
   ]
  },
  {
   "cell_type": "code",
   "execution_count": 152,
   "metadata": {},
   "outputs": [
    {
     "data": {
      "text/plain": [
       "{'15': 'p5',\n",
       " '15mn': 'damn',\n",
       " '2': 'a',\n",
       " '20': 'm0',\n",
       " '30': 'm0',\n",
       " '30mn': 'damn',\n",
       " 'adresses': 'addresses',\n",
       " \"alon's\": 'along',\n",
       " 'arrangeant': 'arrangement',\n",
       " 'assuré': 'assure',\n",
       " 'avons': 'avon',\n",
       " 'bonnes': 'bones',\n",
       " 'bruyant': 'bryant',\n",
       " 'chauffage': 'chauffage',\n",
       " 'collectif': 'collection',\n",
       " 'conforme': 'conform',\n",
       " \"d'abord\": 'debord',\n",
       " \"d'alon\": 'dralon',\n",
       " 'donné': 'donna',\n",
       " 'exactement': 'excitement',\n",
       " 'excellente': 'excellent',\n",
       " 'grâce': 'grace',\n",
       " 'gênant': 'grant',\n",
       " 'idéal': 'ideal',\n",
       " \"it's\": 'its',\n",
       " \"l'appart'\": \"l'appart'\",\n",
       " \"l'appartement\": \"l'appartement\",\n",
       " \"l'ensemble\": 'ensemble',\n",
       " \"l'immeuble\": \"l'immeuble\",\n",
       " \"l'on\": 'lion',\n",
       " 'lequel': 'sequel',\n",
       " 'littéralement': 'littéralement',\n",
       " 'midtwon': 'midtown',\n",
       " 'métro': 'metro',\n",
       " 'même': 'mime',\n",
       " \"n'a\": \"n't\",\n",
       " 'passait': 'passat',\n",
       " 'plusieurs': 'plusieurs',\n",
       " 'profiter': 'profited',\n",
       " 'quand': 'quad',\n",
       " 'rapidement': 'rapidement',\n",
       " 'recherchions': 'recherchions',\n",
       " 'restos': 'rests',\n",
       " 'restés': 'rests',\n",
       " 'rien': 'risen',\n",
       " 'répond': 'respond',\n",
       " \"s'est\": \"c'est\",\n",
       " 'semaines': 'remained',\n",
       " 'sortir': 'sortie',\n",
       " 'système': 'system',\n",
       " 'tard': 'hard',\n",
       " \"that's\": 'thats',\n",
       " 'toujours': 'tumours',\n",
       " 'très': 'tris',\n",
       " 'tôt': 'tt',\n",
       " 'vaisselle': 'vaisselle',\n",
       " 'vraiment': 'raiment',\n",
       " 'à': 'a',\n",
       " 'étaient': 'patient',\n",
       " 'était': 'tait',\n",
       " 'étions': 'actions',\n",
       " 'été': 'to'}"
      ]
     },
     "execution_count": 152,
     "metadata": {},
     "output_type": "execute_result"
    }
   ],
   "source": [
    "corrections"
   ]
  },
  {
   "cell_type": "code",
   "execution_count": 140,
   "metadata": {},
   "outputs": [
    {
     "data": {
      "text/plain": [
       "{'furcilities', 'heire', \"something'\"}"
      ]
     },
     "execution_count": 140,
     "metadata": {},
     "output_type": "execute_result"
    }
   ],
   "source": [
    "misspelled"
   ]
  },
  {
   "cell_type": "code",
   "execution_count": 1,
   "metadata": {},
   "outputs": [
    {
     "ename": "NameError",
     "evalue": "name 'corrections' is not defined",
     "output_type": "error",
     "traceback": [
      "\u001b[0;31m---------------------------------------------------------------------------\u001b[0m",
      "\u001b[0;31mNameError\u001b[0m                                 Traceback (most recent call last)",
      "\u001b[0;32m<ipython-input-1-9f316ccccb47>\u001b[0m in \u001b[0;36m<module>\u001b[0;34m()\u001b[0m\n\u001b[0;32m----> 1\u001b[0;31m \u001b[0mcorrections\u001b[0m\u001b[0;34m\u001b[0m\u001b[0m\n\u001b[0m",
      "\u001b[0;31mNameError\u001b[0m: name 'corrections' is not defined"
     ]
    }
   ],
   "source": [
    "corrections"
   ]
  }
 ],
 "metadata": {
  "kernelspec": {
   "display_name": "Python 3",
   "language": "python",
   "name": "python3"
  },
  "language_info": {
   "codemirror_mode": {
    "name": "ipython",
    "version": 3
   },
   "file_extension": ".py",
   "mimetype": "text/x-python",
   "name": "python",
   "nbconvert_exporter": "python",
   "pygments_lexer": "ipython3",
   "version": "3.6.2"
  }
 },
 "nbformat": 4,
 "nbformat_minor": 2
}
