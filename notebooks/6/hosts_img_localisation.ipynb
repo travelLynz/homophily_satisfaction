{
 "cells": [
  {
   "cell_type": "code",
   "execution_count": 199,
   "metadata": {},
   "outputs": [
    {
     "name": "stdout",
     "output_type": "stream",
     "text": [
      "The autoreload extension is already loaded. To reload it, use:\n",
      "  %reload_ext autoreload\n"
     ]
    }
   ],
   "source": [
    "%load_ext autoreload\n",
    "%autoreload 2\n",
    "import pandas as pd \n",
    "import sys\n",
    "import os\n",
    "import glob\n",
    "import numpy as np\n",
    "sys.path.append(\"../../Code\")\n",
    "import settings as s\n",
    "import images as im\n",
    "import files \n",
    "import utils\n",
    "import preprocessing as pre"
   ]
  },
  {
   "cell_type": "code",
   "execution_count": 190,
   "metadata": {
    "scrolled": true
   },
   "outputs": [
    {
     "name": "stderr",
     "output_type": "stream",
     "text": [
      "/Users/lynraybarends/anaconda3/lib/python3.6/site-packages/IPython/core/interactiveshell.py:2698: DtypeWarning: Columns (7,8) have mixed types. Specify dtype option on import or set low_memory=False.\n",
      "  interactivity=interactivity, compiler=compiler, result=result)\n"
     ]
    }
   ],
   "source": [
    "hosts = pd.read_csv('../2/len_lang_restrict_hosts.csv', index_col=0)\n",
    "guests = pd.read_csv('../2/len_lang_restrict_guests.csv', index_col=0)\n",
    "reviews = pd.read_csv('../2/len_lang_restrict_reviews.csv', index_col=0)\n",
    "listings = pd.read_csv('../2/len_lang_restrict_listings.csv', index_col=0)"
   ]
  },
  {
   "cell_type": "code",
   "execution_count": 191,
   "metadata": {},
   "outputs": [
    {
     "name": "stdout",
     "output_type": "stream",
     "text": [
      "Hosts:  11339\n",
      "Overall Guests:  211498\n",
      "Retrieved Guests:  93961\n",
      "Reviews:  225484\n",
      "Listings:  11337\n"
     ]
    }
   ],
   "source": [
    "print(\"Hosts: \", len(hosts))\n",
    "print(\"Overall Guests: \", len(reviews['reviewer_id'].unique()))\n",
    "print(\"Retrieved Guests: \", len(guests))\n",
    "print(\"Reviews: \", len(reviews))\n",
    "print(\"Listings: \", len(listings))"
   ]
  },
  {
   "cell_type": "code",
   "execution_count": 192,
   "metadata": {},
   "outputs": [],
   "source": [
    "hosts_loc = pd.read_csv('hosts_with_people.csv', index_col=0)"
   ]
  },
  {
   "cell_type": "code",
   "execution_count": 193,
   "metadata": {},
   "outputs": [],
   "source": [
    "hosts['num_of_people_in_pic'] = hosts.join(hosts_loc[['id','num_of_people_in_pic']].astype(str).set_index('id'), on='id')['num_of_people_in_pic']"
   ]
  },
  {
   "cell_type": "code",
   "execution_count": 194,
   "metadata": {},
   "outputs": [
    {
     "data": {
      "text/html": [
       "<div>\n",
       "<style>\n",
       "    .dataframe thead tr:only-child th {\n",
       "        text-align: right;\n",
       "    }\n",
       "\n",
       "    .dataframe thead th {\n",
       "        text-align: left;\n",
       "    }\n",
       "\n",
       "    .dataframe tbody tr th {\n",
       "        vertical-align: top;\n",
       "    }\n",
       "</style>\n",
       "<table border=\"1\" class=\"dataframe\">\n",
       "  <thead>\n",
       "    <tr style=\"text-align: right;\">\n",
       "      <th></th>\n",
       "      <th>people_in_pic</th>\n",
       "      <th>counts</th>\n",
       "      <th>%</th>\n",
       "    </tr>\n",
       "  </thead>\n",
       "  <tbody>\n",
       "    <tr>\n",
       "      <th>0</th>\n",
       "      <td>1.0</td>\n",
       "      <td>5935</td>\n",
       "      <td>52.34</td>\n",
       "    </tr>\n",
       "    <tr>\n",
       "      <th>1</th>\n",
       "      <td>0.0</td>\n",
       "      <td>3680</td>\n",
       "      <td>32.45</td>\n",
       "    </tr>\n",
       "    <tr>\n",
       "      <th>2</th>\n",
       "      <td>2.0</td>\n",
       "      <td>1383</td>\n",
       "      <td>12.20</td>\n",
       "    </tr>\n",
       "    <tr>\n",
       "      <th>3</th>\n",
       "      <td>3.0</td>\n",
       "      <td>226</td>\n",
       "      <td>1.99</td>\n",
       "    </tr>\n",
       "    <tr>\n",
       "      <th>4</th>\n",
       "      <td>4.0</td>\n",
       "      <td>55</td>\n",
       "      <td>0.49</td>\n",
       "    </tr>\n",
       "    <tr>\n",
       "      <th>5</th>\n",
       "      <td>nan</td>\n",
       "      <td>43</td>\n",
       "      <td>0.38</td>\n",
       "    </tr>\n",
       "    <tr>\n",
       "      <th>6</th>\n",
       "      <td>5.0</td>\n",
       "      <td>7</td>\n",
       "      <td>0.06</td>\n",
       "    </tr>\n",
       "    <tr>\n",
       "      <th>7</th>\n",
       "      <td>7.0</td>\n",
       "      <td>4</td>\n",
       "      <td>0.04</td>\n",
       "    </tr>\n",
       "    <tr>\n",
       "      <th>8</th>\n",
       "      <td>6.0</td>\n",
       "      <td>3</td>\n",
       "      <td>0.03</td>\n",
       "    </tr>\n",
       "    <tr>\n",
       "      <th>9</th>\n",
       "      <td>NaN</td>\n",
       "      <td>2</td>\n",
       "      <td>0.02</td>\n",
       "    </tr>\n",
       "    <tr>\n",
       "      <th>10</th>\n",
       "      <td>11.0</td>\n",
       "      <td>1</td>\n",
       "      <td>0.01</td>\n",
       "    </tr>\n",
       "  </tbody>\n",
       "</table>\n",
       "</div>"
      ],
      "text/plain": [
       "   people_in_pic  counts      %\n",
       "0            1.0    5935  52.34\n",
       "1            0.0    3680  32.45\n",
       "2            2.0    1383  12.20\n",
       "3            3.0     226   1.99\n",
       "4            4.0      55   0.49\n",
       "5            nan      43   0.38\n",
       "6            5.0       7   0.06\n",
       "7            7.0       4   0.04\n",
       "8            6.0       3   0.03\n",
       "9            NaN       2   0.02\n",
       "10          11.0       1   0.01"
      ]
     },
     "execution_count": 194,
     "metadata": {},
     "output_type": "execute_result"
    }
   ],
   "source": [
    "utils.create_value_counts_table(hosts, 'num_of_people_in_pic', 'people_in_pic')"
   ]
  },
  {
   "cell_type": "code",
   "execution_count": 195,
   "metadata": {},
   "outputs": [],
   "source": [
    "def reduce_by_people_in_image(hosts, listings, reviews, guests):   \n",
    "    \n",
    "    # Reduced Hosts\n",
    "    new_hosts = hosts[hosts['num_of_people_in_pic'].astype(float) == 1]\n",
    "    print(\"Revised number of Hosts: %d (decreased %.2f %%)\" % (len(new_hosts), utils.get_decreased_percent(new_hosts, hosts)))\n",
    "\n",
    "    # Reduced Listings\n",
    "    new_listings = listings[listings['host_id'].isin(set(new_hosts['id'].astype(str)))]\n",
    "    print(\"Revised number of Listings: %d (decreased %.2f %%)\" % (len(new_listings), utils.get_decreased_percent(new_listings, listings)))\n",
    "\n",
    "    # Reduced Reviews\n",
    "    new_reviews = reviews[reviews['recipient_id'].isin(set(new_hosts['id'].astype(str)))]\n",
    "    print(\"Revised number of Reviews: %d (decreased %.2f %%)\" % (len(new_reviews), utils.get_decreased_percent(new_reviews, reviews)))\n",
    "\n",
    "    # Reduced Overall Guests\n",
    "    overall_guests = reviews['reviewer_id'].unique()\n",
    "    new_overall_guests = new_reviews['reviewer_id'].unique()\n",
    "    print(\"Revised number of Overall Guests: %d (decreased %.2f %%)\" % (len(new_overall_guests), utils.get_decreased_percent(new_overall_guests, overall_guests)))\n",
    "\n",
    "    # Reduced Retrieved Guests\n",
    "    new_retrieved_guests = guests[guests['id'].isin(new_overall_guests)]\n",
    "    print(\"Revised number of Retrieved Guests: %d (decreased %.2f %%)\" % (len(new_retrieved_guests), utils.get_decreased_percent(new_retrieved_guests, guests)))\n",
    "\n",
    "    return (new_hosts, new_listings, new_reviews, new_overall_guests, new_retrieved_guests)"
   ]
  },
  {
   "cell_type": "code",
   "execution_count": 196,
   "metadata": {},
   "outputs": [
    {
     "name": "stdout",
     "output_type": "stream",
     "text": [
      "Revised number of Hosts: 5935 (decreased 47.66 %)\n",
      "Revised number of Listings: 5935 (decreased 47.65 %)\n",
      "Revised number of Reviews: 109784 (decreased 51.31 %)\n",
      "Revised number of Overall Guests: 105427 (decreased 50.15 %)\n",
      "Revised number of Retrieved Guests: 47249 (decreased 49.71 %)\n"
     ]
    }
   ],
   "source": [
    "new_hosts, new_listings, new_reviews, new_overall_guests, new_retrieved_guests = reduce_by_people_in_image(hosts, listings, reviews, guests)"
   ]
  },
  {
   "cell_type": "markdown",
   "metadata": {},
   "source": [
    "# Number of Reviews "
   ]
  },
  {
   "cell_type": "code",
   "execution_count": 198,
   "metadata": {},
   "outputs": [
    {
     "data": {
      "text/html": [
       "<div>\n",
       "<style>\n",
       "    .dataframe thead tr:only-child th {\n",
       "        text-align: right;\n",
       "    }\n",
       "\n",
       "    .dataframe thead th {\n",
       "        text-align: left;\n",
       "    }\n",
       "\n",
       "    .dataframe tbody tr th {\n",
       "        vertical-align: top;\n",
       "    }\n",
       "</style>\n",
       "<table border=\"1\" class=\"dataframe\">\n",
       "  <thead>\n",
       "    <tr style=\"text-align: right;\">\n",
       "      <th></th>\n",
       "      <th>num_of_guest_reviews</th>\n",
       "      <th>counts</th>\n",
       "      <th>%</th>\n",
       "    </tr>\n",
       "  </thead>\n",
       "  <tbody>\n",
       "    <tr>\n",
       "      <th>0</th>\n",
       "      <td>1</td>\n",
       "      <td>982</td>\n",
       "      <td>16.55</td>\n",
       "    </tr>\n",
       "    <tr>\n",
       "      <th>1</th>\n",
       "      <td>2</td>\n",
       "      <td>643</td>\n",
       "      <td>10.83</td>\n",
       "    </tr>\n",
       "    <tr>\n",
       "      <th>2</th>\n",
       "      <td>3</td>\n",
       "      <td>443</td>\n",
       "      <td>7.46</td>\n",
       "    </tr>\n",
       "    <tr>\n",
       "      <th>3</th>\n",
       "      <td>4</td>\n",
       "      <td>358</td>\n",
       "      <td>6.03</td>\n",
       "    </tr>\n",
       "    <tr>\n",
       "      <th>4</th>\n",
       "      <td>5</td>\n",
       "      <td>281</td>\n",
       "      <td>4.73</td>\n",
       "    </tr>\n",
       "    <tr>\n",
       "      <th>5</th>\n",
       "      <td>6</td>\n",
       "      <td>236</td>\n",
       "      <td>3.98</td>\n",
       "    </tr>\n",
       "    <tr>\n",
       "      <th>6</th>\n",
       "      <td>7</td>\n",
       "      <td>211</td>\n",
       "      <td>3.56</td>\n",
       "    </tr>\n",
       "    <tr>\n",
       "      <th>7</th>\n",
       "      <td>8</td>\n",
       "      <td>176</td>\n",
       "      <td>2.97</td>\n",
       "    </tr>\n",
       "    <tr>\n",
       "      <th>8</th>\n",
       "      <td>9</td>\n",
       "      <td>149</td>\n",
       "      <td>2.51</td>\n",
       "    </tr>\n",
       "    <tr>\n",
       "      <th>9</th>\n",
       "      <td>10</td>\n",
       "      <td>121</td>\n",
       "      <td>2.04</td>\n",
       "    </tr>\n",
       "  </tbody>\n",
       "</table>\n",
       "</div>"
      ],
      "text/plain": [
       "   num_of_guest_reviews  counts      %\n",
       "0                     1     982  16.55\n",
       "1                     2     643  10.83\n",
       "2                     3     443   7.46\n",
       "3                     4     358   6.03\n",
       "4                     5     281   4.73\n",
       "5                     6     236   3.98\n",
       "6                     7     211   3.56\n",
       "7                     8     176   2.97\n",
       "8                     9     149   2.51\n",
       "9                    10     121   2.04"
      ]
     },
     "execution_count": 198,
     "metadata": {},
     "output_type": "execute_result"
    }
   ],
   "source": [
    "host_review_count = new_reviews.groupby('recipient_id').count()[['id']].rename(columns={'id': 'num_of_reviews'})\n",
    "count_table = utils.create_value_counts_table(host_review_count, 'num_of_reviews', 'num_of_guest_reviews')\n",
    "count_table.head(10)"
   ]
  },
  {
   "cell_type": "code",
   "execution_count": 200,
   "metadata": {},
   "outputs": [
    {
     "name": "stdout",
     "output_type": "stream",
     "text": [
      "   num_of_guest_reviews  counts      %\n",
      "0                     1     982  16.55\n",
      "1                     2     643  10.83\n",
      "2                     3     443   7.46\n",
      "3                     4     358   6.03\n",
      "4                     5     281   4.73\n",
      "5                     6     236   3.98\n",
      "6                     7     211   3.56\n",
      "7                     8     176   2.97\n",
      "8                     9     149   2.51\n",
      "9                    10     121   2.04\n"
     ]
    },
    {
     "data": {
      "image/png": "[encoded data removed]",
      "text/plain": [
       "<matplotlib.figure.Figure at 0x145f01978>"
      ]
     },
     "metadata": {},
     "output_type": "display_data"
    },
    {
     "data": {
      "image/png": "[encoded data removed]",
      "text/plain": [
       "<matplotlib.figure.Figure at 0x1462a4860>"
      ]
     },
     "metadata": {},
     "output_type": "display_data"
    },
    {
     "name": "stdout",
     "output_type": "stream",
     "text": [
      "Average: 18.497725358045493\n",
      "Min: 1\n",
      "Max: 324\n",
      "Variance: 908.1350832842861\n",
      "Std deviation: 30.135279711399495\n"
     ]
    }
   ],
   "source": [
    "pre.show_reviews_per_person_dist(host_review_count, 'recipient_id')"
   ]
  },
  {
   "cell_type": "code",
   "execution_count": 203,
   "metadata": {},
   "outputs": [
    {
     "data": {
      "text/html": [
       "<div>\n",
       "<style>\n",
       "    .dataframe thead tr:only-child th {\n",
       "        text-align: right;\n",
       "    }\n",
       "\n",
       "    .dataframe thead th {\n",
       "        text-align: left;\n",
       "    }\n",
       "\n",
       "    .dataframe tbody tr th {\n",
       "        vertical-align: top;\n",
       "    }\n",
       "</style>\n",
       "<table border=\"1\" class=\"dataframe\">\n",
       "  <thead>\n",
       "    <tr style=\"text-align: right;\">\n",
       "      <th></th>\n",
       "      <th>Exclusion(By # of reviews per host)</th>\n",
       "      <th>Pre-exclusion</th>\n",
       "      <th>&gt; 1</th>\n",
       "      <th>&gt; 2</th>\n",
       "      <th>&gt; 3</th>\n",
       "      <th>&gt; 4</th>\n",
       "      <th>&gt; 5</th>\n",
       "    </tr>\n",
       "  </thead>\n",
       "  <tbody>\n",
       "    <tr>\n",
       "      <th>0</th>\n",
       "      <td>Hosts</td>\n",
       "      <td>5935</td>\n",
       "      <td>4953 (83.45%)</td>\n",
       "      <td>4310 (72.62%)</td>\n",
       "      <td>3867 (65.16%)</td>\n",
       "      <td>3509 (59.12%)</td>\n",
       "      <td>3228 (54.39%)</td>\n",
       "    </tr>\n",
       "    <tr>\n",
       "      <th>1</th>\n",
       "      <td>Reviews</td>\n",
       "      <td>109784</td>\n",
       "      <td>108802 (99.11%)</td>\n",
       "      <td>107516 (97.93%)</td>\n",
       "      <td>106187 (96.72%)</td>\n",
       "      <td>104755 (95.42%)</td>\n",
       "      <td>103350 (94.14%)</td>\n",
       "    </tr>\n",
       "    <tr>\n",
       "      <th>2</th>\n",
       "      <td>Guests</td>\n",
       "      <td>105427</td>\n",
       "      <td>104503 (99.12%)</td>\n",
       "      <td>103316 (98.00%)</td>\n",
       "      <td>102080 (96.83%)</td>\n",
       "      <td>100735 (95.55%)</td>\n",
       "      <td>99413 (94.30%)</td>\n",
       "    </tr>\n",
       "    <tr>\n",
       "      <th>3</th>\n",
       "      <td>Listings</td>\n",
       "      <td>5935</td>\n",
       "      <td>4953 (83.45%)</td>\n",
       "      <td>4310 (72.62%)</td>\n",
       "      <td>3867 (65.16%)</td>\n",
       "      <td>3509 (59.12%)</td>\n",
       "      <td>3228 (54.39%)</td>\n",
       "    </tr>\n",
       "  </tbody>\n",
       "</table>\n",
       "</div>"
      ],
      "text/plain": [
       "  Exclusion(By # of reviews per host)  Pre-exclusion              > 1  \\\n",
       "0                               Hosts           5935    4953 (83.45%)   \n",
       "1                             Reviews         109784  108802 (99.11%)   \n",
       "2                              Guests         105427  104503 (99.12%)   \n",
       "3                            Listings           5935    4953 (83.45%)   \n",
       "\n",
       "               > 2              > 3              > 4              > 5  \n",
       "0    4310 (72.62%)    3867 (65.16%)    3509 (59.12%)    3228 (54.39%)  \n",
       "1  107516 (97.93%)  106187 (96.72%)  104755 (95.42%)  103350 (94.14%)  \n",
       "2  103316 (98.00%)  102080 (96.83%)  100735 (95.55%)   99413 (94.30%)  \n",
       "3    4310 (72.62%)    3867 (65.16%)    3509 (59.12%)    3228 (54.39%)  "
      ]
     },
     "execution_count": 203,
     "metadata": {},
     "output_type": "execute_result"
    }
   ],
   "source": [
    "pre.build_exclusion_table(host_review_count, new_reviews, new_listings, 1, 6)"
   ]
  },
  {
   "cell_type": "markdown",
   "metadata": {},
   "source": [
    "# Extra"
   ]
  },
  {
   "cell_type": "code",
   "execution_count": 32,
   "metadata": {},
   "outputs": [],
   "source": [
    "hosts_left_df['num_of_people'] = im.get_num_of_people(os.path.join(\"..\",s.DATA_DIR, 'host_imgs'), hosts_left_df['id'])"
   ]
  },
  {
   "cell_type": "code",
   "execution_count": 33,
   "metadata": {},
   "outputs": [],
   "source": [
    "hosts_left_df.to_csv('hosts_left_done_2.csv')"
   ]
  },
  {
   "cell_type": "code",
   "execution_count": 36,
   "metadata": {},
   "outputs": [],
   "source": [
    "for i in range(3, 20):\n",
    "    hosts_left_df = pd.read_csv('hosts_left_done_' + str(i) +'.csv')\n",
    "    hosts_left_df['num_of_people'] = im.get_num_of_people(os.path.join(\"..\",s.DATA_DIR, 'host_imgs'), hosts_left_df['id'])\n",
    "    hosts_left_df.to_csv('hosts_left_done_' + str(i) +'.csv')"
   ]
  },
  {
   "cell_type": "code",
   "execution_count": null,
   "metadata": {},
   "outputs": [],
   "source": []
  }
 ],
 "metadata": {
  "kernelspec": {
   "display_name": "Python 3",
   "language": "python",
   "name": "python3"
  },
  "language_info": {
   "codemirror_mode": {
    "name": "ipython",
    "version": 3
   },
   "file_extension": ".py",
   "mimetype": "text/x-python",
   "name": "python",
   "nbconvert_exporter": "python",
   "pygments_lexer": "ipython3",
   "version": "3.6.2"
  }
 },
 "nbformat": 4,
 "nbformat_minor": 2
}
