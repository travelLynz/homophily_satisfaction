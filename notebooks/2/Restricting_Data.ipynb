{
 "cells": [
  {
   "cell_type": "code",
   "execution_count": 64,
   "metadata": {},
   "outputs": [
    {
     "name": "stdout",
     "output_type": "stream",
     "text": [
      "The autoreload extension is already loaded. To reload it, use:\n",
      "  %reload_ext autoreload\n"
     ]
    }
   ],
   "source": [
    "%load_ext autoreload\n",
    "%autoreload 2\n",
    "import os\n",
    "import glob\n",
    "import pandas as pd\n",
    "import numpy as np\n",
    "import time\n",
    "import matplotlib.pyplot as plt\n",
    "pd.options.display.max_columns = 999\n",
    "import sys\n",
    "sys.path.append(\"../../Code\")\n",
    "sys.path.append(\"../Tools/python-client\")\n",
    "import settings as s\n",
    "import utils \n",
    "import sql\n",
    "import files\n",
    "import seaborn as sns\n",
    "import languages as lang\n",
    "import preprocessing as pre"
   ]
  },
  {
   "cell_type": "markdown",
   "metadata": {},
   "source": [
    "# Get Manhattan Data"
   ]
  },
  {
   "cell_type": "code",
   "execution_count": 66,
   "metadata": {},
   "outputs": [
    {
     "name": "stdout",
     "output_type": "stream",
     "text": [
      "Retrieved 21473 Manhattan listings\n",
      "Retrieved 433320 Manhattan reviews\n",
      "Retrieved 18633 Manhattan hosts\n",
      "Retrieved only 14839 (79.64%) Manhattan hosts with reviews\n",
      "Retrieved 11345 Manhattan host trips\n",
      "Retrieved 442380 reviews from hosts who have hosted Manhattan Guests\n",
      "Total Number of 397693 guests that have reviewed Manhattan listings\n",
      "Retrieved 192768 (48.47%) guests that have reviewed Manhattan listings\n"
     ]
    }
   ],
   "source": [
    "listings, reviews, hosts, guests, host_trips, host_reviews = sql.get_manhattan_data()"
   ]
  },
  {
   "cell_type": "code",
   "execution_count": 67,
   "metadata": {},
   "outputs": [
    {
     "data": {
      "text/html": [
       "<div>\n",
       "<style>\n",
       "    .dataframe thead tr:only-child th {\n",
       "        text-align: right;\n",
       "    }\n",
       "\n",
       "    .dataframe thead th {\n",
       "        text-align: left;\n",
       "    }\n",
       "\n",
       "    .dataframe tbody tr th {\n",
       "        vertical-align: top;\n",
       "    }\n",
       "</style>\n",
       "<table border=\"1\" class=\"dataframe\">\n",
       "  <thead>\n",
       "    <tr style=\"text-align: right;\">\n",
       "      <th></th>\n",
       "      <th>idListing</th>\n",
       "      <th>id</th>\n",
       "      <th>host_id</th>\n",
       "      <th>name</th>\n",
       "      <th>summary</th>\n",
       "      <th>space</th>\n",
       "      <th>description</th>\n",
       "      <th>neighborhood_overview</th>\n",
       "      <th>notes</th>\n",
       "      <th>transit</th>\n",
       "      <th>access</th>\n",
       "      <th>interaction</th>\n",
       "      <th>house_rules</th>\n",
       "      <th>picture_url</th>\n",
       "      <th>street</th>\n",
       "      <th>neighbourhood_cleansed</th>\n",
       "      <th>neighbourhood_group_cleansed</th>\n",
       "      <th>zipcode</th>\n",
       "      <th>market</th>\n",
       "      <th>smart_location</th>\n",
       "      <th>country_code</th>\n",
       "      <th>latitude</th>\n",
       "      <th>longitude</th>\n",
       "      <th>is_location_exact</th>\n",
       "      <th>property_type</th>\n",
       "      <th>room_type</th>\n",
       "      <th>accommodates</th>\n",
       "      <th>bathrooms</th>\n",
       "      <th>bedrooms</th>\n",
       "      <th>beds</th>\n",
       "      <th>bed_type</th>\n",
       "      <th>amenities</th>\n",
       "      <th>price</th>\n",
       "      <th>weekly_price</th>\n",
       "      <th>monthly_price</th>\n",
       "      <th>security_deposit</th>\n",
       "      <th>cleaning_fee</th>\n",
       "      <th>guests_included</th>\n",
       "      <th>extra_people</th>\n",
       "      <th>minimum_nights</th>\n",
       "      <th>maximum_nights</th>\n",
       "      <th>availability_30</th>\n",
       "      <th>availability_60</th>\n",
       "      <th>availability_90</th>\n",
       "      <th>availability_365</th>\n",
       "      <th>number_of_reviews</th>\n",
       "      <th>review_scores_rating</th>\n",
       "      <th>review_scores_accuracy</th>\n",
       "      <th>review_scores_cleanliness</th>\n",
       "      <th>review_scores_checkin</th>\n",
       "      <th>review_scores_communication</th>\n",
       "      <th>review_scores_location</th>\n",
       "      <th>review_scores_value</th>\n",
       "      <th>instant_bookable</th>\n",
       "      <th>is_business_travel_ready</th>\n",
       "      <th>cancellation_policy</th>\n",
       "      <th>require_guest_profile_picture</th>\n",
       "      <th>require_guest_phone_verification</th>\n",
       "      <th>reviews_per_month</th>\n",
       "    </tr>\n",
       "  </thead>\n",
       "  <tbody>\n",
       "    <tr>\n",
       "      <th>0</th>\n",
       "      <td>1</td>\n",
       "      <td>2515</td>\n",
       "      <td>2758</td>\n",
       "      <td>Stay at Chez Chic budget room #1</td>\n",
       "      <td>Step into our artistic spacious apartment and enjoy your artistic Guest room with original artwork from NY artists. Shared with my little family however we often out and you won't see us much. across the street from Central Park - the busy city minutes away but sleeping in quiet at night!</td>\n",
       "      <td>-PLEASE BOOK DIRECTLY. NO NEED TO SEND A REQUEST FOR DATES CALENDAR IS UP TO DATE ALL AIRBNB RESERVATIONS WILL BE HONORED Nice, comfortable, and clean private guest room with shared bathroom (2 people max) - full size bed. In very nice apartment on central Park North 4th floor walk-up. same place as Chez chic #2, max capacity of the rooms 2 people). You will share the apt with me and my little family. Daily cleaning in common areas. Located one block from Subway 2/3,B/C on 110th street, Bus M1,2,3,4 at the corner, central park across the street.  Your room: full size bed (sleeps two), desk...</td>\n",
       "      <td>Step into our artistic spacious apartment and enjoy your artistic Guest room with original artwork from NY artists. Shared with my little family however we often out and you won't see us much. across the street from Central Park - the busy city minutes away but sleeping in quiet at night! -PLEASE BOOK DIRECTLY. NO NEED TO SEND A REQUEST FOR DATES CALENDAR IS UP TO DATE ALL AIRBNB RESERVATIONS WILL BE HONORED Nice, comfortable, and clean private guest room with shared bathroom (2 people max) - full size bed. In very nice apartment on central Park North 4th floor walk-up. same place as Chez ...</td>\n",
       "      <td>None</td>\n",
       "      <td>Please no cooking at night but you can warm up food in the microwave and use the kitchen</td>\n",
       "      <td>Subway 2.3.B.C. at 110th street around the corner and bus M.2.3.4 at the corner</td>\n",
       "      <td>Guests will have their PRIVATE BATHROOM (NOTE: Shared between June 22-Aug 22) (shared with 2nd guestroom if there are guests), and the kitchen</td>\n",
       "      <td>We will have a list of Harlem restaurants and points of interest ready for you, as well as a subway map of NYC and pratical infos.</td>\n",
       "      <td>no-smoking/please take off your shoes: cleaning fees $40</td>\n",
       "      <td>https://a0.muscache.com/im/pictures/d0489e42-4333-4360-911f-413d503fe146.jpg?aki_policy=large</td>\n",
       "      <td>New York, NY, United States</td>\n",
       "      <td>Harlem</td>\n",
       "      <td>Manhattan</td>\n",
       "      <td>10026</td>\n",
       "      <td>New York</td>\n",
       "      <td>New York, NY</td>\n",
       "      <td>US</td>\n",
       "      <td>40.7992047993617</td>\n",
       "      <td>-73.9536757454354</td>\n",
       "      <td>t</td>\n",
       "      <td>Apartment</td>\n",
       "      <td>Private room</td>\n",
       "      <td>3</td>\n",
       "      <td>1.0</td>\n",
       "      <td>1.0</td>\n",
       "      <td>2.0</td>\n",
       "      <td>Real Bed</td>\n",
       "      <td>{TV,\"Cable TV\",Internet,Wifi,\"Air conditioning\",Kitchen,\"Free street parking\",\"Buzzer/wireless intercom\",Heating,\"Family/kid friendly\",\"Smoke detector\",\"Carbon monoxide detector\",\"Fire extinguisher\",Essentials,Shampoo,\"Lock on bedroom door\",Hangers,\"Hair dryer\",Iron,\"Laptop friendly workspace\",\"Children’s books and toys\",\"Window guards\",\"Pack ’n Play/travel crib\",\"Hot water\",\"Host greets you\"}</td>\n",
       "      <td>$59.00</td>\n",
       "      <td>$720.00</td>\n",
       "      <td>$1,690.00</td>\n",
       "      <td>$0.00</td>\n",
       "      <td>$60.00</td>\n",
       "      <td>2</td>\n",
       "      <td>$39.00</td>\n",
       "      <td>2</td>\n",
       "      <td>21</td>\n",
       "      <td>13</td>\n",
       "      <td>32</td>\n",
       "      <td>60</td>\n",
       "      <td>329</td>\n",
       "      <td>168</td>\n",
       "      <td>92.0</td>\n",
       "      <td>9.0</td>\n",
       "      <td>9.0</td>\n",
       "      <td>10.0</td>\n",
       "      <td>9.0</td>\n",
       "      <td>9.0</td>\n",
       "      <td>9.0</td>\n",
       "      <td>f</td>\n",
       "      <td>f</td>\n",
       "      <td>strict_14_with_grace_period</td>\n",
       "      <td>f</td>\n",
       "      <td>f</td>\n",
       "      <td>1.43</td>\n",
       "    </tr>\n",
       "  </tbody>\n",
       "</table>\n",
       "</div>"
      ],
      "text/plain": [
       "   idListing    id host_id                              name  \\\n",
       "0          1  2515    2758  Stay at Chez Chic budget room #1   \n",
       "\n",
       "                                                                                                                                                                                                                                                                                             summary  \\\n",
       "0  Step into our artistic spacious apartment and enjoy your artistic Guest room with original artwork from NY artists. Shared with my little family however we often out and you won't see us much. across the street from Central Park - the busy city minutes away but sleeping in quiet at night!   \n",
       "\n",
       "                                                                                                                                                                                                                                                                                                                                                                                                                                                                                                                                                                                                                     space  \\\n",
       "0  -PLEASE BOOK DIRECTLY. NO NEED TO SEND A REQUEST FOR DATES CALENDAR IS UP TO DATE ALL AIRBNB RESERVATIONS WILL BE HONORED Nice, comfortable, and clean private guest room with shared bathroom (2 people max) - full size bed. In very nice apartment on central Park North 4th floor walk-up. same place as Chez chic #2, max capacity of the rooms 2 people). You will share the apt with me and my little family. Daily cleaning in common areas. Located one block from Subway 2/3,B/C on 110th street, Bus M1,2,3,4 at the corner, central park across the street.  Your room: full size bed (sleeps two), desk...   \n",
       "\n",
       "                                                                                                                                                                                                                                                                                                                                                                                                                                                                                                                                                                                                               description  \\\n",
       "0  Step into our artistic spacious apartment and enjoy your artistic Guest room with original artwork from NY artists. Shared with my little family however we often out and you won't see us much. across the street from Central Park - the busy city minutes away but sleeping in quiet at night! -PLEASE BOOK DIRECTLY. NO NEED TO SEND A REQUEST FOR DATES CALENDAR IS UP TO DATE ALL AIRBNB RESERVATIONS WILL BE HONORED Nice, comfortable, and clean private guest room with shared bathroom (2 people max) - full size bed. In very nice apartment on central Park North 4th floor walk-up. same place as Chez ...   \n",
       "\n",
       "  neighborhood_overview  \\\n",
       "0                  None   \n",
       "\n",
       "                                                                                       notes  \\\n",
       "0  Please no cooking at night but you can warm up food in the microwave and use the kitchen    \n",
       "\n",
       "                                                                           transit  \\\n",
       "0  Subway 2.3.B.C. at 110th street around the corner and bus M.2.3.4 at the corner   \n",
       "\n",
       "                                                                                                                                           access  \\\n",
       "0  Guests will have their PRIVATE BATHROOM (NOTE: Shared between June 22-Aug 22) (shared with 2nd guestroom if there are guests), and the kitchen   \n",
       "\n",
       "                                                                                                                          interaction  \\\n",
       "0  We will have a list of Harlem restaurants and points of interest ready for you, as well as a subway map of NYC and pratical infos.   \n",
       "\n",
       "                                                house_rules  \\\n",
       "0  no-smoking/please take off your shoes: cleaning fees $40   \n",
       "\n",
       "                                                                                     picture_url  \\\n",
       "0  https://a0.muscache.com/im/pictures/d0489e42-4333-4360-911f-413d503fe146.jpg?aki_policy=large   \n",
       "\n",
       "                        street neighbourhood_cleansed  \\\n",
       "0  New York, NY, United States                 Harlem   \n",
       "\n",
       "  neighbourhood_group_cleansed zipcode    market smart_location country_code  \\\n",
       "0                    Manhattan   10026  New York   New York, NY           US   \n",
       "\n",
       "           latitude          longitude is_location_exact property_type  \\\n",
       "0  40.7992047993617  -73.9536757454354                 t     Apartment   \n",
       "\n",
       "      room_type  accommodates  bathrooms  bedrooms  beds  bed_type  \\\n",
       "0  Private room             3        1.0       1.0   2.0  Real Bed   \n",
       "\n",
       "                                                                                                                                                                                                                                                                                                                                                                                                      amenities  \\\n",
       "0  {TV,\"Cable TV\",Internet,Wifi,\"Air conditioning\",Kitchen,\"Free street parking\",\"Buzzer/wireless intercom\",Heating,\"Family/kid friendly\",\"Smoke detector\",\"Carbon monoxide detector\",\"Fire extinguisher\",Essentials,Shampoo,\"Lock on bedroom door\",Hangers,\"Hair dryer\",Iron,\"Laptop friendly workspace\",\"Children’s books and toys\",\"Window guards\",\"Pack ’n Play/travel crib\",\"Hot water\",\"Host greets you\"}   \n",
       "\n",
       "    price weekly_price monthly_price security_deposit cleaning_fee  \\\n",
       "0  $59.00      $720.00     $1,690.00            $0.00       $60.00   \n",
       "\n",
       "   guests_included extra_people  minimum_nights  maximum_nights  \\\n",
       "0                2       $39.00               2              21   \n",
       "\n",
       "   availability_30  availability_60  availability_90  availability_365  \\\n",
       "0               13               32               60               329   \n",
       "\n",
       "   number_of_reviews  review_scores_rating  review_scores_accuracy  \\\n",
       "0                168                  92.0                     9.0   \n",
       "\n",
       "   review_scores_cleanliness  review_scores_checkin  \\\n",
       "0                        9.0                   10.0   \n",
       "\n",
       "   review_scores_communication  review_scores_location  review_scores_value  \\\n",
       "0                          9.0                     9.0                  9.0   \n",
       "\n",
       "  instant_bookable is_business_travel_ready          cancellation_policy  \\\n",
       "0                f                        f  strict_14_with_grace_period   \n",
       "\n",
       "  require_guest_profile_picture require_guest_phone_verification  \\\n",
       "0                             f                                f   \n",
       "\n",
       "   reviews_per_month  \n",
       "0               1.43  "
      ]
     },
     "execution_count": 67,
     "metadata": {},
     "output_type": "execute_result"
    }
   ],
   "source": [
    "listings.head(1)"
   ]
  },
  {
   "cell_type": "code",
   "execution_count": 68,
   "metadata": {},
   "outputs": [
    {
     "data": {
      "text/html": [
       "<div>\n",
       "<style>\n",
       "    .dataframe thead tr:only-child th {\n",
       "        text-align: right;\n",
       "    }\n",
       "\n",
       "    .dataframe thead th {\n",
       "        text-align: left;\n",
       "    }\n",
       "\n",
       "    .dataframe tbody tr th {\n",
       "        vertical-align: top;\n",
       "    }\n",
       "</style>\n",
       "<table border=\"1\" class=\"dataframe\">\n",
       "  <thead>\n",
       "    <tr style=\"text-align: right;\">\n",
       "      <th></th>\n",
       "      <th>id</th>\n",
       "      <th>name</th>\n",
       "      <th>since</th>\n",
       "      <th>location</th>\n",
       "      <th>about</th>\n",
       "      <th>response_time</th>\n",
       "      <th>response_rate</th>\n",
       "      <th>is_superhost</th>\n",
       "      <th>neighbourhood</th>\n",
       "      <th>listings_count</th>\n",
       "      <th>total_listings_count</th>\n",
       "      <th>verifications</th>\n",
       "      <th>has_profile_pic</th>\n",
       "      <th>identity_verified</th>\n",
       "      <th>calculated_listings_count</th>\n",
       "    </tr>\n",
       "  </thead>\n",
       "  <tbody>\n",
       "    <tr>\n",
       "      <th>0</th>\n",
       "      <td>2758</td>\n",
       "      <td>Mizi</td>\n",
       "      <td>2008-09-06</td>\n",
       "      <td>New York, New York, United States</td>\n",
       "      <td>loves to host and welcome travelers from around the world in our family Apt.</td>\n",
       "      <td>within a few hours</td>\n",
       "      <td>100%</td>\n",
       "      <td>f</td>\n",
       "      <td>Harlem</td>\n",
       "      <td>3.0</td>\n",
       "      <td>3.0</td>\n",
       "      <td>['email', 'phone', 'facebook', 'reviews', 'jumio', 'government_id']</td>\n",
       "      <td>t</td>\n",
       "      <td>t</td>\n",
       "      <td>3</td>\n",
       "    </tr>\n",
       "  </tbody>\n",
       "</table>\n",
       "</div>"
      ],
      "text/plain": [
       "     id  name       since                           location  \\\n",
       "0  2758  Mizi  2008-09-06  New York, New York, United States   \n",
       "\n",
       "                                                                           about  \\\n",
       "0   loves to host and welcome travelers from around the world in our family Apt.   \n",
       "\n",
       "        response_time response_rate is_superhost neighbourhood  \\\n",
       "0  within a few hours          100%            f        Harlem   \n",
       "\n",
       "   listings_count  total_listings_count  \\\n",
       "0             3.0                   3.0   \n",
       "\n",
       "                                                         verifications  \\\n",
       "0  ['email', 'phone', 'facebook', 'reviews', 'jumio', 'government_id']   \n",
       "\n",
       "  has_profile_pic identity_verified  calculated_listings_count  \n",
       "0               t                 t                          3  "
      ]
     },
     "execution_count": 68,
     "metadata": {},
     "output_type": "execute_result"
    }
   ],
   "source": [
    "hosts.head(1)"
   ]
  },
  {
   "cell_type": "code",
   "execution_count": 69,
   "metadata": {},
   "outputs": [
    {
     "data": {
      "text/html": [
       "<div>\n",
       "<style>\n",
       "    .dataframe thead tr:only-child th {\n",
       "        text-align: right;\n",
       "    }\n",
       "\n",
       "    .dataframe thead th {\n",
       "        text-align: left;\n",
       "    }\n",
       "\n",
       "    .dataframe tbody tr th {\n",
       "        vertical-align: top;\n",
       "    }\n",
       "</style>\n",
       "<table border=\"1\" class=\"dataframe\">\n",
       "  <thead>\n",
       "    <tr style=\"text-align: right;\">\n",
       "      <th></th>\n",
       "      <th>idGuest</th>\n",
       "      <th>id</th>\n",
       "      <th>name</th>\n",
       "      <th>city</th>\n",
       "      <th>ccode</th>\n",
       "      <th>membershipMonth</th>\n",
       "      <th>membershipYear</th>\n",
       "      <th>superhost</th>\n",
       "      <th>verified</th>\n",
       "      <th>description</th>\n",
       "      <th>linkedAccountVerified</th>\n",
       "      <th>schoolInfo</th>\n",
       "      <th>jobInfo</th>\n",
       "      <th>languages</th>\n",
       "      <th>reviewNumber</th>\n",
       "      <th>guideNumber</th>\n",
       "      <th>wishListNumber</th>\n",
       "    </tr>\n",
       "  </thead>\n",
       "  <tbody>\n",
       "    <tr>\n",
       "      <th>0</th>\n",
       "      <td>1</td>\n",
       "      <td>126493799</td>\n",
       "      <td>Nicole</td>\n",
       "      <td>Porto Alegre, Brazil</td>\n",
       "      <td>BR</td>\n",
       "      <td>April</td>\n",
       "      <td>2017</td>\n",
       "      <td>false</td>\n",
       "      <td>true</td>\n",
       "      <td>None</td>\n",
       "      <td>['Official Identity Document', 'selfies', 'Email address', 'Telephone number', 'Facebook']</td>\n",
       "      <td>Pine</td>\n",
       "      <td>null</td>\n",
       "      <td>English,</td>\n",
       "      <td>0.0</td>\n",
       "      <td>0.0</td>\n",
       "      <td>0.0</td>\n",
       "    </tr>\n",
       "  </tbody>\n",
       "</table>\n",
       "</div>"
      ],
      "text/plain": [
       "   idGuest         id    name                  city ccode membershipMonth  \\\n",
       "0        1  126493799  Nicole  Porto Alegre, Brazil    BR           April   \n",
       "\n",
       "  membershipYear superhost verified description  \\\n",
       "0           2017     false     true        None   \n",
       "\n",
       "                                                                        linkedAccountVerified  \\\n",
       "0  ['Official Identity Document', 'selfies', 'Email address', 'Telephone number', 'Facebook']   \n",
       "\n",
       "  schoolInfo jobInfo languages  reviewNumber  guideNumber  wishListNumber  \n",
       "0       Pine    null  English,           0.0          0.0             0.0  "
      ]
     },
     "execution_count": 69,
     "metadata": {},
     "output_type": "execute_result"
    }
   ],
   "source": [
    "guests.head(1)"
   ]
  },
  {
   "cell_type": "code",
   "execution_count": 70,
   "metadata": {},
   "outputs": [
    {
     "data": {
      "text/html": [
       "<div>\n",
       "<style>\n",
       "    .dataframe thead tr:only-child th {\n",
       "        text-align: right;\n",
       "    }\n",
       "\n",
       "    .dataframe thead th {\n",
       "        text-align: left;\n",
       "    }\n",
       "\n",
       "    .dataframe tbody tr th {\n",
       "        vertical-align: top;\n",
       "    }\n",
       "</style>\n",
       "<table border=\"1\" class=\"dataframe\">\n",
       "  <thead>\n",
       "    <tr style=\"text-align: right;\">\n",
       "      <th></th>\n",
       "      <th>idGuestReview</th>\n",
       "      <th>id</th>\n",
       "      <th>date</th>\n",
       "      <th>reviewer_id</th>\n",
       "      <th>listing_id</th>\n",
       "      <th>recipient_id</th>\n",
       "      <th>comments</th>\n",
       "      <th>hostCancelled</th>\n",
       "    </tr>\n",
       "  </thead>\n",
       "  <tbody>\n",
       "    <tr>\n",
       "      <th>0</th>\n",
       "      <td>1</td>\n",
       "      <td>198</td>\n",
       "      <td>2008-10-13</td>\n",
       "      <td>2603</td>\n",
       "      <td>2515</td>\n",
       "      <td>2758</td>\n",
       "      <td>Stephanie was a wonderful host! Her apartment was beautiful and extremely clean. We had a very nice (and affordable!) stay in the city with private room and own bathroom.</td>\n",
       "      <td>N</td>\n",
       "    </tr>\n",
       "  </tbody>\n",
       "</table>\n",
       "</div>"
      ],
      "text/plain": [
       "   idGuestReview   id        date reviewer_id listing_id recipient_id  \\\n",
       "0              1  198  2008-10-13        2603       2515         2758   \n",
       "\n",
       "                                                                                                                                                                     comments  \\\n",
       "0  Stephanie was a wonderful host! Her apartment was beautiful and extremely clean. We had a very nice (and affordable!) stay in the city with private room and own bathroom.   \n",
       "\n",
       "  hostCancelled  \n",
       "0             N  "
      ]
     },
     "execution_count": 70,
     "metadata": {},
     "output_type": "execute_result"
    }
   ],
   "source": [
    "reviews.head(1)"
   ]
  },
  {
   "cell_type": "code",
   "execution_count": 71,
   "metadata": {},
   "outputs": [
    {
     "data": {
      "text/html": [
       "<div>\n",
       "<style>\n",
       "    .dataframe thead tr:only-child th {\n",
       "        text-align: right;\n",
       "    }\n",
       "\n",
       "    .dataframe thead th {\n",
       "        text-align: left;\n",
       "    }\n",
       "\n",
       "    .dataframe tbody tr th {\n",
       "        vertical-align: top;\n",
       "    }\n",
       "</style>\n",
       "<table border=\"1\" class=\"dataframe\">\n",
       "  <thead>\n",
       "    <tr style=\"text-align: right;\">\n",
       "      <th></th>\n",
       "      <th>idHostTrip</th>\n",
       "      <th>hostId</th>\n",
       "      <th>visited</th>\n",
       "      <th>min_times</th>\n",
       "      <th>city</th>\n",
       "      <th>ccode</th>\n",
       "      <th>country</th>\n",
       "      <th>state</th>\n",
       "    </tr>\n",
       "  </thead>\n",
       "  <tbody>\n",
       "    <tr>\n",
       "      <th>0</th>\n",
       "      <td>1</td>\n",
       "      <td>10001390</td>\n",
       "      <td>Budapest, Hungary</td>\n",
       "      <td>2</td>\n",
       "      <td>Budapest</td>\n",
       "      <td>HU</td>\n",
       "      <td>Hungary</td>\n",
       "      <td>Unknown</td>\n",
       "    </tr>\n",
       "  </tbody>\n",
       "</table>\n",
       "</div>"
      ],
      "text/plain": [
       "   idHostTrip    hostId            visited  min_times      city ccode  \\\n",
       "0           1  10001390  Budapest, Hungary          2  Budapest    HU   \n",
       "\n",
       "   country    state  \n",
       "0  Hungary  Unknown  "
      ]
     },
     "execution_count": 71,
     "metadata": {},
     "output_type": "execute_result"
    }
   ],
   "source": [
    "host_trips.head(1)"
   ]
  },
  {
   "cell_type": "code",
   "execution_count": 72,
   "metadata": {},
   "outputs": [
    {
     "data": {
      "text/html": [
       "<div>\n",
       "<style>\n",
       "    .dataframe thead tr:only-child th {\n",
       "        text-align: right;\n",
       "    }\n",
       "\n",
       "    .dataframe thead th {\n",
       "        text-align: left;\n",
       "    }\n",
       "\n",
       "    .dataframe tbody tr th {\n",
       "        vertical-align: top;\n",
       "    }\n",
       "</style>\n",
       "<table border=\"1\" class=\"dataframe\">\n",
       "  <thead>\n",
       "    <tr style=\"text-align: right;\">\n",
       "      <th></th>\n",
       "      <th>idHostReview</th>\n",
       "      <th>month</th>\n",
       "      <th>year</th>\n",
       "      <th>host_name</th>\n",
       "      <th>reviewer_id</th>\n",
       "      <th>recipient_id</th>\n",
       "      <th>comments</th>\n",
       "      <th>total_host_reviews</th>\n",
       "    </tr>\n",
       "  </thead>\n",
       "  <tbody>\n",
       "    <tr>\n",
       "      <th>0</th>\n",
       "      <td>1</td>\n",
       "      <td>May</td>\n",
       "      <td>2018</td>\n",
       "      <td>Forever</td>\n",
       "      <td>105663223</td>\n",
       "      <td>33642104</td>\n",
       "      <td>Christophe y su familia fueron unos huéspedes muy amables. La comunicación con ellos fue correcta y dejaron el apartamento en perfectas condiciones. Espero volver a recibirles en otra estancia. Pedro.</td>\n",
       "      <td>3</td>\n",
       "    </tr>\n",
       "  </tbody>\n",
       "</table>\n",
       "</div>"
      ],
      "text/plain": [
       "   idHostReview month  year host_name reviewer_id recipient_id  \\\n",
       "0             1   May  2018   Forever   105663223     33642104   \n",
       "\n",
       "                                                                                                                                                                                                   comments  \\\n",
       "0  Christophe y su familia fueron unos huéspedes muy amables. La comunicación con ellos fue correcta y dejaron el apartamento en perfectas condiciones. Espero volver a recibirles en otra estancia. Pedro.   \n",
       "\n",
       "  total_host_reviews  \n",
       "0                  3  "
      ]
     },
     "execution_count": 72,
     "metadata": {},
     "output_type": "execute_result"
    }
   ],
   "source": [
    "host_reviews.head(1)"
   ]
  },
  {
   "cell_type": "markdown",
   "metadata": {},
   "source": [
    "## Save CSVs"
   ]
  },
  {
   "cell_type": "code",
   "execution_count": 73,
   "metadata": {},
   "outputs": [],
   "source": [
    "files.save_all('man', guests, hosts, listings, reviews, host_trips, host_reviews)"
   ]
  },
  {
   "cell_type": "markdown",
   "metadata": {},
   "source": [
    "# Restricting to Single-Listing Hosts "
   ]
  },
  {
   "cell_type": "code",
   "execution_count": 74,
   "metadata": {},
   "outputs": [],
   "source": [
    "listings_count = utils.create_value_counts_table(hosts, 'listings_count', 'number_of_man_listings')"
   ]
  },
  {
   "cell_type": "code",
   "execution_count": 75,
   "metadata": {},
   "outputs": [
    {
     "data": {
      "text/html": [
       "<div>\n",
       "<style>\n",
       "    .dataframe thead tr:only-child th {\n",
       "        text-align: right;\n",
       "    }\n",
       "\n",
       "    .dataframe thead th {\n",
       "        text-align: left;\n",
       "    }\n",
       "\n",
       "    .dataframe tbody tr th {\n",
       "        vertical-align: top;\n",
       "    }\n",
       "</style>\n",
       "<table border=\"1\" class=\"dataframe\">\n",
       "  <thead>\n",
       "    <tr style=\"text-align: right;\">\n",
       "      <th></th>\n",
       "      <th>number_of_man_listings</th>\n",
       "      <th>counts</th>\n",
       "      <th>%</th>\n",
       "    </tr>\n",
       "  </thead>\n",
       "  <tbody>\n",
       "    <tr>\n",
       "      <th>0</th>\n",
       "      <td>1.0</td>\n",
       "      <td>15523</td>\n",
       "      <td>83.31</td>\n",
       "    </tr>\n",
       "    <tr>\n",
       "      <th>1</th>\n",
       "      <td>2.0</td>\n",
       "      <td>1970</td>\n",
       "      <td>10.57</td>\n",
       "    </tr>\n",
       "    <tr>\n",
       "      <th>2</th>\n",
       "      <td>3.0</td>\n",
       "      <td>569</td>\n",
       "      <td>3.05</td>\n",
       "    </tr>\n",
       "    <tr>\n",
       "      <th>3</th>\n",
       "      <td>4.0</td>\n",
       "      <td>210</td>\n",
       "      <td>1.13</td>\n",
       "    </tr>\n",
       "    <tr>\n",
       "      <th>4</th>\n",
       "      <td>5.0</td>\n",
       "      <td>93</td>\n",
       "      <td>0.50</td>\n",
       "    </tr>\n",
       "    <tr>\n",
       "      <th>5</th>\n",
       "      <td>6.0</td>\n",
       "      <td>47</td>\n",
       "      <td>0.25</td>\n",
       "    </tr>\n",
       "    <tr>\n",
       "      <th>6</th>\n",
       "      <td>7.0</td>\n",
       "      <td>31</td>\n",
       "      <td>0.17</td>\n",
       "    </tr>\n",
       "    <tr>\n",
       "      <th>7</th>\n",
       "      <td>0.0</td>\n",
       "      <td>30</td>\n",
       "      <td>0.16</td>\n",
       "    </tr>\n",
       "    <tr>\n",
       "      <th>8</th>\n",
       "      <td>8.0</td>\n",
       "      <td>25</td>\n",
       "      <td>0.13</td>\n",
       "    </tr>\n",
       "    <tr>\n",
       "      <th>9</th>\n",
       "      <td>10.0</td>\n",
       "      <td>17</td>\n",
       "      <td>0.09</td>\n",
       "    </tr>\n",
       "  </tbody>\n",
       "</table>\n",
       "</div>"
      ],
      "text/plain": [
       "   number_of_man_listings  counts      %\n",
       "0                     1.0   15523  83.31\n",
       "1                     2.0    1970  10.57\n",
       "2                     3.0     569   3.05\n",
       "3                     4.0     210   1.13\n",
       "4                     5.0      93   0.50\n",
       "5                     6.0      47   0.25\n",
       "6                     7.0      31   0.17\n",
       "7                     0.0      30   0.16\n",
       "8                     8.0      25   0.13\n",
       "9                    10.0      17   0.09"
      ]
     },
     "execution_count": 75,
     "metadata": {},
     "output_type": "execute_result"
    }
   ],
   "source": [
    "listings_count.head(10)"
   ]
  },
  {
   "cell_type": "code",
   "execution_count": 76,
   "metadata": {},
   "outputs": [
    {
     "data": {
      "image/png": "[encoded data removed]",
      "text/plain": [
       "<matplotlib.figure.Figure at 0x19c2e9c50>"
      ]
     },
     "metadata": {},
     "output_type": "display_data"
    }
   ],
   "source": [
    "utils.plot_bar_graph(listings_count, 'number_of_man_listings', 'counts', 'Number of listings', 'Count', 'Distribution of # of listings')"
   ]
  },
  {
   "cell_type": "code",
   "execution_count": 77,
   "metadata": {},
   "outputs": [
    {
     "name": "stdout",
     "output_type": "stream",
     "text": [
      "Revised number of Hosts: 15522 (decreased 16.70 %)\n",
      "Revised number of Listings: 15522 (decreased 27.71 %)\n",
      "Revised number of Reviews: 271729 (decreased 37.29 %)\n",
      "Revised number of Overall Guests: 255027 (decreased 35.87 %)\n",
      "Revised number of Retrieved Guests: 121901 (decreased 36.76 %)\n"
     ]
    }
   ],
   "source": [
    "ml_hosts, ml_listings, ml_reviews, ml_overall_guests, ml_retrieved_guests = pre.restrict_multiple_listings(hosts, listings, reviews, guests)"
   ]
  },
  {
   "cell_type": "markdown",
   "metadata": {},
   "source": [
    "# Remove Listings and Hosts with no reviews"
   ]
  },
  {
   "cell_type": "code",
   "execution_count": 78,
   "metadata": {},
   "outputs": [
    {
     "name": "stdout",
     "output_type": "stream",
     "text": [
      "Remove Listings with no reviews\n",
      "Revised number of Listings: 12025 (decreased 22.53 %)\n",
      "Remove Hosts with no reviews\n",
      "Revised number of Hosts: 12025 (decreased 22.53 %)\n"
     ]
    }
   ],
   "source": [
    "new_hosts, new_listings = pre.remove_no_reviews(ml_hosts, ml_listings, ml_reviews)"
   ]
  },
  {
   "cell_type": "markdown",
   "metadata": {},
   "source": [
    "# Remove Cancellations "
   ]
  },
  {
   "cell_type": "code",
   "execution_count": 79,
   "metadata": {},
   "outputs": [],
   "source": [
    "can_hosts = pre.add_cancellation_col(new_hosts, ml_reviews)"
   ]
  },
  {
   "cell_type": "code",
   "execution_count": 80,
   "metadata": {},
   "outputs": [
    {
     "name": "stdout",
     "output_type": "stream",
     "text": [
      "Removing cancellation notifications from reviews\n",
      "Revised number of Reviews: 264935 (decreased 2.50 %)\n",
      "Revised number of Hosts: 11587 (decreased 3.64 %)\n",
      "Revised number of Listings: 11587 (decreased 3.64 %)\n",
      "Revised number of Overall Guests: 249495 (decreased 2.17 %)\n",
      "Revised number of Retrieved Guests: 119609 (decreased 1.88 %)\n"
     ]
    }
   ],
   "source": [
    "uc_new_hosts, uc_new_listings, uc_new_reviews, uc_new_overall_guests, uc_new_retrieved_guests = pre.remove_cancellations(can_hosts, new_listings, ml_reviews, ml_retrieved_guests)"
   ]
  },
  {
   "cell_type": "markdown",
   "metadata": {},
   "source": [
    "# Add Review Length and Lang Detections"
   ]
  },
  {
   "cell_type": "markdown",
   "metadata": {},
   "source": [
    "## Add Length"
   ]
  },
  {
   "cell_type": "raw",
   "metadata": {},
   "source": [
    "reviews_with_length = pre.add_reviews_length_cols(uc_new_reviews)"
   ]
  },
  {
   "cell_type": "markdown",
   "metadata": {},
   "source": [
    "## Add Language Detections"
   ]
  },
  {
   "cell_type": "raw",
   "metadata": {},
   "source": [
    "langs_reviews = pd.read_csv('lang_detected_reviews.csv', index_col=0)\n",
    "langs_reviews['id'] = langs_reviews['id'].astype(str)"
   ]
  },
  {
   "cell_type": "raw",
   "metadata": {},
   "source": [
    "len_lang_reviews = reviews_with_length.join(langs_reviews[['id', 'google_langs','google_langs_conf', 'langdetect_langs', 'langdetect_langs_conf', 'other_langs','translated']].set_index('id'), on='id')"
   ]
  },
  {
   "cell_type": "raw",
   "metadata": {},
   "source": [
    "len(len_lang_reviews)"
   ]
  },
  {
   "cell_type": "raw",
   "metadata": {},
   "source": [
    "len_lang_reviews"
   ]
  },
  {
   "cell_type": "raw",
   "metadata": {},
   "source": [
    "len_lang_reviews.to_csv('len_lang_reviews.csv')"
   ]
  },
  {
   "cell_type": "markdown",
   "metadata": {},
   "source": [
    "files.save_all('len_lang', uc_new_retrieved_guests, uc_new_hosts, uc_new_listings, len_lang_reviews, uc_new_overall_guests)"
   ]
  },
  {
   "cell_type": "markdown",
   "metadata": {},
   "source": [
    "## Retrieve from saved"
   ]
  },
  {
   "cell_type": "code",
   "execution_count": 81,
   "metadata": {},
   "outputs": [],
   "source": [
    "len_lang_reviews = pd.read_csv('len_lang_reviews.csv', index_col=0)"
   ]
  },
  {
   "cell_type": "code",
   "execution_count": 82,
   "metadata": {},
   "outputs": [
    {
     "data": {
      "text/plain": [
       "295605"
      ]
     },
     "execution_count": 82,
     "metadata": {},
     "output_type": "execute_result"
    }
   ],
   "source": [
    "len(len_lang_reviews)"
   ]
  },
  {
   "cell_type": "code",
   "execution_count": 83,
   "metadata": {},
   "outputs": [],
   "source": [
    "ll_reviews =  len_lang_reviews[len_lang_reviews['id'].isin(uc_new_reviews['id'].unique())]"
   ]
  },
  {
   "cell_type": "code",
   "execution_count": 84,
   "metadata": {},
   "outputs": [
    {
     "data": {
      "text/plain": [
       "264935"
      ]
     },
     "execution_count": 84,
     "metadata": {},
     "output_type": "execute_result"
    }
   ],
   "source": [
    "len(ll_reviews)"
   ]
  },
  {
   "cell_type": "code",
   "execution_count": 86,
   "metadata": {},
   "outputs": [],
   "source": [
    "files.save_all('before_ll_restrict', uc_new_retrieved_guests, uc_new_hosts, uc_new_listings, ll_reviews, guestIDs=uc_new_overall_guests )"
   ]
  },
  {
   "cell_type": "markdown",
   "metadata": {},
   "source": [
    "# Restrict Empty Comments"
   ]
  },
  {
   "cell_type": "code",
   "execution_count": 87,
   "metadata": {},
   "outputs": [
    {
     "name": "stdout",
     "output_type": "stream",
     "text": [
      "Removing empty(, None, nan) reviews\n",
      "Revised number of Reviews: 264675 (decreased 0.10 %)\n",
      "Removing reviews less than 5 words\n",
      "Revised number of Reviews: 257166 (decreased 2.84 %)\n",
      "Revised number of Hosts: 11510 (decreased 0.66 %)\n",
      "Revised number of Listings: 11510 (decreased 0.66 %)\n",
      "Revised number of Overall Guests: 242507 (decreased 2.80 %)\n",
      "Revised number of Retrieved Guests: 117542 (decreased 1.73 %)\n"
     ]
    }
   ],
   "source": [
    "len_hosts, len_listings, len_reviews, len_overall_guests, len_retrieved_guests = pre.restrict_review_length(uc_new_hosts, uc_new_listings, ll_reviews, uc_new_retrieved_guests)"
   ]
  },
  {
   "cell_type": "markdown",
   "metadata": {},
   "source": [
    "# Restrict Languages"
   ]
  },
  {
   "cell_type": "code",
   "execution_count": 90,
   "metadata": {},
   "outputs": [
    {
     "name": "stdout",
     "output_type": "stream",
     "text": [
      "Removing reviews based on Language Restrictions\n",
      "-Reviews that have 'English' language detection agreements between 'langdetect' and googletrans = 224173\n",
      "-Reviews that contained emoticons in them preventing 'googletrans' from correct detection = 917\n",
      "-Revised number of Reviews: 225090 (decreased 12.47 %)\n",
      "Revised number of Hosts: 11333 (decreased 1.54 %)\n",
      "Revised number of Listings: 11333 (decreased 1.54 %)\n",
      "Revised number of Overall Guests: 211141 (decreased 12.93 %)\n",
      "Revised number of Retrieved Guests: 102684 (decreased 12.64 %)\n"
     ]
    }
   ],
   "source": [
    "en_hosts, en_listings, en_reviews, en_overall_guests, en_retrieved_guests = pre.restrict_review_langs(len_hosts, len_listings, len_reviews, len_retrieved_guests)"
   ]
  },
  {
   "cell_type": "code",
   "execution_count": 94,
   "metadata": {},
   "outputs": [],
   "source": [
    "files.save_all('len_lang_restrict', en_retrieved_guests, en_hosts, en_listings, en_reviews, guestIDs=en_overall_guests)"
   ]
  },
  {
   "cell_type": "markdown",
   "metadata": {},
   "source": [
    "# Number of reviews necessary "
   ]
  },
  {
   "cell_type": "code",
   "execution_count": 109,
   "metadata": {},
   "outputs": [
    {
     "name": "stdout",
     "output_type": "stream",
     "text": [
      "Revised number of Hosts: 6924 (decreased 38.90 %)\n",
      "Revised number of Listings: 6924 (decreased 38.90 %)\n",
      "Revised number of Reviews: 215960 (decreased 4.06 %)\n",
      "Revised number of Overall Guests: 202989 (decreased 3.86 %)\n",
      "Revised number of Retrieved Guests: 101288 (decreased 1.36 %)\n"
     ]
    }
   ],
   "source": [
    "nr_hosts, nr_listings, nr_reviews, nr_overall_guests, nr_retrieved_guests = pre.restrict_number_of_reviews(en_hosts, en_listings, en_reviews, en_retrieved_guests)"
   ]
  },
  {
   "cell_type": "code",
   "execution_count": 121,
   "metadata": {},
   "outputs": [],
   "source": [
    "files.save_all('nr_restrict', nr_retrieved_guests, nr_hosts, nr_listings, nr_reviews, guestIDs=nr_overall_guests)"
   ]
  },
  {
   "cell_type": "markdown",
   "metadata": {},
   "source": [
    "# Number of People in Host Picture"
   ]
  },
  {
   "cell_type": "code",
   "execution_count": 110,
   "metadata": {},
   "outputs": [],
   "source": [
    "host_num_people = pd.read_csv('hosts_with_people.csv', index_col=0)"
   ]
  },
  {
   "cell_type": "code",
   "execution_count": 119,
   "metadata": {},
   "outputs": [
    {
     "name": "stdout",
     "output_type": "stream",
     "text": [
      "Revised number of Hosts: 3504 (decreased 49.39 %)\n",
      "Revised number of Listings: 3504 (decreased 49.39 %)\n",
      "Revised number of Reviews: 104554 (decreased 51.59 %)\n",
      "Revised number of Overall Guests: 100549 (decreased 50.47 %)\n",
      "Revised number of Retrieved Guests: 50751 (decreased 49.89 %)\n"
     ]
    }
   ],
   "source": [
    "pp_hosts, pp_listings, pp_reviews, pp_overall_guests, pp_retrieved_guests = pre.restrict_by_people_pic(host_num_people, nr_hosts, nr_listings, nr_reviews, nr_retrieved_guests)"
   ]
  },
  {
   "cell_type": "code",
   "execution_count": 120,
   "metadata": {},
   "outputs": [],
   "source": [
    "files.save_all('pp_restrict', pp_retrieved_guests, pp_hosts, pp_listings, pp_reviews, guestIDs=pp_overall_guests)"
   ]
  },
  {
   "cell_type": "markdown",
   "metadata": {},
   "source": [
    "# POSSIBLY : Restrict by the reviews we have received"
   ]
  },
  {
   "cell_type": "code",
   "execution_count": 123,
   "metadata": {},
   "outputs": [
    {
     "name": "stdout",
     "output_type": "stream",
     "text": [
      "Restrict to only reviews from guests whose profile we have\n",
      "Revised number of Reviews: 47553 (decreased 54.52 %)\n",
      "Revised number of Hosts: 2554 (decreased 27.11 %)\n",
      "Revised number of Listings: 2554 (decreased 27.11 %)\n"
     ]
    }
   ],
   "source": [
    "rec_hosts, rec_listings, rec_reviews = pre.restrict_by_received_guests(pp_hosts, pp_listings, pp_reviews, pp_retrieved_guests)"
   ]
  },
  {
   "cell_type": "code",
   "execution_count": 124,
   "metadata": {},
   "outputs": [],
   "source": [
    "files.save_all('final_restrict', pp_retrieved_guests, rec_hosts, rec_listings, rec_reviews, guestIDs=pp_overall_guests)"
   ]
  }
 ],
 "metadata": {
  "kernelspec": {
   "display_name": "Python 3",
   "language": "python",
   "name": "python3"
  },
  "language_info": {
   "codemirror_mode": {
    "name": "ipython",
    "version": 3
   },
   "file_extension": ".py",
   "mimetype": "text/x-python",
   "name": "python",
   "nbconvert_exporter": "python",
   "pygments_lexer": "ipython3",
   "version": "3.6.2"
  }
 },
 "nbformat": 4,
 "nbformat_minor": 2
}
