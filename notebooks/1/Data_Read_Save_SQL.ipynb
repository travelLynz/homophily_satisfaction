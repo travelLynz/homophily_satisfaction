{
 "cells": [
  {
   "cell_type": "code",
   "execution_count": 522,
   "metadata": {},
   "outputs": [
    {
     "name": "stdout",
     "output_type": "stream",
     "text": [
      "The autoreload extension is already loaded. To reload it, use:\n",
      "  %reload_ext autoreload\n"
     ]
    }
   ],
   "source": [
    "%load_ext autoreload\n",
    "%autoreload 2\n",
    "import sql\n",
    "import sys\n",
    "sys.path.append(\"../../Code\")\n",
    "pd.options.display.max_columns = 999\n",
    "import files as f\n",
    "import settings as s\n",
    "import preprocessing as pre"
   ]
  },
  {
   "cell_type": "markdown",
   "metadata": {},
   "source": [
    "# Guests"
   ]
  },
  {
   "cell_type": "markdown",
   "metadata": {},
   "source": [
    "## Read in the Guest data"
   ]
  },
  {
   "cell_type": "code",
   "execution_count": 541,
   "metadata": {},
   "outputs": [
    {
     "name": "stdout",
     "output_type": "stream",
     "text": [
      "Retrieving CSV files from  ../../Data/raw/guests\n",
      "Processing  ../../Data/raw/guests/out8.csv\n",
      "Processing  ../../Data/raw/guests/out9.csv\n",
      "Processing  ../../Data/raw/guests/out22.csv\n",
      "Processing  ../../Data/raw/guests/out23.csv\n",
      "Processing  ../../Data/raw/guests/out21.csv\n",
      "Processing  ../../Data/raw/guests/out35.csv\n",
      "Processing  ../../Data/raw/guests/out34.csv\n",
      "Processing  ../../Data/raw/guests/out20.csv\n",
      "Processing  ../../Data/raw/guests/out24.csv\n",
      "Processing  ../../Data/raw/guests/out30.csv\n",
      "Processing  ../../Data/raw/guests/out18.csv\n",
      "Processing  ../../Data/raw/guests/out19.csv\n",
      "Processing  ../../Data/raw/guests/out31.csv\n",
      "Processing  ../../Data/raw/guests/out25.csv\n",
      "Processing  ../../Data/raw/guests/out33.csv\n",
      "Processing  ../../Data/raw/guests/out27.csv\n",
      "Processing  ../../Data/raw/guests/out26.csv\n",
      "Processing  ../../Data/raw/guests/out32.csv\n",
      "Processing  ../../Data/raw/guests/out17.csv\n",
      "Processing  ../../Data/raw/guests/out16.csv\n",
      "Processing  ../../Data/raw/guests/out28.csv\n",
      "Processing  ../../Data/raw/guests/out14.csv\n",
      "Processing  ../../Data/raw/guests/out15.csv\n",
      "Processing  ../../Data/raw/guests/out29.csv\n",
      "Processing  ../../Data/raw/guests/out11.csv\n",
      "Processing  ../../Data/raw/guests/out10.csv\n",
      "Processing  ../../Data/raw/guests/out12.csv\n",
      "Processing  ../../Data/raw/guests/out13.csv\n",
      "Processing  ../../Data/raw/guests/out2.csv\n",
      "Processing  ../../Data/raw/guests/out3.csv\n",
      "Processing  ../../Data/raw/guests/out1.csv\n",
      "Processing  ../../Data/raw/guests/out4.csv\n",
      "Processing  ../../Data/raw/guests/out5.csv\n",
      "Processing  ../../Data/raw/guests/out7.csv\n",
      "Processing  ../../Data/raw/guests/out6.csv\n"
     ]
    }
   ],
   "source": [
    "guests = f.readin_guests()"
   ]
  },
  {
   "cell_type": "markdown",
   "metadata": {},
   "source": [
    "## Clean up the data "
   ]
  },
  {
   "cell_type": "code",
   "execution_count": 542,
   "metadata": {},
   "outputs": [
    {
     "name": "stdout",
     "output_type": "stream",
     "text": [
      "Cleaning Guest Data\n",
      "Initial number of Guest records: 286815\n",
      "Trimming white spaces from column names\n",
      "Cleaning up wishlist column\n",
      "Removing records with NULL ids: 26199  records\n",
      "Updated number of guest records: 260616\n",
      "Drop duplicate records\n",
      "Updated number of guest records: 221267\n",
      "Cleaning up quotations\n",
      "Changing guideNumber to integer\n",
      "Removing records where guests have no membershipDate 176  records\n",
      "Updated number of guest records: 221091\n",
      "Split membershipDate into membershipMonth and membershipYear\n",
      "Removing records with non-numeric ids:\n",
      "Updated number of guest records: 221087\n"
     ]
    }
   ],
   "source": [
    "guests = pre.clean_guests(guests)"
   ]
  },
  {
   "cell_type": "markdown",
   "metadata": {},
   "source": [
    "## Translations"
   ]
  },
  {
   "cell_type": "code",
   "execution_count": 543,
   "metadata": {},
   "outputs": [
    {
     "name": "stdout",
     "output_type": "stream",
     "text": [
      "Translating months\n",
      "Distinct number of verifications:  20\n",
      "Translating verifications\n",
      "Number of new translations needed for verifications:  0\n",
      "Distinct number of cities:  27001\n",
      "Translating cities\n",
      "Number of new translations needed for cities:  1\n"
     ]
    }
   ],
   "source": [
    "guests = pre.translate_guests(guests)"
   ]
  },
  {
   "cell_type": "markdown",
   "metadata": {},
   "source": [
    "# Listings"
   ]
  },
  {
   "cell_type": "code",
   "execution_count": 544,
   "metadata": {},
   "outputs": [
    {
     "name": "stdout",
     "output_type": "stream",
     "text": [
      "Retrieving CSV file from  ../../Data/raw/listings.csv\n"
     ]
    },
    {
     "name": "stderr",
     "output_type": "stream",
     "text": [
      "/Users/lynraybarends/anaconda3/lib/python3.6/site-packages/IPython/core/interactiveshell.py:2802: DtypeWarning: Columns (43,87,88) have mixed types. Specify dtype option on import or set low_memory=False.\n",
      "  if self.run_code(code, result):\n"
     ]
    }
   ],
   "source": [
    "raw_listings = f.readin_file(s.RAW_LISTINGS_DIR)"
   ]
  },
  {
   "cell_type": "markdown",
   "metadata": {},
   "source": [
    "### Listing Information"
   ]
  },
  {
   "cell_type": "code",
   "execution_count": 545,
   "metadata": {},
   "outputs": [
    {
     "name": "stdout",
     "output_type": "stream",
     "text": [
      "Retrieving 58 columns for listings\n",
      "Number of NYC listings: 47542\n"
     ]
    }
   ],
   "source": [
    "listings = pre.get_listing_info(raw_listings)"
   ]
  },
  {
   "cell_type": "markdown",
   "metadata": {},
   "source": [
    "### Host Information"
   ]
  },
  {
   "cell_type": "code",
   "execution_count": 546,
   "metadata": {},
   "outputs": [
    {
     "name": "stdout",
     "output_type": "stream",
     "text": [
      "Retrieving 15 columns for hosts\n",
      "Number of NYC hosts: 39452\n",
      "Removing 'host_' from column names\n"
     ]
    }
   ],
   "source": [
    "hosts = pre.get_host_info(raw_listings)"
   ]
  },
  {
   "cell_type": "markdown",
   "metadata": {},
   "source": [
    "# Reviews"
   ]
  },
  {
   "cell_type": "code",
   "execution_count": 547,
   "metadata": {},
   "outputs": [
    {
     "name": "stdout",
     "output_type": "stream",
     "text": [
      "Retrieving CSV file from  ../../Data/raw/reviews.csv\n"
     ]
    }
   ],
   "source": [
    "reviews = f.readin_file(s.RAW_REVIEWS_DIR)"
   ]
  },
  {
   "cell_type": "code",
   "execution_count": 548,
   "metadata": {},
   "outputs": [
    {
     "name": "stdout",
     "output_type": "stream",
     "text": [
      "Retrieving 5 columns for reviews\n",
      "Number of NYC reviews: 952722\n",
      "Retrieving hostID from listing info\n"
     ]
    }
   ],
   "source": [
    "reviews = pre.get_review_info(reviews, listings)"
   ]
  },
  {
   "cell_type": "code",
   "execution_count": 549,
   "metadata": {},
   "outputs": [
    {
     "name": "stdout",
     "output_type": "stream",
     "text": [
      "Cleaning Review Data\n",
      "Initial number of Review records: 952722\n",
      "Trimming white spaces \n",
      "Cleaning up Line Breaks\n",
      "Adding cancellation marker\n"
     ]
    }
   ],
   "source": [
    "reviews = pre.clean_reviews(reviews)"
   ]
  },
  {
   "cell_type": "markdown",
   "metadata": {},
   "source": [
    "# Save to DataBase(Mysql)"
   ]
  },
  {
   "cell_type": "code",
   "execution_count": 550,
   "metadata": {},
   "outputs": [
    {
     "name": "stdout",
     "output_type": "stream",
     "text": [
      "Database already exists.\n",
      "Creating table listings: already exists. Recreating table\n",
      "Creating table listings: OK\n",
      "Creating table hosts: already exists. Recreating table\n",
      "Creating table hosts: OK\n",
      "Creating table guests: already exists. Recreating table\n",
      "Creating table guests: OK\n",
      "Creating table reviews: already exists. Recreating table\n",
      "Creating table reviews: OK\n"
     ]
    }
   ],
   "source": [
    "sql.create_database()\n",
    "sql.create_tables()"
   ]
  },
  {
   "cell_type": "code",
   "execution_count": 551,
   "metadata": {},
   "outputs": [
    {
     "name": "stdout",
     "output_type": "stream",
     "text": [
      "Pushing 'guests' records\n",
      "Pushing 'hosts' records\n",
      "Pushing 'listings' records\n",
      "Pushing 'reviews' records\n"
     ]
    }
   ],
   "source": [
    "tables = [guests, hosts, listings, reviews]\n",
    "table_names = ['guests', 'hosts', 'listings', 'reviews']\n",
    "sql.push_tables_to_db(tables, table_names)"
   ]
  }
 ],
 "metadata": {
  "kernelspec": {
   "display_name": "Python 3",
   "language": "python",
   "name": "python3"
  },
  "language_info": {
   "codemirror_mode": {
    "name": "ipython",
    "version": 3
   },
   "file_extension": ".py",
   "mimetype": "text/x-python",
   "name": "python",
   "nbconvert_exporter": "python",
   "pygments_lexer": "ipython3",
   "version": "3.6.2"
  }
 },
 "nbformat": 4,
 "nbformat_minor": 2
}
