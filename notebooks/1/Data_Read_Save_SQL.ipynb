{
 "cells": [
  {
   "cell_type": "code",
   "execution_count": 29,
   "metadata": {},
   "outputs": [
    {
     "name": "stdout",
     "output_type": "stream",
     "text": [
      "The autoreload extension is already loaded. To reload it, use:\n",
      "  %reload_ext autoreload\n"
     ]
    }
   ],
   "source": [
    "%load_ext autoreload\n",
    "%autoreload 2\n",
    "import sys\n",
    "import pandas as pd\n",
    "sys.path.append(\"../../Code\")\n",
    "pd.options.display.max_columns = 999\n",
    "import files as f\n",
    "import settings as s\n",
    "import preprocessing as pre\n",
    "import sql\n",
    "import utils\n",
    "import string\n",
    "import countries as ctry"
   ]
  },
  {
   "cell_type": "markdown",
   "metadata": {},
   "source": [
    "# Guests"
   ]
  },
  {
   "cell_type": "markdown",
   "metadata": {},
   "source": [
    "## Read in the Guest data"
   ]
  },
  {
   "cell_type": "code",
   "execution_count": 30,
   "metadata": {},
   "outputs": [
    {
     "name": "stdout",
     "output_type": "stream",
     "text": [
      "Retrieving CSV files from  ../../Data/raw/guests\n",
      "Processing  ../../Data/raw/guests/out41.csv\n",
      "Processing  ../../Data/raw/guests/out40.csv\n",
      "Processing  ../../Data/raw/guests/out42.csv\n",
      "Processing  ../../Data/raw/guests/out8.csv\n",
      "Processing  ../../Data/raw/guests/out9.csv\n",
      "Processing  ../../Data/raw/guests/out43.csv\n",
      "Processing  ../../Data/raw/guests/out47.csv\n",
      "Processing  ../../Data/raw/guests/out46.csv\n",
      "Processing  ../../Data/raw/guests/out44.csv\n",
      "Processing  ../../Data/raw/guests/out45.csv\n",
      "Processing  ../../Data/raw/guests/out36.csv\n",
      "Processing  ../../Data/raw/guests/out22.csv\n",
      "Processing  ../../Data/raw/guests/out23.csv\n",
      "Processing  ../../Data/raw/guests/out37.csv\n",
      "Processing  ../../Data/raw/guests/out21.csv\n",
      "Processing  ../../Data/raw/guests/out35.csv\n",
      "Processing  ../../Data/raw/guests/out34.csv\n",
      "Processing  ../../Data/raw/guests/out20.csv\n",
      "Processing  ../../Data/raw/guests/out24.csv\n",
      "Processing  ../../Data/raw/guests/out30.csv\n",
      "Processing  ../../Data/raw/guests/out18.csv\n",
      "Processing  ../../Data/raw/guests/out19.csv\n",
      "Processing  ../../Data/raw/guests/out31.csv\n",
      "Processing  ../../Data/raw/guests/out25.csv\n",
      "Processing  ../../Data/raw/guests/out33.csv\n",
      "Processing  ../../Data/raw/guests/out27.csv\n",
      "Processing  ../../Data/raw/guests/out26.csv\n",
      "Processing  ../../Data/raw/guests/out32.csv\n",
      "Processing  ../../Data/raw/guests/out17.csv\n",
      "Processing  ../../Data/raw/guests/out16.csv\n",
      "Processing  ../../Data/raw/guests/out28.csv\n",
      "Processing  ../../Data/raw/guests/out14.csv\n",
      "Processing  ../../Data/raw/guests/out15.csv\n",
      "Processing  ../../Data/raw/guests/out29.csv\n",
      "Processing  ../../Data/raw/guests/out11.csv\n",
      "Processing  ../../Data/raw/guests/out39.csv\n",
      "Processing  ../../Data/raw/guests/out38.csv\n",
      "Processing  ../../Data/raw/guests/out10.csv\n",
      "Processing  ../../Data/raw/guests/out12.csv\n",
      "Processing  ../../Data/raw/guests/out13.csv\n",
      "Processing  ../../Data/raw/guests/out2.csv\n",
      "Processing  ../../Data/raw/guests/out3.csv\n",
      "Processing  ../../Data/raw/guests/out1.csv\n",
      "Processing  ../../Data/raw/guests/out4.csv\n",
      "Processing  ../../Data/raw/guests/out5.csv\n",
      "Processing  ../../Data/raw/guests/out7.csv\n",
      "Processing  ../../Data/raw/guests/out6.csv\n"
     ]
    }
   ],
   "source": [
    "guests = f.readin_guests()"
   ]
  },
  {
   "cell_type": "markdown",
   "metadata": {},
   "source": [
    "## Clean up the data "
   ]
  },
  {
   "cell_type": "code",
   "execution_count": 31,
   "metadata": {},
   "outputs": [
    {
     "name": "stdout",
     "output_type": "stream",
     "text": [
      "Cleaning Guest Data\n",
      "Initial number of Guest records: 313199\n",
      "Trimming white spaces from column names\n",
      "Cleaning up wishlist column\n",
      "Removing records with NULL ids: 27388  records\n",
      "Updated number of guest records: 285811\n",
      "Drop duplicate records\n",
      "Updated number of guest records: 225729\n",
      "Cleaning up quotations\n",
      "Changing guideNumber to integer\n",
      "Removing records where guests have no membershipDate 225  records\n",
      "Updated number of guest records: 225504\n",
      "Split membershipDate into membershipMonth and membershipYear\n",
      "Removing records with non-numeric ids:\n",
      "Updated number of guest records: 225492\n"
     ]
    }
   ],
   "source": [
    "guests = pre.clean_guests(guests)"
   ]
  },
  {
   "cell_type": "markdown",
   "metadata": {},
   "source": [
    "## Translations"
   ]
  },
  {
   "cell_type": "code",
   "execution_count": 32,
   "metadata": {},
   "outputs": [
    {
     "name": "stdout",
     "output_type": "stream",
     "text": [
      "Translating months\n",
      "Distinct number of verifications:  20\n",
      "Translating verifications\n",
      "Number of new translations needed for verifications:  0\n",
      "Distinct number of cities:  27515\n",
      "Translating cities\n",
      "Number of new translations needed for cities:  0\n",
      "Distinct number of cities:  27515\n",
      "Translating cities\n",
      "Number of new translations needed for cities:  0\n"
     ]
    }
   ],
   "source": [
    "guests = pre.translate_guests(guests)"
   ]
  },
  {
   "cell_type": "markdown",
   "metadata": {},
   "source": [
    "## Extract Country Code"
   ]
  },
  {
   "cell_type": "code",
   "execution_count": 33,
   "metadata": {},
   "outputs": [],
   "source": [
    "countries = ctry.get_country_info()"
   ]
  },
  {
   "cell_type": "code",
   "execution_count": 34,
   "metadata": {},
   "outputs": [],
   "source": [
    "c_dic = ctry.add_additional_c_matches(ctry.get_country_dic(countries))"
   ]
  },
  {
   "cell_type": "code",
   "execution_count": 35,
   "metadata": {},
   "outputs": [],
   "source": [
    "c_dic_invert = utils.invert_dict(c_dic)"
   ]
  },
  {
   "cell_type": "code",
   "execution_count": 36,
   "metadata": {},
   "outputs": [],
   "source": [
    "guests = ctry.extract_ccode(guests, 'city', c_dic, c_dic_invert)"
   ]
  },
  {
   "cell_type": "markdown",
   "metadata": {},
   "source": [
    "# Listings"
   ]
  },
  {
   "cell_type": "code",
   "execution_count": 37,
   "metadata": {},
   "outputs": [
    {
     "name": "stdout",
     "output_type": "stream",
     "text": [
      "Retrieving CSV file from  ../../Data/raw/listings.csv\n"
     ]
    }
   ],
   "source": [
    "raw_listings = f.readin_file(s.RAW_LISTINGS_DIR)"
   ]
  },
  {
   "cell_type": "markdown",
   "metadata": {},
   "source": [
    "### Listing Information"
   ]
  },
  {
   "cell_type": "code",
   "execution_count": 38,
   "metadata": {},
   "outputs": [
    {
     "name": "stdout",
     "output_type": "stream",
     "text": [
      "Retrieving 58 columns for listings\n",
      "Number of NYC listings: 47542\n"
     ]
    }
   ],
   "source": [
    "listings = pre.get_listing_info(raw_listings)"
   ]
  },
  {
   "cell_type": "markdown",
   "metadata": {},
   "source": [
    "### Host Information"
   ]
  },
  {
   "cell_type": "code",
   "execution_count": 39,
   "metadata": {},
   "outputs": [
    {
     "name": "stdout",
     "output_type": "stream",
     "text": [
      "Retrieving 15 columns for hosts\n",
      "Number of NYC hosts: 39452\n",
      "Removing 'host_' from column names\n"
     ]
    }
   ],
   "source": [
    "hosts = pre.get_host_info(raw_listings)"
   ]
  },
  {
   "cell_type": "markdown",
   "metadata": {},
   "source": [
    "# Reviews"
   ]
  },
  {
   "cell_type": "code",
   "execution_count": 49,
   "metadata": {},
   "outputs": [
    {
     "name": "stdout",
     "output_type": "stream",
     "text": [
      "Retrieving CSV file from  ../../Data/raw/reviews.csv\n"
     ]
    }
   ],
   "source": [
    "reviews = f.readin_file(s.RAW_REVIEWS_DIR)"
   ]
  },
  {
   "cell_type": "code",
   "execution_count": 50,
   "metadata": {},
   "outputs": [
    {
     "name": "stdout",
     "output_type": "stream",
     "text": [
      "Retrieving 5 columns for reviews\n",
      "Number of NYC reviews: 952722\n",
      "Retrieving hostID from listing info\n"
     ]
    }
   ],
   "source": [
    "reviews = pre.get_review_info(reviews, listings)"
   ]
  },
  {
   "cell_type": "code",
   "execution_count": 51,
   "metadata": {
    "scrolled": true
   },
   "outputs": [
    {
     "name": "stdout",
     "output_type": "stream",
     "text": [
      "Cleaning Review Data\n",
      "Initial number of Review records: 952722\n",
      "Trimming white spaces \n",
      "Cleaning up Line Breaks\n",
      "Adding cancellation marker\n"
     ]
    }
   ],
   "source": [
    "reviews = pre.clean_reviews(reviews)"
   ]
  },
  {
   "cell_type": "markdown",
   "metadata": {},
   "source": [
    "# Host's Trips"
   ]
  },
  {
   "cell_type": "code",
   "execution_count": 52,
   "metadata": {},
   "outputs": [
    {
     "name": "stdout",
     "output_type": "stream",
     "text": [
      "Retrieving CSV files from  ../../Data/raw/hostshosts\n",
      "Processing  ../../Data/raw/hostshosts/hostInfo4.csv\n",
      "Processing  ../../Data/raw/hostshosts/hostInfo1.csv\n",
      "Processing  ../../Data/raw/hostshosts/hostInfo2.csv\n",
      "Processing  ../../Data/raw/hostshosts/hostInfo3.csv\n"
     ]
    }
   ],
   "source": [
    "host_hosts = f.readin_dir(s.RAW_HOST_HOSTS_DIR, delimiter=\"==\")"
   ]
  },
  {
   "cell_type": "code",
   "execution_count": 53,
   "metadata": {},
   "outputs": [],
   "source": [
    "visitation_table = pre.get_host_visitation_table(host_hosts)"
   ]
  },
  {
   "cell_type": "code",
   "execution_count": 54,
   "metadata": {},
   "outputs": [
    {
     "name": "stdout",
     "output_type": "stream",
     "text": [
      "Distinct number of cities:  2496\n",
      "Translating cities\n",
      "Number of new translations needed for cities:  0\n"
     ]
    }
   ],
   "source": [
    "visitation_table['visited'] = pre.translate_cities(visitation_table, \"visited\")"
   ]
  },
  {
   "cell_type": "code",
   "execution_count": 55,
   "metadata": {},
   "outputs": [],
   "source": [
    "countries.to_csv(\"country_info.csv\")"
   ]
  },
  {
   "cell_type": "code",
   "execution_count": 56,
   "metadata": {},
   "outputs": [],
   "source": [
    "visitation_table['country'], visitation_table['ccode'], visitation_table['city'], visitation_table['state'] = ctry.get_city_info(visitation_table[\"visited\"], c_dic)"
   ]
  },
  {
   "cell_type": "markdown",
   "metadata": {},
   "source": [
    "# Host_Guest_reviews"
   ]
  },
  {
   "cell_type": "code",
   "execution_count": 57,
   "metadata": {},
   "outputs": [
    {
     "name": "stdout",
     "output_type": "stream",
     "text": [
      "Retrieving CSV files from  ../../Data/raw/hostguestreviews\n",
      "Processing  ../../Data/raw/hostguestreviews/revout8.csv\n",
      "Processing  ../../Data/raw/hostguestreviews/revout9.csv\n",
      "Processing  ../../Data/raw/hostguestreviews/revout10.csv\n",
      "Processing  ../../Data/raw/hostguestreviews/revout11.csv\n",
      "Processing  ../../Data/raw/hostguestreviews/revout2.csv\n",
      "Processing  ../../Data/raw/hostguestreviews/revout3.csv\n",
      "Processing  ../../Data/raw/hostguestreviews/revout1.csv\n",
      "Processing  ../../Data/raw/hostguestreviews/revout4.csv\n",
      "Processing  ../../Data/raw/hostguestreviews/revout5.csv\n",
      "Processing  ../../Data/raw/hostguestreviews/revout7.csv\n",
      "Processing  ../../Data/raw/hostguestreviews/revout6.csv\n"
     ]
    }
   ],
   "source": [
    "host_reviews = f.readin_dir(s.RAW_HOST_REVIEWS_DIR, delimiter=\"==\")"
   ]
  },
  {
   "cell_type": "code",
   "execution_count": 58,
   "metadata": {},
   "outputs": [],
   "source": [
    "host_reviews = pre.rename_host_review_cols(host_reviews)"
   ]
  },
  {
   "cell_type": "code",
   "execution_count": 63,
   "metadata": {},
   "outputs": [
    {
     "name": "stdout",
     "output_type": "stream",
     "text": [
      "Cleaning Review Data\n",
      "Initial number of Review records: 502812\n",
      "Trimming white spaces from column names\n",
      "Trimming white spaces \n",
      "Cleaning up Line Breaks\n",
      "Removing records with NULL guest ids: 0  records\n",
      "Updated number of host review records: 502802\n",
      "Cleaning up Total Review column\n",
      "Updated number of host review records: 502802\n",
      "Removing records with NULL host ids: 0  records\n",
      "Updated number of host review records: 502802\n",
      "Drop duplicate records\n",
      "Updated number of host review records: 501931\n",
      "Removing records with non-numeric guest ids:\n",
      "Updated number of host review records: 501929\n"
     ]
    }
   ],
   "source": [
    "host_reviews = pre.clean_host_reviews(host_reviews)"
   ]
  },
  {
   "cell_type": "markdown",
   "metadata": {},
   "source": [
    "# Save to DataBase(Mysql)"
   ]
  },
  {
   "cell_type": "code",
   "execution_count": 64,
   "metadata": {},
   "outputs": [
    {
     "name": "stdout",
     "output_type": "stream",
     "text": [
      "Database already exists.\n",
      "Creating table listings: already exists. Recreating table\n",
      "Creating table listings: OK\n",
      "Creating table hosts: already exists. Recreating table\n",
      "Creating table hosts: OK\n",
      "Creating table guests: already exists. Recreating table\n",
      "Creating table guests: OK\n",
      "Creating table hostTrips: already exists. Recreating table\n",
      "Creating table hostTrips: OK\n",
      "Creating table guestReviews: already exists. Recreating table\n",
      "Creating table guestReviews: OK\n",
      "Creating table hostReviews: already exists. Recreating table\n",
      "Creating table hostReviews: OK\n"
     ]
    }
   ],
   "source": [
    "sql.create_database()\n",
    "sql.create_tables()"
   ]
  },
  {
   "cell_type": "code",
   "execution_count": 65,
   "metadata": {},
   "outputs": [
    {
     "name": "stdout",
     "output_type": "stream",
     "text": [
      "Pushing 'guests' records\n",
      "Pushing 'hosts' records\n",
      "Pushing 'listings' records\n",
      "Pushing 'guestReviews' records\n",
      "Pushing 'hostTrips' records\n",
      "Pushing 'hostReviews' records\n"
     ]
    }
   ],
   "source": [
    "tables = [guests, hosts, listings, reviews, visitation_table, host_reviews]\n",
    "table_names = ['guests', 'hosts', 'listings', 'guestReviews', 'hostTrips', 'hostReviews']\n",
    "sql.push_tables_to_db(tables, table_names)"
   ]
  },
  {
   "cell_type": "markdown",
   "metadata": {},
   "source": [
    "# Extras"
   ]
  },
  {
   "cell_type": "code",
   "execution_count": 49,
   "metadata": {},
   "outputs": [],
   "source": [
    "def add_x(town, state, guess, countries):\n",
    "    guess = guess.strip()\n",
    "    if guess in countries.keys():\n",
    "        return (town, state, countries[guess], guess)\n",
    "    else:\n",
    "        s = guess.split(' ')\n",
    "        if s[-1] in countries.keys():\n",
    "            return (town, state, countries[s[-1]], s[-1])\n",
    "        else:\n",
    "            return (town, state, \"UNK\", guess)\n",
    "        "
   ]
  },
  {
   "cell_type": "code",
   "execution_count": 673,
   "metadata": {},
   "outputs": [],
   "source": [
    "def format_guest_city(tbl, countries):\n",
    "    new_tbl = pd.concat([tbl, pd.DataFrame(columns=['town-city', 'state', 'ccode', 'country' ])])\n",
    "    new_tbl['city'] = new_tbl['city'].map(lambda x: x.split(',') if x != None else x)\n",
    "    for _, r in new_tbl.iterrows():\n",
    "        c = r['city']\n",
    "        if c == None or len(c) == 0:\n",
    "            r[['town-city', 'state', 'ccode', 'country']] = (None, None, None, None)\n",
    "        elif len(c) == 1:\n",
    "            if c[0] in countries.keys():\n",
    "                r[['town-city', 'state', 'ccode', 'country']] = (None, None, countries[c[0]], c[0])\n",
    "            else:\n",
    "                sp = c[0].split(' ')\n",
    "                if len(sp) > 1 and sp[1] in countries.keys():\n",
    "                    r[['town-city', 'state', 'ccode', 'country']] = (sp[0], None, countries[sp[1]], sp[1])\n",
    "                else:\n",
    "                    r[['town-city', 'state', 'ccode', 'country']] = (None, None, \"UNK\", c)\n",
    "        elif len(c) == 2:\n",
    "            if c[-1] in countries.keys():\n",
    "                r[['town-city', 'state', 'ccode', 'country']] = (c[0], None, countries[c[1].strip()], c[1].strip())\n",
    "            else:\n",
    "                sp = c[-1].split(' ')\n",
    "                if len(sp) > 1 and sp[-1] in countries.keys():\n",
    "                    r[['town-city', 'state', 'ccode', 'country']] = (sp[0], None, countries[sp[-1]], sp[-1])\n",
    "                else:\n",
    "                    r[['town-city', 'state', 'ccode', 'country']] = (c[0], None, \"UNK\", c[-1].strip())\n",
    "        else:\n",
    "            if c[-1] in countries.keys():\n",
    "                r[['town-city', 'state', 'ccode', 'country']] = (c[0], c[1].strip(), countries[c[-1].strip()], c[-1].strip())\n",
    "            elif c[-1] in s.states:\n",
    "                r[['town-city', 'state', 'ccode', 'country']] = (c[0], c[-1].strip(), \"US\", \"United States\")\n",
    "            else:\n",
    "                r[['town-city', 'state', 'ccode', 'country']] = (c[0], c[1].strip(), \"UNK\" , c[-1].strip())\n",
    "    return new_tbl"
   ]
  }
 ],
 "metadata": {
  "kernelspec": {
   "display_name": "Python 3",
   "language": "python",
   "name": "python3"
  },
  "language_info": {
   "codemirror_mode": {
    "name": "ipython",
    "version": 3
   },
   "file_extension": ".py",
   "mimetype": "text/x-python",
   "name": "python",
   "nbconvert_exporter": "python",
   "pygments_lexer": "ipython3",
   "version": "3.6.2"
  }
 },
 "nbformat": 4,
 "nbformat_minor": 2
}
