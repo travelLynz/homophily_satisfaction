{
 "cells": [
  {
   "cell_type": "code",
   "execution_count": 31,
   "metadata": {},
   "outputs": [
    {
     "name": "stdout",
     "output_type": "stream",
     "text": [
      "The autoreload extension is already loaded. To reload it, use:\n",
      "  %reload_ext autoreload\n"
     ]
    }
   ],
   "source": [
    "%load_ext autoreload\n",
    "%autoreload 2\n",
    "import os\n",
    "import glob\n",
    "import pandas as pd\n",
    "import numpy as np\n",
    "import time\n",
    "import matplotlib.pyplot as plt\n",
    "pd.options.display.max_columns = 999\n",
    "#pd.options.display.max_rows = 100\n",
    "\n",
    "import seaborn as sns \n",
    "import indicoio\n",
    "import sys\n",
    "sys.path.append(\"../../Code\")\n",
    "import utils\n",
    "sys.path.append(\"../../Tools/python-client\")\n",
    "from __future__ import print_function\n",
    "import time\n",
    "from pprint import pprint\n",
    "import settings as s\n",
    "import images as im\n",
    "import cognitive as cog\n",
    "import files as f"
   ]
  },
  {
   "cell_type": "code",
   "execution_count": 2,
   "metadata": {},
   "outputs": [],
   "source": [
    "hosts = pd.read_csv('../2/pp_restrict_hosts.csv', index_col=0)"
   ]
  },
  {
   "cell_type": "code",
   "execution_count": 19,
   "metadata": {},
   "outputs": [],
   "source": [
    "for t, data in zip(range(50),np.array_split(hosts['id'].unique(), 50)):\n",
    "    pd.DataFrame({'id':data}).to_csv('hosts/host_imgs_' + str(t) +'.csv')"
   ]
  },
  {
   "cell_type": "code",
   "execution_count": 29,
   "metadata": {},
   "outputs": [],
   "source": [
    "for i in range(10, 50):\n",
    "    hosts_df = pd.read_csv('hosts/host_imgs_' + str(i) +'.csv', index_col=0)\n",
    "    cognitive_results = cog.create_cognitive_table(img_path, hosts_df['id'].unique())\n",
    "    cognitive_results.to_csv('hosts_done_' + str(i) +'.csv')"
   ]
  },
  {
   "cell_type": "code",
   "execution_count": 52,
   "metadata": {},
   "outputs": [
    {
     "name": "stdout",
     "output_type": "stream",
     "text": [
      "Retrieving CSV files from  guests\n",
      "Processing  guests/guests_done_13.csv\n",
      "Processing  guests/guests_done_12.csv\n",
      "Processing  guests/guests_done_11.csv\n",
      "Processing  guests/guests_done_15.csv\n",
      "Processing  guests/guests_done_14.csv\n",
      "Processing  guests/guests_done_16.csv\n",
      "Processing  guests/guests_done_17.csv\n",
      "Processing  guests/guests_done_19.csv\n",
      "Processing  guests/guests_done_25.csv\n",
      "Processing  guests/guests_done_24.csv\n",
      "Processing  guests/guests_done_18.csv\n",
      "Processing  guests/guests_done_20.csv\n",
      "Processing  guests/guests_done_21.csv\n",
      "Processing  guests/guests_done_23.csv\n",
      "Processing  guests/guests_done_22.csv\n"
     ]
    }
   ],
   "source": [
    "g_done = f.readin_dir(\"guests\")"
   ]
  },
  {
   "cell_type": "code",
   "execution_count": 53,
   "metadata": {},
   "outputs": [],
   "source": [
    "g_ids = g_done[g_done['num_of_people'] == '1.0']['id']"
   ]
  },
  {
   "cell_type": "code",
   "execution_count": 55,
   "metadata": {},
   "outputs": [],
   "source": [
    "img_path = os.path.join(\"..\", s.DATA_DIR, 'guest_imgs/')"
   ]
  },
  {
   "cell_type": "code",
   "execution_count": 56,
   "metadata": {},
   "outputs": [],
   "source": [
    "for t, data in zip(range(20),np.array_split(g_ids, 20)):\n",
    "    pd.DataFrame({'id':data}).to_csv('guests/g_in_' + str(t) +'.csv')"
   ]
  },
  {
   "cell_type": "code",
   "execution_count": 44,
   "metadata": {},
   "outputs": [
    {
     "data": {
      "text/plain": [
       "'../../Data/guest_imgs/'"
      ]
     },
     "execution_count": 44,
     "metadata": {},
     "output_type": "execute_result"
    }
   ],
   "source": [
    "img_path"
   ]
  },
  {
   "cell_type": "code",
   "execution_count": null,
   "metadata": {},
   "outputs": [
    {
     "name": "stdout",
     "output_type": "stream",
     "text": [
      "HTTPSConnectionPool(host='uksouth.api.cognitive.microsoft.com', port=443): Max retries exceeded with url: /face/v1.0/detect?returnFaceId=true&returnFaceLandmarks=false&returnFaceAttributes=age%2Cgender%2Csmile%2Cnoise (Caused by NewConnectionError('<urllib3.connection.VerifiedHTTPSConnection object at 0x116e06cf8>: Failed to establish a new connection: [Errno 51] Network is unreachable',))\n",
      "HTTPSConnectionPool(host='uksouth.api.cognitive.microsoft.com', port=443): Max retries exceeded with url: /face/v1.0/detect?returnFaceId=true&returnFaceLandmarks=false&returnFaceAttributes=age%2Cgender%2Csmile%2Cnoise (Caused by NewConnectionError('<urllib3.connection.VerifiedHTTPSConnection object at 0x1158070b8>: Failed to establish a new connection: [Errno 51] Network is unreachable',))\n",
      "Error when calling Cognitive Face API:\n",
      "\tstatus_code: 403\n",
      "\tcode: 403\n",
      "\tmessage: <html>\n",
      "<head><title>403 Forbidden</title></head>\n",
      "<body bgcolor=\"white\">\n",
      "<center><h1>403 Forbidden</h1></center>\n",
      "<hr><center>cloudflare</center>\n",
      "</body>\n",
      "</html>\n",
      "\n",
      "\n",
      "HTTPSConnectionPool(host='uksouth.api.cognitive.microsoft.com', port=443): Max retries exceeded with url: /face/v1.0/detect?returnFaceId=true&returnFaceLandmarks=false&returnFaceAttributes=age%2Cgender%2Csmile%2Cnoise (Caused by NewConnectionError('<urllib3.connection.VerifiedHTTPSConnection object at 0x1158f6ef0>: Failed to establish a new connection: [Errno 51] Network is unreachable',))\n",
      "HTTPSConnectionPool(host='uksouth.api.cognitive.microsoft.com', port=443): Max retries exceeded with url: /face/v1.0/detect?returnFaceId=true&returnFaceLandmarks=false&returnFaceAttributes=age%2Cgender%2Csmile%2Cnoise (Caused by NewConnectionError('<urllib3.connection.VerifiedHTTPSConnection object at 0x116e45a58>: Failed to establish a new connection: [Errno 8] nodename nor servname provided, or not known',))\n",
      "Error when calling Cognitive Face API:\n",
      "\tstatus_code: 403\n",
      "\tcode: 403\n",
      "\tmessage: <html>\n",
      "<head><title>403 Forbidden</title></head>\n",
      "<body bgcolor=\"white\">\n",
      "<center><h1>403 Forbidden</h1></center>\n",
      "<hr><center>cloudflare</center>\n",
      "</body>\n",
      "</html>\n",
      "\n",
      "\n",
      "HTTPSConnectionPool(host='uksouth.api.cognitive.microsoft.com', port=443): Max retries exceeded with url: /face/v1.0/detect?returnFaceId=true&returnFaceLandmarks=false&returnFaceAttributes=age%2Cgender%2Csmile%2Cnoise (Caused by NewConnectionError('<urllib3.connection.VerifiedHTTPSConnection object at 0x116e5b080>: Failed to establish a new connection: [Errno 51] Network is unreachable',))\n",
      "HTTPSConnectionPool(host='uksouth.api.cognitive.microsoft.com', port=443): Max retries exceeded with url: /face/v1.0/detect?returnFaceId=true&returnFaceLandmarks=false&returnFaceAttributes=age%2Cgender%2Csmile%2Cnoise (Caused by NewConnectionError('<urllib3.connection.VerifiedHTTPSConnection object at 0x116e599b0>: Failed to establish a new connection: [Errno 51] Network is unreachable',))\n",
      "HTTPSConnectionPool(host='uksouth.api.cognitive.microsoft.com', port=443): Max retries exceeded with url: /face/v1.0/detect?returnFaceId=true&returnFaceLandmarks=false&returnFaceAttributes=age%2Cgender%2Csmile%2Cnoise (Caused by NewConnectionError('<urllib3.connection.VerifiedHTTPSConnection object at 0x116e00550>: Failed to establish a new connection: [Errno 60] Operation timed out',))\n",
      "Error when calling Cognitive Face API:\n",
      "\tstatus_code: 403\n",
      "\tcode: 403\n",
      "\tmessage: <html>\n",
      "<head><title>403 Forbidden</title></head>\n",
      "<body bgcolor=\"white\">\n",
      "<center><h1>403 Forbidden</h1></center>\n",
      "<hr><center>cloudflare</center>\n",
      "</body>\n",
      "</html>\n",
      "\n",
      "\n",
      "HTTPSConnectionPool(host='uksouth.api.cognitive.microsoft.com', port=443): Max retries exceeded with url: /face/v1.0/detect?returnFaceId=true&returnFaceLandmarks=false&returnFaceAttributes=age%2Cgender%2Csmile%2Cnoise (Caused by NewConnectionError('<urllib3.connection.VerifiedHTTPSConnection object at 0x115d935c0>: Failed to establish a new connection: [Errno 60] Operation timed out',))\n",
      "HTTPSConnectionPool(host='uksouth.api.cognitive.microsoft.com', port=443): Max retries exceeded with url: /face/v1.0/detect?returnFaceId=true&returnFaceLandmarks=false&returnFaceAttributes=age%2Cgender%2Csmile%2Cnoise (Caused by NewConnectionError('<urllib3.connection.VerifiedHTTPSConnection object at 0x116e62160>: Failed to establish a new connection: [Errno 8] nodename nor servname provided, or not known',))\n",
      "HTTPSConnectionPool(host='uksouth.api.cognitive.microsoft.com', port=443): Max retries exceeded with url: /face/v1.0/detect?returnFaceId=true&returnFaceLandmarks=false&returnFaceAttributes=age%2Cgender%2Csmile%2Cnoise (Caused by NewConnectionError('<urllib3.connection.VerifiedHTTPSConnection object at 0x1157f2e48>: Failed to establish a new connection: [Errno 8] nodename nor servname provided, or not known',))\n",
      "HTTPSConnectionPool(host='uksouth.api.cognitive.microsoft.com', port=443): Max retries exceeded with url: /face/v1.0/detect?returnFaceId=true&returnFaceLandmarks=false&returnFaceAttributes=age%2Cgender%2Csmile%2Cnoise (Caused by NewConnectionError('<urllib3.connection.VerifiedHTTPSConnection object at 0x115d67dd8>: Failed to establish a new connection: [Errno 8] nodename nor servname provided, or not known',))\n",
      "HTTPSConnectionPool(host='uksouth.api.cognitive.microsoft.com', port=443): Max retries exceeded with url: /face/v1.0/detect?returnFaceId=true&returnFaceLandmarks=false&returnFaceAttributes=age%2Cgender%2Csmile%2Cnoise (Caused by NewConnectionError('<urllib3.connection.VerifiedHTTPSConnection object at 0x116e0c3c8>: Failed to establish a new connection: [Errno 8] nodename nor servname provided, or not known',))\n",
      "HTTPSConnectionPool(host='uksouth.api.cognitive.microsoft.com', port=443): Max retries exceeded with url: /face/v1.0/detect?returnFaceId=true&returnFaceLandmarks=false&returnFaceAttributes=age%2Cgender%2Csmile%2Cnoise (Caused by NewConnectionError('<urllib3.connection.VerifiedHTTPSConnection object at 0x116e0cc88>: Failed to establish a new connection: [Errno 60] Operation timed out',))\n",
      "Error when calling Cognitive Face API:\n",
      "\tstatus_code: 403\n",
      "\tcode: 403\n",
      "\tmessage: <html>\n",
      "<head><title>403 Forbidden</title></head>\n",
      "<body bgcolor=\"white\">\n",
      "<center><h1>403 Forbidden</h1></center>\n",
      "<hr><center>cloudflare</center>\n",
      "</body>\n",
      "</html>\n",
      "\n",
      "\n",
      "HTTPSConnectionPool(host='uksouth.api.cognitive.microsoft.com', port=443): Max retries exceeded with url: /face/v1.0/detect?returnFaceId=true&returnFaceLandmarks=false&returnFaceAttributes=age%2Cgender%2Csmile%2Cnoise (Caused by NewConnectionError('<urllib3.connection.VerifiedHTTPSConnection object at 0x116e40748>: Failed to establish a new connection: [Errno 51] Network is unreachable',))\n"
     ]
    }
   ],
   "source": [
    "for i in range(2, 20):\n",
    "    guests_df = pd.read_csv('guests/g_in_' + str(i) +'.csv', index_col=0)\n",
    "    cognitive_results = cog.create_cognitive_table(img_path, guests_df['id'].unique())\n",
    "    cognitive_results.to_csv('guests/g_out_' + str(i) +'.csv')"
   ]
  },
  {
   "cell_type": "code",
   "execution_count": null,
   "metadata": {},
   "outputs": [],
   "source": []
  }
 ],
 "metadata": {
  "kernelspec": {
   "display_name": "Python 3",
   "language": "python",
   "name": "python3"
  },
  "language_info": {
   "codemirror_mode": {
    "name": "ipython",
    "version": 3
   },
   "file_extension": ".py",
   "mimetype": "text/x-python",
   "name": "python",
   "nbconvert_exporter": "python",
   "pygments_lexer": "ipython3",
   "version": "3.6.2"
  }
 },
 "nbformat": 4,
 "nbformat_minor": 2
}
